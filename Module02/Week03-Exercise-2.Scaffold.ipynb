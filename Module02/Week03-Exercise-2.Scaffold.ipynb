{
 "cells": [
  {
   "cell_type": "markdown",
   "id": "005e5745",
   "metadata": {},
   "source": [
    "# Creating Networks from JSON Data\n",
    "\n",
    "This notebook contains an example that reads data from a file of movies `imdb_movies_2000to2022.prolific.json` and constructs a graph of actors. This dataset contains a sample of movies released betwen 2000-2022, their titles, genres, release years, ratings, and top-billed actors.\n",
    "\n",
    "Using this dataset, we build a graph and perform some rudimentary graph analysis, extracting centrality metrics from it."
   ]
  },
  {
   "cell_type": "code",
   "execution_count": null,
   "id": "a03d9d84",
   "metadata": {},
   "outputs": [],
   "source": [
    "%matplotlib inline"
   ]
  },
  {
   "cell_type": "code",
   "execution_count": null,
   "id": "beb8b451",
   "metadata": {},
   "outputs": [],
   "source": [
    "import json\n",
    "import random\n",
    "\n",
    "import numpy as np\n",
    "import pandas as pd\n",
    "import networkx as nx\n"
   ]
  },
  {
   "cell_type": "markdown",
   "id": "13796feb",
   "metadata": {},
   "source": [
    "## Exercise 1: Build Graph of Actors, Finding Most Prolific Actor\n",
    "\n",
    "The dataset contains a list of movies. We want to convert that list into a network of actors, where nodes represent the actor, and edges between them represent the movies in which the two actors have co-starred.\n",
    "\n",
    "From there, we want to rank the actors by the number of neighboring actors to whom they are connected, and print the top 10."
   ]
  },
  {
   "cell_type": "code",
   "execution_count": null,
   "id": "a216c0d3",
   "metadata": {},
   "outputs": [],
   "source": [
    "g = nx.Graph() # Build the graph"
   ]
  },
  {
   "cell_type": "code",
   "execution_count": null,
   "id": "e140b0ba",
   "metadata": {},
   "outputs": [],
   "source": [
    "with open(\"imdb_movies_2000to2022.prolific.json\", \"r\") as in_file:\n",
    "    for line in in_file:\n",
    "        \n",
    "        # Load the movie from this line\n",
    "        this_movie = json.loads(line)\n",
    "            \n",
    "        # Create a node for every actor\n",
    "        for actor_id,actor_name in this_movie['actors']:\n",
    "            # add the actor to the graph\n",
    "            raise Exception(\"Replace with your code here\")\n",
    "            \n",
    "        # Iterate through the list of actors, generating all pairs\n",
    "        #. Starting with the first actor in the list, generate pairs with all subsequent actors\n",
    "        #. then continue to second actor in the list and repeat\n",
    "        i = 0 # Counter in the list\n",
    "        for left_actor_id,left_actor_name in this_movie['actors']:\n",
    "            for right_actor_id,right_actor_name in this_movie['actors'][i+1:]:\n",
    "\n",
    "                # Get the current weight, if it exists\n",
    "                raise Exception(\"Replace with your code here\")\n",
    "                \n",
    "                # Add an edge for these actors\n",
    "                raise Exception(\"Replace with your code here\")\n",
    "                \n",
    "                # Print edges\n",
    "                print(left_actor_name, \"<->\", right_actor_name)\n",
    "                \n",
    "            i += 1 # increment the counter\n",
    "            \n",
    "        # TODO: Remove the break below to run all code\n",
    "        break"
   ]
  },
  {
   "cell_type": "code",
   "execution_count": null,
   "id": "1caef8ee",
   "metadata": {},
   "outputs": [],
   "source": [
    "print(\"Nodes:\", len(g.nodes))"
   ]
  },
  {
   "cell_type": "code",
   "execution_count": null,
   "id": "bdbfef8c",
   "metadata": {},
   "outputs": [],
   "source": []
  },
  {
   "cell_type": "code",
   "execution_count": null,
   "id": "c7abb333",
   "metadata": {},
   "outputs": [],
   "source": [
    "# If you want to explore this graph in Gephi or some other\n",
    "#. graph analysis tool, NetworkX makes it easy to export data.\n",
    "#. Here, we use the GraphML format, which Gephi can read \n",
    "#. natively, to keep node attributes like Actor Name\n",
    "nx.write_graphml(g, \"actors.graphml\")"
   ]
  },
  {
   "cell_type": "code",
   "execution_count": null,
   "id": "822c816b",
   "metadata": {},
   "outputs": [],
   "source": []
  },
  {
   "cell_type": "code",
   "execution_count": null,
   "id": "9626b8c8",
   "metadata": {},
   "outputs": [],
   "source": [
    "top_k = 10 # how many of the most central nodes to print"
   ]
  },
  {
   "cell_type": "code",
   "execution_count": null,
   "id": "2c5693cc",
   "metadata": {},
   "outputs": [],
   "source": []
  }
 ],
 "metadata": {
  "kernelspec": {
   "display_name": "Python 3 (ipykernel)",
   "language": "python",
   "name": "python3"
  },
  "language_info": {
   "codemirror_mode": {
    "name": "ipython",
    "version": 3
   },
   "file_extension": ".py",
   "mimetype": "text/x-python",
   "name": "python",
   "nbconvert_exporter": "python",
   "pygments_lexer": "ipython3",
   "version": "3.9.12"
  }
 },
 "nbformat": 4,
 "nbformat_minor": 5
}
