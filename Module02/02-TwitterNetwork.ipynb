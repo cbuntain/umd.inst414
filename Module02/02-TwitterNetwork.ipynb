{
 "cells": [
  {
   "cell_type": "markdown",
   "metadata": {
    "collapsed": true
   },
   "source": [
    "# Using Tweepy to Create Networks\n",
    "\n",
    "This notebook contains examples for using web-based APIs (Application Programmer Interfaces) to download data from social media platforms.\n",
    "\n",
    "This notebook focuses specifically on _Twitter_.\n",
    "\n",
    "We will use this API to create a network from the Twitter data, using the friend/follower graph."
   ]
  },
  {
   "cell_type": "code",
   "execution_count": null,
   "metadata": {},
   "outputs": [],
   "source": [
    "# First we need to make sure we have tweepy installed...\n",
    "!pip install tweepy"
   ]
  },
  {
   "cell_type": "code",
   "execution_count": null,
   "metadata": {},
   "outputs": [],
   "source": [
    "%matplotlib inline\n",
    "\n",
    "import time\n",
    "import json"
   ]
  },
  {
   "cell_type": "markdown",
   "metadata": {},
   "source": [
    "<hr>\n",
    "\n",
    "Import the `NetworkX` package"
   ]
  },
  {
   "cell_type": "code",
   "execution_count": null,
   "metadata": {},
   "outputs": [],
   "source": [
    "# First we need to make sure we have networkx installed...\n",
    "!pip install networkx\n",
    "\n",
    "import networkx as nx"
   ]
  },
  {
   "cell_type": "markdown",
   "metadata": {},
   "source": [
    "<hr>\n",
    "\n",
    "## Twitter API\n",
    "\n",
    "Twitter's API is useful and flexible but takes several steps to configure. \n",
    "To get access to the API, you first need to have a Twitter account and have a mobile phone number (or any number that can receive text messages) attached to that account.\n",
    "Then, we'll use Twitter's developer portal to create an \"app\" that will then give us the keys and tokens (essentially IDs and passwords) we will need to connect to the API.\n",
    "\n",
    "So, in summary, the general steps are:\n",
    "\n",
    "0. Have a Twitter account,\n",
    "1. Configure your Twitter account with your mobile number,\n",
    "2. Create an app on Twitter's developer site, and\n",
    "3. Generate consumer and access keys and secrets or _bearer tokens_.\n",
    "\n",
    "We will then plug these strings into the code below."
   ]
  },
  {
   "cell_type": "code",
   "execution_count": null,
   "metadata": {},
   "outputs": [],
   "source": [
    "# For our first piece of code, we need to import the package \n",
    "# that connects to Twitter. Tweepy is a popular and fully featured\n",
    "# implementation.\n",
    "\n",
    "import tweepy"
   ]
  },
  {
   "cell_type": "markdown",
   "metadata": {},
   "source": [
    "### Creating Twitter Credentials\n",
    "\n",
    "For more in-depth instructions for creating a Twitter account and/or setting up a Twitter account to use the following code, I have provided content in the lecture.\n",
    "\n",
    "You can also visit [this Medium post](https://towardsdatascience.com/ultimate-beginners-guide-to-collecting-text-for-natural-language-processing-nlp-with-python-256d113e6184) for a good overview of several data collection approaches or [this Twitter-specific Medium post](https://towardsdatascience.com/how-to-access-twitters-api-using-tweepy-5a13a206683b) for a slightly outdated version.\n"
   ]
  },
  {
   "cell_type": "code",
   "execution_count": null,
   "metadata": {},
   "outputs": [],
   "source": [
    "# Use the strings from your Twitter app webpage to populate these  \n",
    "# variables. Be sure and put the strings BETWEEN the quotation marks\n",
    "# to make it a valid Python string.\n",
    "\n",
    "api_key = \"xxx\"\n",
    "api_secret = \"xxx\"\n",
    "bearer_token = \"xxx\"\n"
   ]
  },
  {
   "cell_type": "markdown",
   "metadata": {},
   "source": [
    "### Connecting to Twitter\n",
    "\n",
    "Once we have the authentication details set, we can connect to Twitter using the Tweepy OAuth handler, as below."
   ]
  },
  {
   "cell_type": "code",
   "execution_count": null,
   "metadata": {},
   "outputs": [],
   "source": [
    "# Now we use the configured authentication information to connect\n",
    "# to Twitter's API\n",
    "auth = tweepy.AppAuthHandler(api_key, api_secret)\n",
    "\n",
    "api = tweepy.API(auth, wait_on_rate_limit=True)\n",
    "\n",
    "print(\"Connected to Twitter!\")"
   ]
  },
  {
   "cell_type": "code",
   "execution_count": null,
   "metadata": {},
   "outputs": [],
   "source": []
  },
  {
   "cell_type": "code",
   "execution_count": null,
   "metadata": {},
   "outputs": [],
   "source": [
    "g = nx.Graph()\n",
    "\n",
    "target = \"codybuntain\"\n",
    "total_friends = 20\n",
    "\n",
    "# Get the first few friends of mine and first few of each of them\n",
    "#  and add their links to the graph\n",
    "for friend in tweepy.Cursor(api.friends, id=target).items(total_friends):\n",
    "    g.add_node(friend.screen_name)\n",
    "    g.add_edge(target, friend.screen_name)\n",
    "    print(\"Processing:\", friend.screen_name)\n",
    "    \n",
    "    for friend_of_friend in tweepy.Cursor(api.friends, id=friend.screen_name).items(total_friends):\n",
    "        g.add_node(friend_of_friend.screen_name)\n",
    "        g.add_edge(friend.screen_name, friend_of_friend.screen_name)\n",
    "        print(\"\\t->\", friend_of_friend.screen_name)"
   ]
  },
  {
   "cell_type": "markdown",
   "metadata": {},
   "source": [
    "### Export Graph\n",
    "\n",
    "We export the graph using GraphML in `NetworkX`, so we can load it in other software later.\n",
    "\n",
    "Note, we could use other formats here as well. GraphML is just convenient."
   ]
  },
  {
   "cell_type": "code",
   "execution_count": null,
   "metadata": {},
   "outputs": [],
   "source": [
    "nx.write_graphml(g, \"output.twitter.graphml\", prettyprint=False)"
   ]
  },
  {
   "cell_type": "markdown",
   "metadata": {},
   "source": [
    "### Draw the Graph\n",
    "\n",
    "Now that we've made the graph, let's draw it using the layout algorithms in `NetworkX`.\n",
    "\n",
    "_NOTE_: `NetworkX` is not meant for graph layouts. We only do this for illustrative purposes."
   ]
  },
  {
   "cell_type": "code",
   "execution_count": null,
   "metadata": {},
   "outputs": [],
   "source": [
    "import matplotlib.pyplot as plt"
   ]
  },
  {
   "cell_type": "code",
   "execution_count": null,
   "metadata": {},
   "outputs": [],
   "source": [
    "# Use the Spring layout algorithm\n",
    "pos = nx.spring_layout(g, scale=200, iterations=100, k=0.2)\n",
    "\n",
    "# And draw the graph with node labels\n",
    "nx.draw(g, \n",
    "        pos, \n",
    "        node_color='#A0CBE2', \n",
    "        width=1, \n",
    "        with_labels=True,\n",
    "        node_size=50)"
   ]
  },
  {
   "cell_type": "code",
   "execution_count": null,
   "metadata": {},
   "outputs": [],
   "source": []
  }
 ],
 "metadata": {
  "kernelspec": {
   "display_name": "Python 3",
   "language": "python",
   "name": "python3"
  },
  "language_info": {
   "codemirror_mode": {
    "name": "ipython",
    "version": 3
   },
   "file_extension": ".py",
   "mimetype": "text/x-python",
   "name": "python",
   "nbconvert_exporter": "python",
   "pygments_lexer": "ipython3",
   "version": "3.7.0"
  }
 },
 "nbformat": 4,
 "nbformat_minor": 1
}
