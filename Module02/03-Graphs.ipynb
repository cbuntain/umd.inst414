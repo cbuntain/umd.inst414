{
 "cells": [
  {
   "cell_type": "markdown",
   "id": "005e5745",
   "metadata": {},
   "source": [
    "# Creating Networks from JSON Data\n",
    "\n",
    "This notebook contains an example that reads data from a file of movies `imdb_recent_movies.json` and constructs a graph of actors. This dataset contains a sample of movies released betwen 2000-2020, their titles, genres, release years, and top-billed actors.\n",
    "\n",
    "Using this dataset, we build a graph and perform some rudimentary graph analysis, extracting centrality metrics from it."
   ]
  },
  {
   "cell_type": "code",
   "execution_count": 1,
   "id": "a03d9d84",
   "metadata": {},
   "outputs": [],
   "source": [
    "%matplotlib inline"
   ]
  },
  {
   "cell_type": "code",
   "execution_count": 11,
   "id": "beb8b451",
   "metadata": {},
   "outputs": [],
   "source": [
    "import json\n",
    "import random\n",
    "\n",
    "import numpy as np\n",
    "import pandas as pd\n",
    "import networkx as nx\n"
   ]
  },
  {
   "cell_type": "code",
   "execution_count": null,
   "id": "536a65b0",
   "metadata": {},
   "outputs": [],
   "source": []
  },
  {
   "cell_type": "code",
   "execution_count": 3,
   "id": "e140b0ba",
   "metadata": {},
   "outputs": [],
   "source": [
    "g = nx.Graph()\n",
    "\n",
    "with open(\"../data/imdb_recent_movies.json\", \"r\") as in_file:\n",
    "    for line in in_file:\n",
    "        \n",
    "        this_movie = json.loads(line)\n",
    "            \n",
    "        for actor_id,actor_name in zip(this_movie['actor_ids'],this_movie['actor_names']):\n",
    "            g.add_node(actor_id, name=actor_name)\n",
    "            \n",
    "        # Iterate through the list of actors, generating all pairs\n",
    "        #. Starting with the first actor in the list, generate pairs with all subsequent actors\n",
    "        #. then continue to second actor in the list and repeat\n",
    "        for i,left_actor_id in enumerate(this_movie['actor_ids']):\n",
    "            for j,right_actor_id in enumerate(this_movie['actor_ids'][i+1:]):\n",
    "                g.add_edge(left_actor_id, right_actor_id)"
   ]
  },
  {
   "cell_type": "code",
   "execution_count": null,
   "id": "c5a4bf23",
   "metadata": {},
   "outputs": [],
   "source": []
  },
  {
   "cell_type": "code",
   "execution_count": 4,
   "id": "1caef8ee",
   "metadata": {},
   "outputs": [
    {
     "name": "stdout",
     "output_type": "stream",
     "text": [
      "Nodes: 258059\n"
     ]
    }
   ],
   "source": [
    "print(\"Nodes:\", len(g.nodes))"
   ]
  },
  {
   "cell_type": "code",
   "execution_count": null,
   "id": "822c816b",
   "metadata": {},
   "outputs": [],
   "source": []
  },
  {
   "cell_type": "code",
   "execution_count": 5,
   "id": "9626b8c8",
   "metadata": {},
   "outputs": [],
   "source": [
    "top_k = 20 # how many of the most central nodes to print"
   ]
  },
  {
   "cell_type": "code",
   "execution_count": 6,
   "id": "70f17021",
   "metadata": {},
   "outputs": [
    {
     "name": "stdout",
     "output_type": "stream",
     "text": [
      "nm0103977 Brahmanandam 0.0015151632578722612\n",
      "nm0000616 Eric Roberts 0.0014221609095629664\n",
      "nm0430803 Mohan Joshi 0.0012322811150981563\n",
      "nm0043199 Avinash 0.0009532740701702718\n",
      "nm0621937 Nassar 0.0009493989723240512\n",
      "nm0695177 Prakash Raj 0.0009028977981694038\n",
      "nm0007106 Shakti Kapoor 0.0008990227003231831\n",
      "nm0019382 Mohammad Ali 0.00087964721109208\n",
      "nm2794335 Sadhu Kokila 0.0008370211347836533\n",
      "nm0348004 Milind Gunaji 0.0008331460369374326\n",
      "nm1428724 Indrans 0.0008098954498601089\n",
      "nm0080238 Tanikella Bharani 0.0008060203520138883\n",
      "nm0000514 Michael Madsen 0.0007982701563214471\n",
      "nm0001744 Tom Sizemore 0.0007982701563214471\n",
      "nm0149822 Mithun Chakraborty 0.0007711444713979028\n",
      "nm2516110 Vijay Chavan 0.0007633942757054615\n",
      "nm0613417 Raza Murad 0.000759519177859241\n",
      "nm0457410 Ravi Kishan 0.0007207681993970348\n",
      "nm0793851 Sayaji Shinde 0.0007013927101659317\n",
      "nm0154164 Soumitra Chatterjee 0.000697517612319711\n"
     ]
    }
   ],
   "source": [
    "# Calculate degree centrality for all nodes\n",
    "centrality_degree = nx.degree_centrality(g)\n",
    "\n",
    "# sort node-centrality dictionary by metric, and reverse to get top elements first\n",
    "for u in sorted(centrality_degree, key=centrality_degree.get, reverse=True)[:top_k]:\n",
    "    print(u, g.nodes[u]['name'], centrality_degree[u])"
   ]
  },
  {
   "cell_type": "code",
   "execution_count": null,
   "id": "2c5693cc",
   "metadata": {},
   "outputs": [],
   "source": []
  },
  {
   "cell_type": "code",
   "execution_count": 7,
   "id": "5a68762a",
   "metadata": {},
   "outputs": [
    {
     "name": "stdout",
     "output_type": "stream",
     "text": [
      "nm0000616 Eric Roberts 0.00020609746419771868\n",
      "nm0103977 Brahmanandam 0.0001309154112569784\n",
      "nm0000514 Michael Madsen 0.00010490813181478702\n",
      "nm0001744 Tom Sizemore 0.00010419155466627456\n",
      "nm0222881 Tony Devon 0.00010143582617672207\n",
      "nm0043199 Avinash 9.816783252911795e-05\n",
      "nm0430803 Mohan Joshi 9.696248339822569e-05\n",
      "nm0442207 Lloyd Kaufman 9.351832464062323e-05\n",
      "nm0001803 Danny Trejo 8.717062975430143e-05\n",
      "nm0621937 Nassar 8.104883709149782e-05\n",
      "nm1678610 Theodore Bouloukos 7.775747144743598e-05\n",
      "nm2794335 Sadhu Kokila 7.773029843341316e-05\n",
      "nm1693209 Ramesh Bhat 7.4643592320913e-05\n",
      "nm0261724 Joe Estevez 7.368889228419007e-05\n",
      "nm0348004 Milind Gunaji 7.346952063967529e-05\n",
      "nm2278431 Joe Hammerstone 7.34334914900745e-05\n",
      "nm0007106 Shakti Kapoor 7.265475165760194e-05\n",
      "nm0154164 Soumitra Chatterjee 7.151535414798184e-05\n",
      "nm0080238 Tanikella Bharani 7.099628184855312e-05\n",
      "nm5724719 Achyuth Kumar 6.73349599471373e-05\n"
     ]
    }
   ],
   "source": [
    "centrality_pagerank = nx.pagerank(g)\n",
    "for u in sorted(centrality_pagerank, key=centrality_pagerank.get, reverse=True)[:top_k]:\n",
    "    print(u, g.nodes[u]['name'], centrality_pagerank[u])"
   ]
  },
  {
   "cell_type": "code",
   "execution_count": null,
   "id": "a48a10c8",
   "metadata": {},
   "outputs": [],
   "source": []
  },
  {
   "cell_type": "code",
   "execution_count": 8,
   "id": "c7557738",
   "metadata": {},
   "outputs": [
    {
     "name": "stdout",
     "output_type": "stream",
     "text": [
      "nm0001744 Tom Sizemore 0.03129550923940693\n",
      "nm0694361 Tyrone Power Jr. 0.026353682584371072\n",
      "nm0097557 Umberto Bortolani 0.026330225501327822\n",
      "nm0269442 Brett Favre 0.026315218401416953\n",
      "nm0327342 Richard Gonlag 0.026315218401416953\n",
      "nm3260926 Paulo Tiefenthaler 0.02631211829911367\n",
      "nm0001298 Richard Grieco 0.026086338984792547\n",
      "nm8172087 Nick Ford 0.025859464059391744\n",
      "nm2707894 Bertie Higgins 0.025853042084638875\n",
      "nm1418843 Bill Flynn 0.02439139396108042\n",
      "nm1141101 Milhem Cortaz 0.02374734067174757\n",
      "nm0001698 John Savage 0.023616287841910735\n",
      "nm0396069 Hasan Husni 0.023046985665156918\n",
      "nm0001384 Ice-T 0.02167118763964144\n",
      "nm0541509 Ray 'Boom Boom' Mancini 0.020671862073852052\n",
      "nm0559890 Ulrich Matthes 0.020617669291584383\n",
      "nm0873365 Fabio Troiano 0.01993545057047806\n",
      "nm0541908 Costas Mandylor 0.01977817341907528\n",
      "nm0000514 Michael Madsen 0.019588480093793544\n",
      "nm0179224 Barry Corbin 0.019540641159923242\n"
     ]
    }
   ],
   "source": [
    "centrality_btwn = nx.betweenness_centrality(g, k=20)\n",
    "for u in sorted(centrality_btwn, key=centrality_btwn.get, reverse=True)[:top_k]:\n",
    "    print(u, g.nodes[u]['name'], centrality_btwn[u])"
   ]
  },
  {
   "cell_type": "code",
   "execution_count": null,
   "id": "f66cf631",
   "metadata": {},
   "outputs": [],
   "source": []
  },
  {
   "cell_type": "code",
   "execution_count": 9,
   "id": "68461447",
   "metadata": {},
   "outputs": [],
   "source": [
    "# Simple function for choosing a random neigbor\n",
    "#. from a node in a given graph\n",
    "def walk(this_node, this_g):\n",
    "    \n",
    "    this_neighbors = list(this_g.neighbors(this_node))\n",
    "    \n",
    "    return random.choice(this_neighbors)"
   ]
  },
  {
   "cell_type": "code",
   "execution_count": 12,
   "id": "d7449548",
   "metadata": {},
   "outputs": [],
   "source": [
    "node_list = list(g.nodes) # get all nodes\n",
    "\n",
    "endpoints = {}\n",
    "\n",
    "sim_n = 1000 # How many simulations to run?\n",
    "for run_count in range(sim_n):\n",
    "\n",
    "    # Select a random node\n",
    "    node = random.choice(node_list)\n",
    "    \n",
    "    # If this node is isolated, skip it\n",
    "    if g.degree(node) == 0:\n",
    "        continue\n",
    "    \n",
    "    # Random walk \n",
    "    next_node = node\n",
    "    for i in range(10): # walk along 10 nodes in the graph\n",
    "        next_node = walk(next_node, g)\n",
    "    \n",
    "    # What's the top endpoint at the end of this walk?\n",
    "    endpoints[next_node] = endpoints.get(next_node, 0) + 1\n"
   ]
  },
  {
   "cell_type": "code",
   "execution_count": null,
   "id": "691c0f01",
   "metadata": {},
   "outputs": [],
   "source": []
  },
  {
   "cell_type": "code",
   "execution_count": 13,
   "id": "2601edf1",
   "metadata": {},
   "outputs": [
    {
     "name": "stdout",
     "output_type": "stream",
     "text": [
      "nm0000616 Eric Roberts 0.000238\n",
      "nm0103977 Brahmanandam 0.000169\n",
      "nm0430803 Mohan Joshi 0.000149\n",
      "nm0000514 Michael Madsen 0.000148\n",
      "nm0001744 Tom Sizemore 0.000143\n",
      "nm0695177 Prakash Raj 0.000132\n",
      "nm0001803 Danny Trejo 0.000129\n",
      "nm0007106 Shakti Kapoor 0.000119\n",
      "nm0222881 Tony Devon 0.000118\n",
      "nm0442207 Lloyd Kaufman 0.000115\n"
     ]
    }
   ],
   "source": [
    "# Sort the endpoints by their frequency and weight by simulation run\n",
    "#. This ranking should be approximately following the PageRank centrality above\n",
    "for node_name in sorted(endpoints, key=endpoints.get, reverse=True)[:10]:\n",
    "    print(node_name, g.nodes[node_name]['name'], endpoints[node_name] / sim_n)\n",
    "    "
   ]
  },
  {
   "cell_type": "code",
   "execution_count": null,
   "id": "bfacbdda",
   "metadata": {},
   "outputs": [],
   "source": []
  }
 ],
 "metadata": {
  "kernelspec": {
   "display_name": "Python 3",
   "language": "python",
   "name": "python3"
  },
  "language_info": {
   "codemirror_mode": {
    "name": "ipython",
    "version": 3
   },
   "file_extension": ".py",
   "mimetype": "text/x-python",
   "name": "python",
   "nbconvert_exporter": "python",
   "pygments_lexer": "ipython3",
   "version": "3.8.8"
  }
 },
 "nbformat": 4,
 "nbformat_minor": 5
}
