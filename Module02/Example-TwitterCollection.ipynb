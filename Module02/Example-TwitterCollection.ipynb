{
 "cells": [
  {
   "cell_type": "markdown",
   "metadata": {
    "collapsed": true
   },
   "source": [
    "# Collecting Twitter Data with Tweepy\n",
    "\n",
    "This notebook contains examples for using web-based APIs (Application Programmer Interfaces) to download data from social media platforms.\n",
    "\n",
    "This notebook focuses specifically on _Twitter_.\n",
    "\n",
    "For most services, we need to register with the platform in order to use their API.\n",
    "Instructions for the registration processes are outlined in each specific section below.\n",
    "\n",
    "We will use APIs because they *can* be much faster than manually copying and pasting data from the web site, APIs provide uniform methods for accessing resources (searching for keywords, places, or dates), and it should conform to the platform's terms of service (important for partnering and publications).\n",
    "Note however that each of these platforms has strict limits on access times: e.g., requests per hour, search history depth, maximum number of items returned per request, and similar."
   ]
  },
  {
   "cell_type": "code",
   "execution_count": null,
   "metadata": {},
   "outputs": [],
   "source": [
    "# First we need to make sure we have tweepy installed...\n",
    "!pip install tweepy"
   ]
  },
  {
   "cell_type": "code",
   "execution_count": null,
   "metadata": {},
   "outputs": [],
   "source": [
    "%matplotlib inline\n",
    "\n",
    "import time\n",
    "import json"
   ]
  },
  {
   "cell_type": "markdown",
   "metadata": {},
   "source": [
    "<hr>\n",
    "\n",
    "## Twitter API\n",
    "\n",
    "Twitter's API is useful and flexible but takes several steps to configure. \n",
    "To get access to the API, you first need to have a Twitter account and have a mobile phone number (or any number that can receive text messages) attached to that account.\n",
    "Then, we'll use Twitter's developer portal to create an \"app\" that will then give us the keys and tokens (essentially IDs and passwords) we will need to connect to the API.\n",
    "\n",
    "So, in summary, the general steps are:\n",
    "\n",
    "0. Have a Twitter account,\n",
    "1. Configure your Twitter account with your mobile number,\n",
    "2. Create an app on Twitter's developer site, and\n",
    "3. Generate consumer and access keys and secrets or _bearer tokens_.\n",
    "\n",
    "We will then plug these strings into the code below."
   ]
  },
  {
   "cell_type": "code",
   "execution_count": null,
   "metadata": {},
   "outputs": [],
   "source": [
    "# For our first piece of code, we need to import the package \n",
    "# that connects to Twitter. Tweepy is a popular and fully featured\n",
    "# implementation.\n",
    "\n",
    "import tweepy"
   ]
  },
  {
   "cell_type": "markdown",
   "metadata": {},
   "source": [
    "### Creating Twitter Credentials\n",
    "\n",
    "For more in-depth instructions for creating a Twitter account and/or setting up a Twitter account to use the following code, I have provided content in the lecture.\n",
    "\n",
    "You can also visit [this Medium post](https://towardsdatascience.com/ultimate-beginners-guide-to-collecting-text-for-natural-language-processing-nlp-with-python-256d113e6184) for a good overview of several data collection approaches or [this Twitter-specific Medium post](https://towardsdatascience.com/how-to-access-twitters-api-using-tweepy-5a13a206683b) for a slightly outdated version.\n"
   ]
  },
  {
   "cell_type": "code",
   "execution_count": null,
   "metadata": {},
   "outputs": [],
   "source": [
    "# Use the strings from your Twitter app webpage to populate these  \n",
    "# variables. Be sure and put the strings BETWEEN the quotation marks\n",
    "# to make it a valid Python string.\n",
    "\n",
    "api_key = \"xxx\"\n",
    "api_secret = \"xxx\"\n",
    "bearer_token = \"xxx\"\n"
   ]
  },
  {
   "cell_type": "markdown",
   "metadata": {},
   "source": [
    "### Connecting to Twitter\n",
    "\n",
    "Once we have the authentication details set, we can connect to Twitter using the Tweepy OAuth handler, as below."
   ]
  },
  {
   "cell_type": "code",
   "execution_count": null,
   "metadata": {},
   "outputs": [],
   "source": [
    "# Now we use the configured authentication information to connect\n",
    "# to Twitter's API\n",
    "auth = tweepy.AppAuthHandler(api_key, api_secret)\n",
    "\n",
    "api = tweepy.API(auth)\n",
    "\n",
    "print(\"Connected to Twitter!\")"
   ]
  },
  {
   "cell_type": "markdown",
   "metadata": {},
   "source": [
    "### Testing our Connection\n",
    "\n",
    "Now that we are connected to Twitter, let's do a brief check that we can read tweets by pulling the first few tweets from the New York Times' timeline and printing them."
   ]
  },
  {
   "cell_type": "code",
   "execution_count": null,
   "metadata": {},
   "outputs": [],
   "source": [
    "target = \"nytimes\"\n",
    "total_tweets = 10\n",
    "\n",
    "# Call user_timeline() to get the first few tweets from the given user\n",
    "#. and iterate through them\n",
    "for tweet_obj in api.user_timeline(id=target, count=total_tweets, tweet_mode=\"extended\"):\n",
    "    tweet = tweet_obj._json\n",
    "    print(tweet[\"id\"], tweet[\"created_at\"], tweet[\"user\"][\"screen_name\"], tweet[\"full_text\"])"
   ]
  },
  {
   "cell_type": "markdown",
   "metadata": {},
   "source": [
    "### Dealing with Pages\n",
    "\n",
    "As mentioned, Twitter serves results in pages. \n",
    "To get all results, we can use Tweepy's Cursor implementation, which handles this iteration through pages for us in the background."
   ]
  },
  {
   "cell_type": "code",
   "execution_count": null,
   "metadata": {},
   "outputs": [],
   "source": [
    "target = \"nytimes\"\n",
    "total_tweets = 10\n",
    "\n",
    "# Call user_timeline() by first using the Cursor object, and using user_timeline\n",
    "#. as an argument to it.\n",
    "for tweet_obj in tweepy.Cursor(api.user_timeline, id=target, tweet_mode=\"extended\").items(total_tweets):\n",
    "    tweet = tweet_obj._json\n",
    "    print(tweet[\"id\"], tweet[\"created_at\"], tweet[\"user\"][\"screen_name\"], tweet[\"full_text\"])"
   ]
  },
  {
   "cell_type": "code",
   "execution_count": null,
   "metadata": {},
   "outputs": [],
   "source": []
  },
  {
   "cell_type": "code",
   "execution_count": null,
   "metadata": {},
   "outputs": [],
   "source": [
    "# Handler for waiting if we exhaust a rate limit\n",
    "def limit_handled(cursor):\n",
    "    while True:\n",
    "\n",
    "        try:\n",
    "            yield cursor.next()\n",
    "        except tweepy.RateLimitError:\n",
    "            # Determine how long we need to wait...\n",
    "            s = api.rate_limit_status()\n",
    "            dif = s[\"resources\"]['friends']['/friends/list']['reset'] - int(time.time())\n",
    "            \n",
    "            # If we have a wait time, wait for it\n",
    "            if ( dif > 0 ):\n",
    "                print(\"Sleeping for %d seconds...\" % dif)\n",
    "                time.sleep(dif)\n",
    "        except:\n",
    "            break"
   ]
  },
  {
   "cell_type": "code",
   "execution_count": null,
   "metadata": {},
   "outputs": [],
   "source": [
    "target = \"codybuntain\"\n",
    "total_friends = 5\n",
    "\n",
    "# Get the first few friends of mine and first few of each of them\n",
    "for friend in limit_handled(tweepy.Cursor(api.friends, id=target).items(total_friends)):\n",
    "    print(target, \"->\", friend.screen_name)\n",
    "    \n",
    "    for friend_of_friend in limit_handled(tweepy.Cursor(api.friends, id=friend.screen_name).items(total_friends)):\n",
    "        print(\"\\t->\", friend_of_friend.screen_name)"
   ]
  },
  {
   "cell_type": "code",
   "execution_count": null,
   "metadata": {},
   "outputs": [],
   "source": []
  }
 ],
 "metadata": {
  "kernelspec": {
   "display_name": "Python 3",
   "language": "python",
   "name": "python3"
  },
  "language_info": {
   "codemirror_mode": {
    "name": "ipython",
    "version": 3
   },
   "file_extension": ".py",
   "mimetype": "text/x-python",
   "name": "python",
   "nbconvert_exporter": "python",
   "pygments_lexer": "ipython3",
   "version": "3.7.0"
  }
 },
 "nbformat": 4,
 "nbformat_minor": 1
}
