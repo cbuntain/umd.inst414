{
 "cells": [
  {
   "cell_type": "markdown",
   "id": "005e5745",
   "metadata": {},
   "source": [
    "# Creating Networks from JSON Data\n",
    "\n",
    "This notebook contains an example that reads data from a file of movies `../data/imdb_movies_1985to2022.json` and constructs a graph of actors. This dataset contains a sample of movies released betwen 2000-2022, their titles, genres, release years, ratings, and top-billed actors.\n",
    "\n",
    "Using this dataset, we build a graph and perform some rudimentary graph analysis, extracting centrality metrics from it."
   ]
  },
  {
   "cell_type": "code",
   "execution_count": 1,
   "id": "a03d9d84",
   "metadata": {},
   "outputs": [],
   "source": [
    "%matplotlib inline"
   ]
  },
  {
   "cell_type": "code",
   "execution_count": 2,
   "id": "beb8b451",
   "metadata": {},
   "outputs": [],
   "source": [
    "import json\n",
    "import random\n",
    "\n",
    "import numpy as np\n",
    "import pandas as pd\n",
    "import networkx as nx\n"
   ]
  },
  {
   "cell_type": "markdown",
   "id": "13796feb",
   "metadata": {},
   "source": [
    "## Exercise 1: Build Graph of Actors, Finding Most Prolific Actor\n",
    "\n",
    "The dataset contains a list of movies. We want to convert that list into a network of actors, where nodes represent the actor, and edges between them represent the movies in which the two actors have co-starred.\n",
    "\n",
    "From there, we want to rank the actors by the number of neighboring actors to whom they are connected, and print the top 10."
   ]
  },
  {
   "cell_type": "code",
   "execution_count": 4,
   "id": "a216c0d3",
   "metadata": {},
   "outputs": [],
   "source": [
    "g = nx.Graph() # Build the graph"
   ]
  },
  {
   "cell_type": "code",
   "execution_count": 5,
   "id": "e140b0ba",
   "metadata": {},
   "outputs": [],
   "source": [
    "with open(\"../data/imdb_movies_1985to2022.json\", \"r\") as in_file:\n",
    "    for line in in_file:\n",
    "        \n",
    "        # Load the movie from this line\n",
    "        this_movie = json.loads(line)\n",
    "            \n",
    "        # Create a node for every actor\n",
    "        for actor_id,actor_name in this_movie['actors']:\n",
    "            g.add_node(actor_id, name=actor_name)\n",
    "            \n",
    "        # Iterate through the list of actors, generating all pairs\n",
    "        #. Starting with the first actor in the list, generate pairs with all subsequent actors\n",
    "        #. then continue to second actor in the list and repeat\n",
    "        i = 0 # Counter in the list\n",
    "        for left_actor_id,left_actor_name in this_movie['actors']:\n",
    "            for right_actor_id,right_actor_name in this_movie['actors'][i+1:]:\n",
    "                # Get the current weight, if it exists\n",
    "                current_weight = g.get_edge_data(left_actor_id, right_actor_id, default={\"weight\":0})[\"weight\"]\n",
    "                \n",
    "                # Add an edge for these actors\n",
    "                g.add_edge(left_actor_id, right_actor_id, weight=current_weight+1)\n",
    "                \n",
    "            i += 1 # increment the counter"
   ]
  },
  {
   "cell_type": "code",
   "execution_count": 6,
   "id": "1caef8ee",
   "metadata": {},
   "outputs": [
    {
     "name": "stdout",
     "output_type": "stream",
     "text": [
      "Nodes: 34360\n"
     ]
    }
   ],
   "source": [
    "print(\"Nodes:\", len(g.nodes))"
   ]
  },
  {
   "cell_type": "code",
   "execution_count": null,
   "id": "bdbfef8c",
   "metadata": {},
   "outputs": [],
   "source": []
  },
  {
   "cell_type": "code",
   "execution_count": 7,
   "id": "c7abb333",
   "metadata": {},
   "outputs": [],
   "source": [
    "# If you want to explore this graph in Gephi or some other\n",
    "#. graph analysis tool, NetworkX makes it easy to export data.\n",
    "#. Here, we use the GraphML format, which Gephi can read \n",
    "#. natively, to keep node attributes like Actor Name\n",
    "nx.write_graphml(g, \"actors.graphml\")"
   ]
  },
  {
   "cell_type": "code",
   "execution_count": null,
   "id": "822c816b",
   "metadata": {},
   "outputs": [],
   "source": []
  },
  {
   "cell_type": "code",
   "execution_count": 10,
   "id": "9626b8c8",
   "metadata": {},
   "outputs": [],
   "source": [
    "top_k = 10 # how many of the most central nodes to print"
   ]
  },
  {
   "cell_type": "code",
   "execution_count": 11,
   "id": "70f17021",
   "metadata": {},
   "outputs": [
    {
     "name": "stdout",
     "output_type": "stream",
     "text": [
      "nm0000616 Eric Roberts 0.002391219855268272\n",
      "nm0000514 Michael Madsen 0.0012807462382706226\n",
      "nm0001744 Tom Sizemore 0.0011400862467842536\n",
      "nm0261724 Joe Estevez 0.001121578353167626\n",
      "nm0001803 Danny Trejo 0.001025337306361163\n",
      "nm0000115 Nicolas Cage 0.0009587088893413041\n",
      "nm0442207 Lloyd Kaufman 0.0009476041531713276\n",
      "nm0004193 Debbie Rochon 0.0008994836297680961\n",
      "nm0000246 Bruce Willis 0.0008920804723214451\n",
      "nm0000448 Lance Henriksen 0.0008772741574281432\n"
     ]
    }
   ],
   "source": [
    "# Calculate degree centrality for all nodes\n",
    "centrality_degree = nx.degree_centrality(g)\n",
    "\n",
    "# sort node-centrality dictionary by metric, and reverse to get top elements first\n",
    "for u in sorted(centrality_degree, key=centrality_degree.get, reverse=True)[:top_k]:\n",
    "    print(u, g.nodes[u]['name'], centrality_degree[u])"
   ]
  },
  {
   "cell_type": "code",
   "execution_count": null,
   "id": "2c5693cc",
   "metadata": {},
   "outputs": [],
   "source": []
  }
 ],
 "metadata": {
  "kernelspec": {
   "display_name": "Python 3 (ipykernel)",
   "language": "python",
   "name": "python3"
  },
  "language_info": {
   "codemirror_mode": {
    "name": "ipython",
    "version": 3
   },
   "file_extension": ".py",
   "mimetype": "text/x-python",
   "name": "python",
   "nbconvert_exporter": "python",
   "pygments_lexer": "ipython3",
   "version": "3.9.12"
  }
 },
 "nbformat": 4,
 "nbformat_minor": 5
}
