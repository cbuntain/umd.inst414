{
 "cells": [
  {
   "cell_type": "markdown",
   "id": "56fb9ab7",
   "metadata": {},
   "source": [
    "# Dimensionality Reduction Example\n",
    "\n",
    "Using the IMDB data, feature matrix and apply dimensionality reduction to this matrix via PCA and SVD."
   ]
  },
  {
   "cell_type": "code",
   "execution_count": 1,
   "id": "a8a8127e",
   "metadata": {},
   "outputs": [],
   "source": [
    "%matplotlib inline"
   ]
  },
  {
   "cell_type": "code",
   "execution_count": 2,
   "id": "0be2c95c",
   "metadata": {},
   "outputs": [],
   "source": [
    "import json\n",
    "import random\n",
    "import pandas as pd\n",
    "import numpy as np\n",
    "\n",
    "import matplotlib.pyplot as plt\n",
    "\n",
    "from scipy.sparse import lil_matrix\n",
    "\n",
    "from sklearn.neighbors import DistanceMetric\n",
    "\n",
    "from sklearn.metrics import jaccard_score\n",
    "from sklearn.metrics import pairwise_distances"
   ]
  },
  {
   "cell_type": "code",
   "execution_count": null,
   "id": "8e578faf",
   "metadata": {},
   "outputs": [],
   "source": []
  },
  {
   "cell_type": "code",
   "execution_count": 3,
   "id": "0c690905",
   "metadata": {},
   "outputs": [],
   "source": [
    "actor_name_map = {}\n",
    "movie_actor_map = {}\n",
    "actor_genre_map = {}\n",
    "\n",
    "\n",
    "with open(\"../data/imdb_movies_2000to2022.prolific.json\", \"r\") as in_file:\n",
    "    for line in in_file:\n",
    "        \n",
    "        # Read the movie on this line and parse its json\n",
    "        this_movie = json.loads(line)\n",
    "                    \n",
    "        # Add all actors to the id->name map\n",
    "        for actor_id,actor_name in this_movie['actors']:\n",
    "            actor_name_map[actor_id] = actor_name\n",
    "            \n",
    "        # For each actor, add this movie's genres to that actor's list\n",
    "        for actor_id,actor_name in this_movie['actors']:\n",
    "            this_actors_genres = actor_genre_map.get(actor_id, {})\n",
    "            \n",
    "            # Increment the count of genres for this actor\n",
    "            for g in this_movie[\"genres\"]:\n",
    "                this_actors_genres[g] = this_actors_genres.get(g, 0) + 1\n",
    "                \n",
    "            # Update the map\n",
    "            actor_genre_map[actor_id] = this_actors_genres\n",
    "            \n",
    "        # Finished with this film\n",
    "        movie_actor_map[this_movie[\"imdb_id\"]] = ({\n",
    "            \"movie\": this_movie[\"title\"],\n",
    "            \"actors\": set([item[0] for item in this_movie['actors']]),\n",
    "            \"genres\": this_movie[\"genres\"]\n",
    "        })"
   ]
  },
  {
   "cell_type": "code",
   "execution_count": null,
   "id": "e4e43c85",
   "metadata": {},
   "outputs": [],
   "source": []
  },
  {
   "cell_type": "code",
   "execution_count": 4,
   "id": "ad6a7688",
   "metadata": {},
   "outputs": [
    {
     "data": {
      "text/html": [
       "<div>\n",
       "<style scoped>\n",
       "    .dataframe tbody tr th:only-of-type {\n",
       "        vertical-align: middle;\n",
       "    }\n",
       "\n",
       "    .dataframe tbody tr th {\n",
       "        vertical-align: top;\n",
       "    }\n",
       "\n",
       "    .dataframe thead th {\n",
       "        text-align: right;\n",
       "    }\n",
       "</style>\n",
       "<table border=\"1\" class=\"dataframe\">\n",
       "  <thead>\n",
       "    <tr style=\"text-align: right;\">\n",
       "      <th></th>\n",
       "      <th>Comedy</th>\n",
       "      <th>Fantasy</th>\n",
       "      <th>Romance</th>\n",
       "      <th>Drama</th>\n",
       "      <th>Mystery</th>\n",
       "      <th>Thriller</th>\n",
       "      <th>Action</th>\n",
       "      <th>Biography</th>\n",
       "      <th>Crime</th>\n",
       "      <th>War</th>\n",
       "      <th>...</th>\n",
       "      <th>Horror</th>\n",
       "      <th>Documentary</th>\n",
       "      <th>Sport</th>\n",
       "      <th>News</th>\n",
       "      <th>Family</th>\n",
       "      <th>Music</th>\n",
       "      <th></th>\n",
       "      <th>Western</th>\n",
       "      <th>Short</th>\n",
       "      <th>Reality-TV</th>\n",
       "    </tr>\n",
       "  </thead>\n",
       "  <tbody>\n",
       "    <tr>\n",
       "      <th>nm0000212</th>\n",
       "      <td>7.0</td>\n",
       "      <td>1.0</td>\n",
       "      <td>6.0</td>\n",
       "      <td>6.0</td>\n",
       "      <td>1.0</td>\n",
       "      <td>2.0</td>\n",
       "      <td>1.0</td>\n",
       "      <td>1.0</td>\n",
       "      <td>2.0</td>\n",
       "      <td>1.0</td>\n",
       "      <td>...</td>\n",
       "      <td>0.0</td>\n",
       "      <td>0.0</td>\n",
       "      <td>0.0</td>\n",
       "      <td>0.0</td>\n",
       "      <td>0.0</td>\n",
       "      <td>0.0</td>\n",
       "      <td>0.0</td>\n",
       "      <td>0.0</td>\n",
       "      <td>0.0</td>\n",
       "      <td>0.0</td>\n",
       "    </tr>\n",
       "    <tr>\n",
       "      <th>nm0413168</th>\n",
       "      <td>7.0</td>\n",
       "      <td>3.0</td>\n",
       "      <td>5.0</td>\n",
       "      <td>12.0</td>\n",
       "      <td>5.0</td>\n",
       "      <td>2.0</td>\n",
       "      <td>14.0</td>\n",
       "      <td>4.0</td>\n",
       "      <td>6.0</td>\n",
       "      <td>0.0</td>\n",
       "      <td>...</td>\n",
       "      <td>0.0</td>\n",
       "      <td>0.0</td>\n",
       "      <td>0.0</td>\n",
       "      <td>0.0</td>\n",
       "      <td>0.0</td>\n",
       "      <td>0.0</td>\n",
       "      <td>0.0</td>\n",
       "      <td>0.0</td>\n",
       "      <td>0.0</td>\n",
       "      <td>0.0</td>\n",
       "    </tr>\n",
       "    <tr>\n",
       "      <th>nm0000630</th>\n",
       "      <td>8.0</td>\n",
       "      <td>2.0</td>\n",
       "      <td>6.0</td>\n",
       "      <td>14.0</td>\n",
       "      <td>2.0</td>\n",
       "      <td>3.0</td>\n",
       "      <td>4.0</td>\n",
       "      <td>5.0</td>\n",
       "      <td>1.0</td>\n",
       "      <td>1.0</td>\n",
       "      <td>...</td>\n",
       "      <td>3.0</td>\n",
       "      <td>7.0</td>\n",
       "      <td>3.0</td>\n",
       "      <td>1.0</td>\n",
       "      <td>0.0</td>\n",
       "      <td>0.0</td>\n",
       "      <td>0.0</td>\n",
       "      <td>0.0</td>\n",
       "      <td>0.0</td>\n",
       "      <td>0.0</td>\n",
       "    </tr>\n",
       "    <tr>\n",
       "      <th>nm0005227</th>\n",
       "      <td>10.0</td>\n",
       "      <td>1.0</td>\n",
       "      <td>2.0</td>\n",
       "      <td>2.0</td>\n",
       "      <td>0.0</td>\n",
       "      <td>1.0</td>\n",
       "      <td>1.0</td>\n",
       "      <td>0.0</td>\n",
       "      <td>0.0</td>\n",
       "      <td>0.0</td>\n",
       "      <td>...</td>\n",
       "      <td>1.0</td>\n",
       "      <td>0.0</td>\n",
       "      <td>1.0</td>\n",
       "      <td>0.0</td>\n",
       "      <td>2.0</td>\n",
       "      <td>0.0</td>\n",
       "      <td>0.0</td>\n",
       "      <td>0.0</td>\n",
       "      <td>0.0</td>\n",
       "      <td>0.0</td>\n",
       "    </tr>\n",
       "    <tr>\n",
       "      <th>nm0864851</th>\n",
       "      <td>1.0</td>\n",
       "      <td>0.0</td>\n",
       "      <td>0.0</td>\n",
       "      <td>0.0</td>\n",
       "      <td>0.0</td>\n",
       "      <td>0.0</td>\n",
       "      <td>0.0</td>\n",
       "      <td>0.0</td>\n",
       "      <td>0.0</td>\n",
       "      <td>0.0</td>\n",
       "      <td>...</td>\n",
       "      <td>1.0</td>\n",
       "      <td>0.0</td>\n",
       "      <td>0.0</td>\n",
       "      <td>0.0</td>\n",
       "      <td>0.0</td>\n",
       "      <td>0.0</td>\n",
       "      <td>0.0</td>\n",
       "      <td>0.0</td>\n",
       "      <td>0.0</td>\n",
       "      <td>0.0</td>\n",
       "    </tr>\n",
       "    <tr>\n",
       "      <th>...</th>\n",
       "      <td>...</td>\n",
       "      <td>...</td>\n",
       "      <td>...</td>\n",
       "      <td>...</td>\n",
       "      <td>...</td>\n",
       "      <td>...</td>\n",
       "      <td>...</td>\n",
       "      <td>...</td>\n",
       "      <td>...</td>\n",
       "      <td>...</td>\n",
       "      <td>...</td>\n",
       "      <td>...</td>\n",
       "      <td>...</td>\n",
       "      <td>...</td>\n",
       "      <td>...</td>\n",
       "      <td>...</td>\n",
       "      <td>...</td>\n",
       "      <td>...</td>\n",
       "      <td>...</td>\n",
       "      <td>...</td>\n",
       "      <td>...</td>\n",
       "    </tr>\n",
       "    <tr>\n",
       "      <th>nm9504284</th>\n",
       "      <td>0.0</td>\n",
       "      <td>0.0</td>\n",
       "      <td>0.0</td>\n",
       "      <td>0.0</td>\n",
       "      <td>0.0</td>\n",
       "      <td>1.0</td>\n",
       "      <td>0.0</td>\n",
       "      <td>0.0</td>\n",
       "      <td>0.0</td>\n",
       "      <td>0.0</td>\n",
       "      <td>...</td>\n",
       "      <td>1.0</td>\n",
       "      <td>0.0</td>\n",
       "      <td>0.0</td>\n",
       "      <td>0.0</td>\n",
       "      <td>0.0</td>\n",
       "      <td>0.0</td>\n",
       "      <td>0.0</td>\n",
       "      <td>0.0</td>\n",
       "      <td>0.0</td>\n",
       "      <td>0.0</td>\n",
       "    </tr>\n",
       "    <tr>\n",
       "      <th>nm10592896</th>\n",
       "      <td>0.0</td>\n",
       "      <td>0.0</td>\n",
       "      <td>0.0</td>\n",
       "      <td>0.0</td>\n",
       "      <td>0.0</td>\n",
       "      <td>1.0</td>\n",
       "      <td>0.0</td>\n",
       "      <td>0.0</td>\n",
       "      <td>0.0</td>\n",
       "      <td>0.0</td>\n",
       "      <td>...</td>\n",
       "      <td>1.0</td>\n",
       "      <td>0.0</td>\n",
       "      <td>0.0</td>\n",
       "      <td>0.0</td>\n",
       "      <td>0.0</td>\n",
       "      <td>0.0</td>\n",
       "      <td>0.0</td>\n",
       "      <td>0.0</td>\n",
       "      <td>0.0</td>\n",
       "      <td>0.0</td>\n",
       "    </tr>\n",
       "    <tr>\n",
       "      <th>nm7216750</th>\n",
       "      <td>0.0</td>\n",
       "      <td>0.0</td>\n",
       "      <td>0.0</td>\n",
       "      <td>0.0</td>\n",
       "      <td>0.0</td>\n",
       "      <td>1.0</td>\n",
       "      <td>0.0</td>\n",
       "      <td>0.0</td>\n",
       "      <td>0.0</td>\n",
       "      <td>0.0</td>\n",
       "      <td>...</td>\n",
       "      <td>1.0</td>\n",
       "      <td>0.0</td>\n",
       "      <td>0.0</td>\n",
       "      <td>0.0</td>\n",
       "      <td>0.0</td>\n",
       "      <td>0.0</td>\n",
       "      <td>0.0</td>\n",
       "      <td>0.0</td>\n",
       "      <td>0.0</td>\n",
       "      <td>0.0</td>\n",
       "    </tr>\n",
       "    <tr>\n",
       "      <th>nm0936300</th>\n",
       "      <td>0.0</td>\n",
       "      <td>0.0</td>\n",
       "      <td>0.0</td>\n",
       "      <td>0.0</td>\n",
       "      <td>0.0</td>\n",
       "      <td>0.0</td>\n",
       "      <td>0.0</td>\n",
       "      <td>0.0</td>\n",
       "      <td>0.0</td>\n",
       "      <td>1.0</td>\n",
       "      <td>...</td>\n",
       "      <td>0.0</td>\n",
       "      <td>0.0</td>\n",
       "      <td>0.0</td>\n",
       "      <td>0.0</td>\n",
       "      <td>0.0</td>\n",
       "      <td>0.0</td>\n",
       "      <td>0.0</td>\n",
       "      <td>0.0</td>\n",
       "      <td>0.0</td>\n",
       "      <td>0.0</td>\n",
       "    </tr>\n",
       "    <tr>\n",
       "      <th>nm10375007</th>\n",
       "      <td>1.0</td>\n",
       "      <td>0.0</td>\n",
       "      <td>0.0</td>\n",
       "      <td>1.0</td>\n",
       "      <td>0.0</td>\n",
       "      <td>0.0</td>\n",
       "      <td>0.0</td>\n",
       "      <td>0.0</td>\n",
       "      <td>0.0</td>\n",
       "      <td>0.0</td>\n",
       "      <td>...</td>\n",
       "      <td>0.0</td>\n",
       "      <td>0.0</td>\n",
       "      <td>0.0</td>\n",
       "      <td>0.0</td>\n",
       "      <td>0.0</td>\n",
       "      <td>0.0</td>\n",
       "      <td>0.0</td>\n",
       "      <td>0.0</td>\n",
       "      <td>0.0</td>\n",
       "      <td>0.0</td>\n",
       "    </tr>\n",
       "  </tbody>\n",
       "</table>\n",
       "<p>33609 rows × 25 columns</p>\n",
       "</div>"
      ],
      "text/plain": [
       "            Comedy  Fantasy  Romance  Drama  Mystery  Thriller  Action  \\\n",
       "nm0000212      7.0      1.0      6.0    6.0      1.0       2.0     1.0   \n",
       "nm0413168      7.0      3.0      5.0   12.0      5.0       2.0    14.0   \n",
       "nm0000630      8.0      2.0      6.0   14.0      2.0       3.0     4.0   \n",
       "nm0005227     10.0      1.0      2.0    2.0      0.0       1.0     1.0   \n",
       "nm0864851      1.0      0.0      0.0    0.0      0.0       0.0     0.0   \n",
       "...            ...      ...      ...    ...      ...       ...     ...   \n",
       "nm9504284      0.0      0.0      0.0    0.0      0.0       1.0     0.0   \n",
       "nm10592896     0.0      0.0      0.0    0.0      0.0       1.0     0.0   \n",
       "nm7216750      0.0      0.0      0.0    0.0      0.0       1.0     0.0   \n",
       "nm0936300      0.0      0.0      0.0    0.0      0.0       0.0     0.0   \n",
       "nm10375007     1.0      0.0      0.0    1.0      0.0       0.0     0.0   \n",
       "\n",
       "            Biography  Crime  War  ...  Horror  Documentary  Sport  News  \\\n",
       "nm0000212         1.0    2.0  1.0  ...     0.0          0.0    0.0   0.0   \n",
       "nm0413168         4.0    6.0  0.0  ...     0.0          0.0    0.0   0.0   \n",
       "nm0000630         5.0    1.0  1.0  ...     3.0          7.0    3.0   1.0   \n",
       "nm0005227         0.0    0.0  0.0  ...     1.0          0.0    1.0   0.0   \n",
       "nm0864851         0.0    0.0  0.0  ...     1.0          0.0    0.0   0.0   \n",
       "...               ...    ...  ...  ...     ...          ...    ...   ...   \n",
       "nm9504284         0.0    0.0  0.0  ...     1.0          0.0    0.0   0.0   \n",
       "nm10592896        0.0    0.0  0.0  ...     1.0          0.0    0.0   0.0   \n",
       "nm7216750         0.0    0.0  0.0  ...     1.0          0.0    0.0   0.0   \n",
       "nm0936300         0.0    0.0  1.0  ...     0.0          0.0    0.0   0.0   \n",
       "nm10375007        0.0    0.0  0.0  ...     0.0          0.0    0.0   0.0   \n",
       "\n",
       "            Family  Music       Western  Short  Reality-TV  \n",
       "nm0000212      0.0    0.0  0.0      0.0    0.0         0.0  \n",
       "nm0413168      0.0    0.0  0.0      0.0    0.0         0.0  \n",
       "nm0000630      0.0    0.0  0.0      0.0    0.0         0.0  \n",
       "nm0005227      2.0    0.0  0.0      0.0    0.0         0.0  \n",
       "nm0864851      0.0    0.0  0.0      0.0    0.0         0.0  \n",
       "...            ...    ...  ...      ...    ...         ...  \n",
       "nm9504284      0.0    0.0  0.0      0.0    0.0         0.0  \n",
       "nm10592896     0.0    0.0  0.0      0.0    0.0         0.0  \n",
       "nm7216750      0.0    0.0  0.0      0.0    0.0         0.0  \n",
       "nm0936300      0.0    0.0  0.0      0.0    0.0         0.0  \n",
       "nm10375007     0.0    0.0  0.0      0.0    0.0         0.0  \n",
       "\n",
       "[33609 rows x 25 columns]"
      ]
     },
     "execution_count": 4,
     "metadata": {},
     "output_type": "execute_result"
    }
   ],
   "source": [
    "# Get all actors as an index for a dataframe\n",
    "index = actor_genre_map.keys()\n",
    "\n",
    "# Get the genre-counts for each actor in the index\n",
    "rows = [actor_genre_map[k] for k in index]\n",
    "\n",
    "# Create the data frame from these rows, with the actors as index\n",
    "df = pd.DataFrame(rows, index=index)\n",
    "\n",
    "# Fill NAs with zero, as NA means the actor has not starred in that genre\n",
    "df = df.fillna(0)\n",
    "\n",
    "df"
   ]
  },
  {
   "cell_type": "markdown",
   "id": "94e81fb4",
   "metadata": {},
   "source": [
    "## Apply PCA to Feature Matrix"
   ]
  },
  {
   "cell_type": "code",
   "execution_count": 26,
   "id": "c7bb09aa",
   "metadata": {},
   "outputs": [],
   "source": [
    "# https://scikit-learn.org/stable/modules/generated/sklearn.decomposition.PCA.html\n",
    "from sklearn.decomposition import PCA \n",
    "from sklearn.decomposition import TruncatedSVD\n",
    "from sklearn.manifold import TSNE"
   ]
  },
  {
   "cell_type": "code",
   "execution_count": null,
   "id": "0086965f",
   "metadata": {},
   "outputs": [],
   "source": []
  },
  {
   "cell_type": "code",
   "execution_count": 6,
   "id": "4c5ded3b",
   "metadata": {},
   "outputs": [],
   "source": [
    "matrix_dense = df.to_numpy()\n"
   ]
  },
  {
   "cell_type": "code",
   "execution_count": null,
   "id": "9e03e6c7",
   "metadata": {},
   "outputs": [],
   "source": []
  },
  {
   "cell_type": "code",
   "execution_count": 27,
   "id": "5e98277e",
   "metadata": {},
   "outputs": [
    {
     "name": "stderr",
     "output_type": "stream",
     "text": [
      "/Users/cbuntain/anaconda3/lib/python3.9/site-packages/sklearn/manifold/_t_sne.py:780: FutureWarning: The default initialization in TSNE will change from 'random' to 'pca' in 1.2.\n",
      "  warnings.warn(\n",
      "/Users/cbuntain/anaconda3/lib/python3.9/site-packages/sklearn/manifold/_t_sne.py:790: FutureWarning: The default learning rate in TSNE will change from 200.0 to 'auto' in 1.2.\n",
      "  warnings.warn(\n"
     ]
    }
   ],
   "source": [
    "use_pca = False\n",
    "use_svd = False\n",
    "\n",
    "if use_pca:\n",
    "    pca = PCA(n_components=16)\n",
    "    pca.fit(matrix_dense)\n",
    "    matrix_reduced = pca.transform(matrix_dense)\n",
    "\n",
    "elif use_svd:\n",
    "    svd = TruncatedSVD(n_components=4)\n",
    "    svd.fit(matrix_dense)\n",
    "    matrix_reduced = svd.transform(matrix_dense)\n",
    "\n",
    "else:\n",
    "    tsne = TSNE(n_components=2)\n",
    "    matrix_reduced = tsne.fit_transform(matrix_dense)"
   ]
  },
  {
   "cell_type": "code",
   "execution_count": null,
   "id": "7b4dd848",
   "metadata": {},
   "outputs": [],
   "source": []
  },
  {
   "cell_type": "code",
   "execution_count": 28,
   "id": "6e562fd0",
   "metadata": {},
   "outputs": [
    {
     "data": {
      "text/plain": [
       "array([-0.34631816,  1.5148199 ], dtype=float32)"
      ]
     },
     "execution_count": 28,
     "metadata": {},
     "output_type": "execute_result"
    }
   ],
   "source": [
    "np.mean(matrix_reduced, axis=0)"
   ]
  },
  {
   "cell_type": "code",
   "execution_count": null,
   "id": "d27e92ea",
   "metadata": {},
   "outputs": [],
   "source": []
  },
  {
   "cell_type": "code",
   "execution_count": 29,
   "id": "7ad9ff46",
   "metadata": {},
   "outputs": [
    {
     "data": {
      "text/plain": [
       "<matplotlib.collections.PathCollection at 0x15aa9eee0>"
      ]
     },
     "execution_count": 29,
     "metadata": {},
     "output_type": "execute_result"
    },
    {
     "data": {
      "image/png": "[encoded data removed]",
      "text/plain": [
       "<Figure size 1152x648 with 1 Axes>"
      ]
     },
     "metadata": {
      "needs_background": "light"
     },
     "output_type": "display_data"
    }
   ],
   "source": [
    "fig = plt.figure(figsize=(16,9))\n",
    "ax = fig.add_subplot(1,1,1)\n",
    "\n",
    "ax.scatter(matrix_reduced[:,0], matrix_reduced[:,1])"
   ]
  },
  {
   "cell_type": "code",
   "execution_count": null,
   "id": "8535dc8e",
   "metadata": {},
   "outputs": [],
   "source": []
  },
  {
   "cell_type": "markdown",
   "id": "e60c2b89",
   "metadata": {},
   "source": [
    "## Find Similar Movies in Reduced Dimensional Space"
   ]
  },
  {
   "cell_type": "code",
   "execution_count": 19,
   "id": "bb8e5eb8",
   "metadata": {},
   "outputs": [],
   "source": [
    "#Setting the actor we will be comparing to\n",
    "# target_actor_id = 'nm1165110' # Chris Hemsworth\n",
    "target_actor_id = 'nm0413168' # Hugh Jackman\n",
    "# target_actor_id = 'nm0005351' # Ryan Reynolds"
   ]
  },
  {
   "cell_type": "code",
   "execution_count": null,
   "id": "2a7f7011",
   "metadata": {},
   "outputs": [],
   "source": []
  },
  {
   "cell_type": "code",
   "execution_count": 20,
   "id": "e634e1d4",
   "metadata": {},
   "outputs": [
    {
     "data": {
      "text/plain": [
       "1"
      ]
     },
     "execution_count": 20,
     "metadata": {},
     "output_type": "execute_result"
    }
   ],
   "source": [
    "query_idx = [idx for idx,m in enumerate(df.index) if m == target_actor_id][0]\n",
    "query_idx"
   ]
  },
  {
   "cell_type": "code",
   "execution_count": 21,
   "id": "29b199a8",
   "metadata": {},
   "outputs": [],
   "source": [
    "query_v = matrix_reduced[query_idx,:]"
   ]
  },
  {
   "cell_type": "code",
   "execution_count": 22,
   "id": "e0c5d511",
   "metadata": {},
   "outputs": [
    {
     "data": {
      "text/plain": [
       "array([21.79637269,  2.91864983,  2.35886318, -9.64999792])"
      ]
     },
     "execution_count": 22,
     "metadata": {},
     "output_type": "execute_result"
    }
   ],
   "source": [
    "query_v"
   ]
  },
  {
   "cell_type": "code",
   "execution_count": null,
   "id": "159c695e",
   "metadata": {},
   "outputs": [],
   "source": []
  },
  {
   "cell_type": "code",
   "execution_count": 23,
   "id": "54c7be10",
   "metadata": {},
   "outputs": [],
   "source": [
    "# get distances between all films and query film\n",
    "distances = pairwise_distances(matrix_reduced, [query_v], metric='euclidean')\n"
   ]
  },
  {
   "cell_type": "code",
   "execution_count": 24,
   "id": "8ae8506f",
   "metadata": {},
   "outputs": [
    {
     "name": "stdout",
     "output_type": "stream",
     "text": [
      "1 Hugh Jackman 0.0\n",
      "73 Chris Evans 2.7810050837235685\n",
      "1983 Suniel Shetty 2.8571710167447932\n",
      "17341 Samantha Ruth Prabhu 3.0360239995204634\n",
      "5004 Nassar 3.05039089137775\n",
      "3969 Chris Pine 3.488601348182215\n",
      "79 Johnny Depp 3.722217024837947\n",
      "1600 Anil Kapoor 3.8213007147505844\n",
      "2107 Salman Khan 4.0017250748850035\n",
      "1397 Jamie Foxx 4.180582290913717\n",
      "835 Robert Downey Jr. 4.2416665001518865\n",
      "4343 Michael Peña 4.613500919083192\n",
      "6897 Channing Tatum 4.652020953241296\n",
      "685 Daniel Craig 5.021116118743398\n",
      "112 Will Smith 5.149976749297809\n",
      "11295 Raashi Khanna 5.165029291369698\n",
      "934 Cuba Gooding Jr. 5.456346706313816\n",
      "298 Angelina Jolie 5.666916500967698\n",
      "67 Mel Gibson 5.709537335637198\n",
      "10861 Kajal Aggarwal 5.7733213356346855\n"
     ]
    }
   ],
   "source": [
    "distances_df = pd.DataFrame(distances, columns=[\"distance\"])\n",
    "for idx,row in distances_df.sort_values(by=\"distance\", ascending=True).head(20).iterrows():\n",
    "    print(idx, actor_name_map[df.index[idx]], row[\"distance\"])"
   ]
  },
  {
   "cell_type": "code",
   "execution_count": null,
   "id": "339e822f",
   "metadata": {},
   "outputs": [],
   "source": []
  }
 ],
 "metadata": {
  "kernelspec": {
   "display_name": "Python 3 (ipykernel)",
   "language": "python",
   "name": "python3"
  },
  "language_info": {
   "codemirror_mode": {
    "name": "ipython",
    "version": 3
   },
   "file_extension": ".py",
   "mimetype": "text/x-python",
   "name": "python",
   "nbconvert_exporter": "python",
   "pygments_lexer": "ipython3",
   "version": "3.9.12"
  }
 },
 "nbformat": 4,
 "nbformat_minor": 5
}
