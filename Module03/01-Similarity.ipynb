{
 "cells": [
  {
   "cell_type": "markdown",
   "id": "e9e3cbeb",
   "metadata": {},
   "source": [
    "# Rank Most Similar Movies\n",
    "\n",
    "Using various distance metrics, rank the most similar movies to a query movie."
   ]
  },
  {
   "cell_type": "code",
   "execution_count": 1,
   "id": "2defc34a",
   "metadata": {},
   "outputs": [],
   "source": [
    "%matplotlib inline"
   ]
  },
  {
   "cell_type": "code",
   "execution_count": 2,
   "id": "beb8b451",
   "metadata": {},
   "outputs": [],
   "source": [
    "import pandas as pd\n",
    "\n",
    "import json"
   ]
  },
  {
   "cell_type": "code",
   "execution_count": null,
   "id": "536a65b0",
   "metadata": {},
   "outputs": [],
   "source": []
  },
  {
   "cell_type": "code",
   "execution_count": 3,
   "id": "e140b0ba",
   "metadata": {},
   "outputs": [],
   "source": [
    "actor_name_map = {}\n",
    "movie_actor_list = []\n",
    "\n",
    "with open(\"../data/imdb_recent_movies.json\", \"r\") as in_file:\n",
    "    for line in in_file:\n",
    "        \n",
    "        this_movie = json.loads(line)\n",
    "            \n",
    "        for actor_id,actor_name in zip(this_movie['actor_ids'],this_movie['actor_names']):\n",
    "            actor_name_map[actor_id] = actor_name\n",
    "            \n",
    "        movie_actor_list.append({\n",
    "            \"movie\": this_movie[\"title_name\"],\n",
    "            \"actors\": set(this_movie['actor_ids'])\n",
    "        })"
   ]
  },
  {
   "cell_type": "code",
   "execution_count": null,
   "id": "fd2973fe",
   "metadata": {},
   "outputs": [],
   "source": []
  },
  {
   "cell_type": "code",
   "execution_count": 4,
   "id": "0a2a0081",
   "metadata": {},
   "outputs": [
    {
     "data": {
      "text/html": [
       "<div>\n",
       "<style scoped>\n",
       "    .dataframe tbody tr th:only-of-type {\n",
       "        vertical-align: middle;\n",
       "    }\n",
       "\n",
       "    .dataframe tbody tr th {\n",
       "        vertical-align: top;\n",
       "    }\n",
       "\n",
       "    .dataframe thead th {\n",
       "        text-align: right;\n",
       "    }\n",
       "</style>\n",
       "<table border=\"1\" class=\"dataframe\">\n",
       "  <thead>\n",
       "    <tr style=\"text-align: right;\">\n",
       "      <th></th>\n",
       "      <th>movie</th>\n",
       "      <th>actors</th>\n",
       "    </tr>\n",
       "  </thead>\n",
       "  <tbody>\n",
       "    <tr>\n",
       "      <th>81</th>\n",
       "      <td>Star Wars: Episode II - Attack of the Clones</td>\n",
       "      <td>{nm0000489, nm0000191, nm0159789}</td>\n",
       "    </tr>\n",
       "  </tbody>\n",
       "</table>\n",
       "</div>"
      ],
      "text/plain": [
       "                                           movie  \\\n",
       "81  Star Wars: Episode II - Attack of the Clones   \n",
       "\n",
       "                               actors  \n",
       "81  {nm0000489, nm0000191, nm0159789}  "
      ]
     },
     "execution_count": 4,
     "metadata": {},
     "output_type": "execute_result"
    }
   ],
   "source": [
    "df = pd.DataFrame(movie_actor_list)\n",
    "df[df[\"movie\"] == \"Star Wars: Episode II - Attack of the Clones\"]"
   ]
  },
  {
   "cell_type": "code",
   "execution_count": null,
   "id": "dd9363ed",
   "metadata": {},
   "outputs": [],
   "source": []
  },
  {
   "cell_type": "code",
   "execution_count": 5,
   "id": "47d08641",
   "metadata": {},
   "outputs": [
    {
     "data": {
      "text/plain": [
       "{'movie': 'Star Wars: Episode II - Attack of the Clones',\n",
       " 'actors': {'nm0000191', 'nm0000489', 'nm0159789'}}"
      ]
     },
     "execution_count": 5,
     "metadata": {},
     "output_type": "execute_result"
    }
   ],
   "source": [
    "target_movie = movie_actor_list[81]\n",
    "target_movie"
   ]
  },
  {
   "cell_type": "code",
   "execution_count": 6,
   "id": "2ccbd074",
   "metadata": {},
   "outputs": [],
   "source": [
    "distances = []\n",
    "\n",
    "target_actors = target_movie[\"actors\"]\n",
    "for movie in movie_actor_list:\n",
    "    these_actors = movie[\"actors\"]\n",
    "    \n",
    "    numer = len(target_actors.intersection(these_actors))\n",
    "    denom = len(target_actors.union(these_actors))\n",
    "    \n",
    "    jaccard_sim = numer / denom\n",
    "    \n",
    "    distances.append({\n",
    "        \"movie\": movie,\n",
    "        \"similarity\": jaccard_sim\n",
    "    })"
   ]
  },
  {
   "cell_type": "code",
   "execution_count": null,
   "id": "34af9236",
   "metadata": {},
   "outputs": [],
   "source": []
  },
  {
   "cell_type": "code",
   "execution_count": 7,
   "id": "4523ab77",
   "metadata": {},
   "outputs": [
    {
     "name": "stdout",
     "output_type": "stream",
     "text": [
      "Star Wars: Episode II - Attack of the Clones 1.0\n",
      "\t Christopher Lee\n",
      "\t Ewan McGregor\n",
      "\t Hayden Christensen\n",
      "Star Wars: Episode III - Revenge of the Sith 0.5\n",
      "\t Samuel L. Jackson\n",
      "\t Ewan McGregor\n",
      "\t Hayden Christensen\n",
      "Faster 0.3333333333333333\n",
      "\t Ewan McGregor\n",
      "Whales of Atlantis: In Search of Moby Dick 0.3333333333333333\n",
      "\t Christopher Lee\n",
      "Troy's Story 0.3333333333333333\n",
      "\t Ewan McGregor\n",
      "Miss Potter 0.3333333333333333\n",
      "\t Ewan McGregor\n",
      "The Final Fix 0.3333333333333333\n",
      "\t Ewan McGregor\n",
      "Perfect Sense 0.3333333333333333\n",
      "\t Ewan McGregor\n",
      "Fastest 0.3333333333333333\n",
      "\t Ewan McGregor\n",
      "Charge 0.3333333333333333\n",
      "\t Ewan McGregor\n"
     ]
    }
   ],
   "source": [
    "for similar_movie in sorted(distances, key=lambda x: x[\"similarity\"], reverse=True)[:10]:\n",
    "    print(similar_movie[\"movie\"][\"movie\"], similar_movie[\"similarity\"])\n",
    "    for actor in similar_movie[\"movie\"][\"actors\"]:\n",
    "        print(\"\\t\", actor_name_map[actor])"
   ]
  },
  {
   "cell_type": "code",
   "execution_count": null,
   "id": "4e6ada2d",
   "metadata": {},
   "outputs": [],
   "source": []
  }
 ],
 "metadata": {
  "kernelspec": {
   "display_name": "Python 3",
   "language": "python",
   "name": "python3"
  },
  "language_info": {
   "codemirror_mode": {
    "name": "ipython",
    "version": 3
   },
   "file_extension": ".py",
   "mimetype": "text/x-python",
   "name": "python",
   "nbconvert_exporter": "python",
   "pygments_lexer": "ipython3",
   "version": "3.8.8"
  }
 },
 "nbformat": 4,
 "nbformat_minor": 5
}
