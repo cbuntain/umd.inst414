{
 "cells": [
  {
   "cell_type": "markdown",
   "id": "2ec442e0",
   "metadata": {},
   "source": [
    "# Extract Frequent Pairs of Actors\n",
    "\n",
    "Using the IMDB dataset of movies and actors `imdb_recent_movies.json`, we extract pairs of actors that occur frequently in the dataset. This dataset contains a sample of movies released betwen 2000-2020, their titles, genres, release years, and top-billed actors."
   ]
  },
  {
   "cell_type": "code",
   "execution_count": 1,
   "id": "beb8b451",
   "metadata": {},
   "outputs": [],
   "source": [
    "import pandas as pd\n",
    "\n",
    "import json"
   ]
  },
  {
   "cell_type": "code",
   "execution_count": null,
   "id": "536a65b0",
   "metadata": {},
   "outputs": [],
   "source": []
  },
  {
   "cell_type": "code",
   "execution_count": 2,
   "id": "a14c6493",
   "metadata": {},
   "outputs": [],
   "source": [
    "support_threshold = 0.0001"
   ]
  },
  {
   "cell_type": "code",
   "execution_count": 3,
   "id": "e140b0ba",
   "metadata": {},
   "outputs": [],
   "source": [
    "actor_map = {}\n",
    "actor_name_map = {}\n",
    "movie_count = 0\n",
    "\n",
    "with open(\"../data/imdb_recent_movies.json\", \"r\") as in_file:\n",
    "    for line in in_file:\n",
    "        \n",
    "        this_movie = json.loads(line)\n",
    "        \n",
    "        for actor_id in this_movie['actor_ids']:\n",
    "            actor_map[actor_id] = actor_map.get(actor_id, 0) + 1\n",
    "            \n",
    "        for actor_id,actor_name in zip(this_movie['actor_ids'],this_movie['actor_names']):\n",
    "            actor_name_map[actor_id] = actor_name\n",
    "            \n",
    "        movie_count += 1"
   ]
  },
  {
   "cell_type": "code",
   "execution_count": null,
   "id": "182a2073",
   "metadata": {},
   "outputs": [],
   "source": []
  },
  {
   "cell_type": "code",
   "execution_count": 4,
   "id": "a1789744",
   "metadata": {},
   "outputs": [
    {
     "data": {
      "text/plain": [
       "{'title_id': 'tt9916730',\n",
       " 'title_name': '6 Gunn',\n",
       " 'title_year': 2017,\n",
       " 'title_genre': ['\\\\N'],\n",
       " 'actor_ids': ['nm6096005', 'nm0059461', 'nm13233318', 'nm4852679'],\n",
       " 'actor_names': ['Devadhar Archit',\n",
       "  'Sunil Barve',\n",
       "  'Ganesh Vasant Patil',\n",
       "  'Bhushan Pradhan']}"
      ]
     },
     "execution_count": 4,
     "metadata": {},
     "output_type": "execute_result"
    }
   ],
   "source": [
    "this_movie"
   ]
  },
  {
   "cell_type": "code",
   "execution_count": null,
   "id": "c384c2b3",
   "metadata": {},
   "outputs": [],
   "source": []
  },
  {
   "cell_type": "code",
   "execution_count": 5,
   "id": "c08d6c7f",
   "metadata": {},
   "outputs": [
    {
     "name": "stdout",
     "output_type": "stream",
     "text": [
      "Movie Count: 178121\n",
      "Support Threshold: 17.8121\n"
     ]
    }
   ],
   "source": [
    "actual_threshold = support_threshold * movie_count\n",
    "print(\"Movie Count:\", movie_count)\n",
    "print(\"Support Threshold:\", actual_threshold)"
   ]
  },
  {
   "cell_type": "code",
   "execution_count": 6,
   "id": "ca6c0929",
   "metadata": {},
   "outputs": [
    {
     "name": "stdout",
     "output_type": "stream",
     "text": [
      "258059\n"
     ]
    }
   ],
   "source": [
    "print(len(actor_map))"
   ]
  },
  {
   "cell_type": "code",
   "execution_count": 7,
   "id": "48c4ab4e",
   "metadata": {},
   "outputs": [],
   "source": [
    "frequent_actors = 0\n",
    "frequent_actors_set = set()\n",
    "for actor,count in actor_map.items():\n",
    "    if count > actual_threshold:\n",
    "        frequent_actors += 1\n",
    "#         print(\"Frequent Actor:\", actor)\n",
    "        frequent_actors_set.add(actor)"
   ]
  },
  {
   "cell_type": "code",
   "execution_count": 8,
   "id": "182a649a",
   "metadata": {},
   "outputs": [
    {
     "name": "stdout",
     "output_type": "stream",
     "text": [
      "2118\n"
     ]
    }
   ],
   "source": [
    "print(frequent_actors)"
   ]
  },
  {
   "cell_type": "code",
   "execution_count": 9,
   "id": "e260415b",
   "metadata": {},
   "outputs": [
    {
     "name": "stdout",
     "output_type": "stream",
     "text": [
      "nm1822659 18 Nat Wolff\n"
     ]
    }
   ],
   "source": [
    "for actor_id in frequent_actors_set:\n",
    "    print(actor_id, actor_map[actor_id], actor_name_map[actor_id])\n",
    "    \n",
    "    break"
   ]
  },
  {
   "cell_type": "code",
   "execution_count": null,
   "id": "591da012",
   "metadata": {},
   "outputs": [],
   "source": []
  },
  {
   "cell_type": "code",
   "execution_count": 10,
   "id": "75649096",
   "metadata": {},
   "outputs": [],
   "source": [
    "candidate_pairs_map = {}\n",
    "\n",
    "with open(\"../data/imdb_recent_movies.json\", \"r\") as in_file:\n",
    "    for line in in_file:\n",
    "        \n",
    "        this_movie = json.loads(line)\n",
    "        \n",
    "        sorted_ids = sorted(this_movie['actor_ids'])\n",
    "        \n",
    "        for i,left_id in enumerate(sorted_ids):\n",
    "            if left_id not in frequent_actors_set or i == len(sorted_ids) - 1:\n",
    "                continue\n",
    "            \n",
    "            for right_id in sorted_ids[i+1:]:\n",
    "                if right_id in frequent_actors_set:\n",
    "                    this_pair = (left_id, right_id)\n",
    "                    candidate_pairs_map[this_pair] = candidate_pairs_map.get(this_pair, 0) + 1\n",
    "            \n"
   ]
  },
  {
   "cell_type": "code",
   "execution_count": 11,
   "id": "769cedb1",
   "metadata": {},
   "outputs": [
    {
     "data": {
      "text/plain": [
       "19273"
      ]
     },
     "execution_count": 11,
     "metadata": {},
     "output_type": "execute_result"
    }
   ],
   "source": [
    "len(candidate_pairs_map)"
   ]
  },
  {
   "cell_type": "code",
   "execution_count": null,
   "id": "9ad31fda",
   "metadata": {},
   "outputs": [],
   "source": []
  },
  {
   "cell_type": "code",
   "execution_count": 12,
   "id": "2fecfcc9",
   "metadata": {},
   "outputs": [
    {
     "name": "stdout",
     "output_type": "stream",
     "text": [
      "Frequent Pair: ['Shafqat Cheema', 'Shaan Shahid']\n",
      "Frequent Pair: ['Mohammad Ali', 'Raghu Babu']\n",
      "Frequent Pair: ['Mohammad Ali', 'Tanikella Bharani']\n",
      "Frequent Pair: ['Mohammad Ali', 'Brahmanandam']\n",
      "Frequent Pair: ['Tanikella Bharani', 'Brahmanandam']\n",
      "Frequent Pair: ['Brahmanandam', 'M.S. Narayana']\n",
      "Frequent Pair: ['Amit Pachori', 'Vinod Tripathi']\n",
      "Frequent Pair: ['Brahmanandam', 'Raghu Babu']\n",
      "Frequent Pair: ['Mohammad Ali', 'Krishna Bhagavan']\n",
      "Frequent Pair: ['Brahmanandam', 'Krishna Bhagavan']\n",
      "Frequent Pair: ['Kom Chauncheun', 'Kohtee Aramboy']\n",
      "Frequent Pair: ['Kiran Kumar', 'Raza Murad']\n",
      "Frequent Pair: ['Amit Pachori', 'Anil Nagrath']\n",
      "Frequent Pair: ['Anil Nagrath', 'Vinod Tripathi']\n",
      "Frequent Pair: ['Raza Murad', 'Anil Nagrath']\n",
      "Frequent Pair: ['Brahmanandam', 'Chalapathi Rao']\n",
      "Frequent Pair: ['Milind Gunaji', 'Mohan Joshi']\n",
      "Frequent Pair: ['Tomohiro Okada', 'Seiji Nakamitsu']\n",
      "Frequent Pair: ['Simon Hill', 'Kelsey Painter']\n",
      "Frequent Pair: ['Justin J. Wheeler', \"Paul 'Maxx' Rinehart\"]\n",
      "Frequent Pair: ['Mohan Joshi', 'Kiran Kumar']\n",
      "Frequent Pair: ['Leandro De la Torre', 'Vic Cicuta']\n",
      "Frequent Pair: ['Vic Cicuta', 'Ramon Cordero']\n",
      "Frequent Pair: ['Seiji Nakamitsu', 'Naoki Oka']\n",
      "Frequent Pair: ['Naohiro Hirakawa', 'Seiji Nakamitsu']\n",
      "Frequent Pair: ['Seiji Nakamitsu', 'Yasushi Takemoto']\n",
      "Frequent Pair: ['Aiden Baal', 'Jeff Cannonball']\n",
      "Frequent Pair: ['Jeff Cannonball', 'Mark Angelosetti']\n",
      "Frequent Pair: ['Tôshi Yanagi', 'Seiji Nakamitsu']\n",
      "Frequent Pair: ['Kôji Makimura', 'Seiji Nakamitsu']\n",
      "Frequent Pair: ['Rick Jay Glen', \"Paul 'Maxx' Rinehart\"]\n",
      "Frequent Pair: ['Bharat Jadhav', 'Vijay Chavan']\n",
      "Frequent Pair: ['Seiji Nakamitsu', 'Atsushi Tsuda']\n",
      "Frequent Pair: ['Brahmanandam', 'Venu Madhav']\n",
      "Frequent Pair: ['Mihir Das', 'Siddhanta Mahapatra']\n",
      "Frequent Pair: ['Bijay Mohanty', 'Siddhanta Mahapatra']\n",
      "Frequent Pair: ['Ali Khan', 'Anil Nagrath']\n",
      "Frequent Pair: ['Julie Tejwani', 'Rajesh Kava']\n",
      "Frequent Pair: ['Julie Tejwani', 'Rupa Bhimani']\n",
      "Frequent Pair: ['Rajesh Kava', 'Rupa Bhimani']\n"
     ]
    }
   ],
   "source": [
    "frequent_pairs = 0\n",
    "frequent_pairs_set = set()\n",
    "for pair,count in candidate_pairs_map.items():\n",
    "    if count > actual_threshold:\n",
    "        frequent_pairs += 1\n",
    "        print(\"Frequent Pair:\", [actor_name_map[x] for x in pair])\n",
    "        frequent_pairs_set.add(pair)"
   ]
  },
  {
   "cell_type": "code",
   "execution_count": 13,
   "id": "51da276d",
   "metadata": {},
   "outputs": [
    {
     "data": {
      "text/plain": [
       "40"
      ]
     },
     "execution_count": 13,
     "metadata": {},
     "output_type": "execute_result"
    }
   ],
   "source": [
    "frequent_pairs"
   ]
  },
  {
   "cell_type": "code",
   "execution_count": null,
   "id": "c5a4bf23",
   "metadata": {},
   "outputs": [],
   "source": []
  }
 ],
 "metadata": {
  "kernelspec": {
   "display_name": "Python 3",
   "language": "python",
   "name": "python3"
  },
  "language_info": {
   "codemirror_mode": {
    "name": "ipython",
    "version": 3
   },
   "file_extension": ".py",
   "mimetype": "text/x-python",
   "name": "python",
   "nbconvert_exporter": "python",
   "pygments_lexer": "ipython3",
   "version": "3.8.8"
  }
 },
 "nbformat": 4,
 "nbformat_minor": 5
}
