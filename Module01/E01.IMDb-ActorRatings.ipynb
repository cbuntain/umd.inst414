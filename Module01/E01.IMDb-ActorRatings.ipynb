{
 "cells": [
  {
   "cell_type": "markdown",
   "id": "b8f0bff5",
   "metadata": {},
   "source": [
    "# IMDb Data Analysis\n",
    "\n",
    "Simple example to read JSON data of the IMDb and calculate average ratings for a given actor."
   ]
  },
  {
   "cell_type": "code",
   "execution_count": 1,
   "id": "6f42b81a",
   "metadata": {},
   "outputs": [],
   "source": [
    "import json"
   ]
  },
  {
   "cell_type": "code",
   "execution_count": null,
   "id": "3933a651",
   "metadata": {},
   "outputs": [],
   "source": []
  },
  {
   "cell_type": "code",
   "execution_count": 14,
   "id": "e2c5cdeb",
   "metadata": {},
   "outputs": [],
   "source": [
    "target_actor = \"Hugh Jackman\""
   ]
  },
  {
   "cell_type": "code",
   "execution_count": null,
   "id": "388bcccc",
   "metadata": {},
   "outputs": [],
   "source": []
  },
  {
   "cell_type": "code",
   "execution_count": 15,
   "id": "70c05cac",
   "metadata": {},
   "outputs": [],
   "source": [
    "ratings = [] # list of ratings\n",
    "\n",
    "# open the ratings data\n",
    "with open(\"../data/imdb_movies_1985to2022.json\", \"r\") as in_file:\n",
    "    \n",
    "    # each line in the file is a JSON item\n",
    "    for line in in_file:\n",
    "        \n",
    "        # read this movie\n",
    "        movie = json.loads(line)\n",
    "        \n",
    "        # Iterate over each actor to see if it matches the target actor\n",
    "        for actor in movie[\"actors\"]:\n",
    "            \n",
    "            # If this movie has the target actor as a principal, \n",
    "            #. add its rating to the list\n",
    "            if actor[1] == target_actor:\n",
    "                ratings.append(movie[\"rating\"][\"avg\"])\n",
    "                break\n",
    "        "
   ]
  },
  {
   "cell_type": "code",
   "execution_count": null,
   "id": "3079bb4e",
   "metadata": {},
   "outputs": [],
   "source": []
  },
  {
   "cell_type": "code",
   "execution_count": 16,
   "id": "6afeb161",
   "metadata": {},
   "outputs": [
    {
     "data": {
      "text/plain": [
       "6.816666666666665"
      ]
     },
     "execution_count": 16,
     "metadata": {},
     "output_type": "execute_result"
    }
   ],
   "source": [
    "# Calculate Average Rating\n",
    "sum(ratings) / len(ratings)"
   ]
  },
  {
   "cell_type": "code",
   "execution_count": null,
   "id": "22443f2d",
   "metadata": {},
   "outputs": [],
   "source": []
  }
 ],
 "metadata": {
  "kernelspec": {
   "display_name": "Python 3 (ipykernel)",
   "language": "python",
   "name": "python3"
  },
  "language_info": {
   "codemirror_mode": {
    "name": "ipython",
    "version": 3
   },
   "file_extension": ".py",
   "mimetype": "text/x-python",
   "name": "python",
   "nbconvert_exporter": "python",
   "pygments_lexer": "ipython3",
   "version": "3.9.12"
  }
 },
 "nbformat": 4,
 "nbformat_minor": 5
}
