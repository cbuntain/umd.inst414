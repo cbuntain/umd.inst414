{
 "cells": [
  {
   "cell_type": "markdown",
   "id": "61755cee",
   "metadata": {},
   "source": [
    "# AviationAPI.com, a Requests-Based API Example\n",
    "\n",
    "This notebook outlines a simple data collection and analysis process, where we connect to the AviationAPI.com API and query information about airports of interest and flights into and out of them.\n",
    "\n",
    "We use the [Requests library](https://docs.python-requests.org/en/latest/) for connecting to this RESTful API via HTTP requests.\n",
    "\n",
    "Relevant resources include:\n",
    "- [AviationAPI.com API Documentation](https://docs.aviationapi.com/) - Documentation on the API and its endpoints\n",
    "- [FAA Aiport Search](https://adip.faa.gov/agis/public/#/airportSearch/advanced) - Interface for searching for  airport codes based on a variety of queries."
   ]
  },
  {
   "cell_type": "code",
   "execution_count": 1,
   "id": "cda4fddf",
   "metadata": {},
   "outputs": [],
   "source": [
    "import time\n",
    "import requests\n",
    "\n",
    "import numpy as np"
   ]
  },
  {
   "cell_type": "markdown",
   "id": "d13a76a9",
   "metadata": {},
   "source": [
    "## Test the API\n",
    "\n",
    "To test whether the API works, let's try to pull some data about airports."
   ]
  },
  {
   "cell_type": "code",
   "execution_count": 2,
   "id": "ff4f0a6c",
   "metadata": {},
   "outputs": [],
   "source": [
    "api_prefix = \"https://api.aviationapi.com/v1\"\n",
    "\n",
    "resp = requests.get(\n",
    "    api_prefix + \"/airports/\",\n",
    "    params={\n",
    "        \"apt\": \"EWR,NY36\" # search only for Newark Liberty and ADIRONDACK MEDICAL CENTER\n",
    "    }\n",
    ")"
   ]
  },
  {
   "cell_type": "code",
   "execution_count": 3,
   "id": "55d356d5",
   "metadata": {},
   "outputs": [
    {
     "data": {
      "text/plain": [
       "200"
      ]
     },
     "execution_count": 3,
     "metadata": {},
     "output_type": "execute_result"
    }
   ],
   "source": [
    "resp.status_code # Status code 200 means the request was successful\n",
    "# See https://developer.mozilla.org/en-US/docs/Web/HTTP/Status for all HTTP statuses"
   ]
  },
  {
   "cell_type": "code",
   "execution_count": 4,
   "id": "bfa6daff",
   "metadata": {},
   "outputs": [
    {
     "data": {
      "text/plain": [
       "'application/json'"
      ]
     },
     "execution_count": 4,
     "metadata": {},
     "output_type": "execute_result"
    }
   ],
   "source": [
    "resp.headers['content-type'] # If you're using a RESTful API, odds are the content type will be JSON"
   ]
  },
  {
   "cell_type": "code",
   "execution_count": 5,
   "id": "697fabf4",
   "metadata": {},
   "outputs": [
    {
     "data": {
      "text/plain": [
       "b'{\"EWR\":[{\"site_number\":\"14052.*A\",\"type\":\"AIRPORT\",\"facility_name\":\"NEWARK LIBERTY INTL\",\"faa_ident\":\"EWR\",\"icao_ident\":\"KEWR\",\"region\":\"AEA\",\"district_office\":\"NYC\",\"state\":\"NJ\",\"state_full\":\"NEW JERSEY\",\"county\":\"ESSEX\",\"city\":\"NEWARK\",\"ownership\":\"PU\",\"use\":\"PU\",\"manager\":\"JAMES GILL\",\"manager_phone\":\"973-961-6161\",\"latitude\":\"40-41-32.9274N\",\"latitude_sec\":\"146492.9274N\",\"longitude\":\"074-10-07.2724W\",\"longitude_sec\":\"267007.2724W\",\"elevation\":\"17\",\"magnetic_variation\":\"13W\",\"tpa\":\"\",\"vfr_sectional\":\"NEW YORK\",\"boundary_artcc\":\"ZNY\",\"boundary_artcc_name\":\"NEW YORK\",\"responsible_artcc\":\"ZNY\",\"responsible_artcc_name\":\"NEW YORK\",\"fss_phone_number\":\"\",\"fss_phone_numer_tollfree\":\"1-800-WX-BRIEF\",\"notam_facility_ident\":\"EWR\",\"status\":\"O\",\"certification_typedate\":\"I E S 05\\\\/1973\",\"customs_airport_of_entry\":\"N\",\"military_joint_use\":\"N\",\"military_landing\":\"Y\",\"lighting_schedule\":\"\",\"beacon_schedule\":\"SS-SR\",\"control_tower\":\"Y\",\"unicom\":\"122.950\",\"ctaf\":\"\",\"effective_date\":\"11\\\\/04\\\\/2021\"}],\"NY36\":[{\"site_number\":\"16097.01*H\",\"type\":\"HELIPORT\",\"facility_name\":\"ADIRONDACK MEDICAL CENTER\",\"faa_ident\":\"NY36\",\"icao_ident\":\"NY36\",\"region\":\"AEA\",\"district_office\":\"NYC\",\"state\":\"NY\",\"state_full\":\"NEW YORK\",\"county\":\"FRANKLIN\",\"city\":\"SARANAC LAKE\",\"ownership\":\"PR\",\"use\":\"PR\",\"manager\":\"MARK YAMRICK\",\"manager_phone\":\"518-891-4141\",\"latitude\":\"44-20-39.1800N\",\"latitude_sec\":\"159639.1800N\",\"longitude\":\"074-08-32.1900W\",\"longitude_sec\":\"266912.1900W\",\"elevation\":\"1594\",\"magnetic_variation\":\"15W\",\"tpa\":\"\",\"vfr_sectional\":\"MONTREAL\",\"boundary_artcc\":\"ZBW\",\"boundary_artcc_name\":\"BOSTON\",\"responsible_artcc\":\"ZBW\",\"responsible_artcc_name\":\"BOSTON\",\"fss_phone_number\":\"\",\"fss_phone_numer_tollfree\":\"1-800-WX-BRIEF\",\"notam_facility_ident\":\"\",\"status\":\"O\",\"certification_typedate\":\"\",\"customs_airport_of_entry\":\"\",\"military_joint_use\":\"\",\"military_landing\":\"\",\"lighting_schedule\":\"SEE RMK\",\"beacon_schedule\":\"\",\"control_tower\":\"N\",\"unicom\":\"\",\"ctaf\":\"\",\"effective_date\":\"11\\\\/04\\\\/2021\"}]}'"
      ]
     },
     "execution_count": 5,
     "metadata": {},
     "output_type": "execute_result"
    }
   ],
   "source": [
    "resp.content # We can get the raw content, regardless of its type"
   ]
  },
  {
   "cell_type": "code",
   "execution_count": 6,
   "id": "5c89831d",
   "metadata": {},
   "outputs": [],
   "source": [
    "resp_obj = resp.json() # If it is JSON, we can parse it directly"
   ]
  },
  {
   "cell_type": "code",
   "execution_count": 7,
   "id": "047109f2",
   "metadata": {},
   "outputs": [
    {
     "data": {
      "text/plain": [
       "{'EWR': [{'site_number': '14052.*A',\n",
       "   'type': 'AIRPORT',\n",
       "   'facility_name': 'NEWARK LIBERTY INTL',\n",
       "   'faa_ident': 'EWR',\n",
       "   'icao_ident': 'KEWR',\n",
       "   'region': 'AEA',\n",
       "   'district_office': 'NYC',\n",
       "   'state': 'NJ',\n",
       "   'state_full': 'NEW JERSEY',\n",
       "   'county': 'ESSEX',\n",
       "   'city': 'NEWARK',\n",
       "   'ownership': 'PU',\n",
       "   'use': 'PU',\n",
       "   'manager': 'JAMES GILL',\n",
       "   'manager_phone': '973-961-6161',\n",
       "   'latitude': '40-41-32.9274N',\n",
       "   'latitude_sec': '146492.9274N',\n",
       "   'longitude': '074-10-07.2724W',\n",
       "   'longitude_sec': '267007.2724W',\n",
       "   'elevation': '17',\n",
       "   'magnetic_variation': '13W',\n",
       "   'tpa': '',\n",
       "   'vfr_sectional': 'NEW YORK',\n",
       "   'boundary_artcc': 'ZNY',\n",
       "   'boundary_artcc_name': 'NEW YORK',\n",
       "   'responsible_artcc': 'ZNY',\n",
       "   'responsible_artcc_name': 'NEW YORK',\n",
       "   'fss_phone_number': '',\n",
       "   'fss_phone_numer_tollfree': '1-800-WX-BRIEF',\n",
       "   'notam_facility_ident': 'EWR',\n",
       "   'status': 'O',\n",
       "   'certification_typedate': 'I E S 05/1973',\n",
       "   'customs_airport_of_entry': 'N',\n",
       "   'military_joint_use': 'N',\n",
       "   'military_landing': 'Y',\n",
       "   'lighting_schedule': '',\n",
       "   'beacon_schedule': 'SS-SR',\n",
       "   'control_tower': 'Y',\n",
       "   'unicom': '122.950',\n",
       "   'ctaf': '',\n",
       "   'effective_date': '11/04/2021'}],\n",
       " 'NY36': [{'site_number': '16097.01*H',\n",
       "   'type': 'HELIPORT',\n",
       "   'facility_name': 'ADIRONDACK MEDICAL CENTER',\n",
       "   'faa_ident': 'NY36',\n",
       "   'icao_ident': 'NY36',\n",
       "   'region': 'AEA',\n",
       "   'district_office': 'NYC',\n",
       "   'state': 'NY',\n",
       "   'state_full': 'NEW YORK',\n",
       "   'county': 'FRANKLIN',\n",
       "   'city': 'SARANAC LAKE',\n",
       "   'ownership': 'PR',\n",
       "   'use': 'PR',\n",
       "   'manager': 'MARK YAMRICK',\n",
       "   'manager_phone': '518-891-4141',\n",
       "   'latitude': '44-20-39.1800N',\n",
       "   'latitude_sec': '159639.1800N',\n",
       "   'longitude': '074-08-32.1900W',\n",
       "   'longitude_sec': '266912.1900W',\n",
       "   'elevation': '1594',\n",
       "   'magnetic_variation': '15W',\n",
       "   'tpa': '',\n",
       "   'vfr_sectional': 'MONTREAL',\n",
       "   'boundary_artcc': 'ZBW',\n",
       "   'boundary_artcc_name': 'BOSTON',\n",
       "   'responsible_artcc': 'ZBW',\n",
       "   'responsible_artcc_name': 'BOSTON',\n",
       "   'fss_phone_number': '',\n",
       "   'fss_phone_numer_tollfree': '1-800-WX-BRIEF',\n",
       "   'notam_facility_ident': '',\n",
       "   'status': 'O',\n",
       "   'certification_typedate': '',\n",
       "   'customs_airport_of_entry': '',\n",
       "   'military_joint_use': '',\n",
       "   'military_landing': '',\n",
       "   'lighting_schedule': 'SEE RMK',\n",
       "   'beacon_schedule': '',\n",
       "   'control_tower': 'N',\n",
       "   'unicom': '',\n",
       "   'ctaf': '',\n",
       "   'effective_date': '11/04/2021'}]}"
      ]
     },
     "execution_count": 7,
     "metadata": {},
     "output_type": "execute_result"
    }
   ],
   "source": [
    "resp_obj"
   ]
  },
  {
   "cell_type": "code",
   "execution_count": null,
   "id": "99b789cf",
   "metadata": {},
   "outputs": [],
   "source": []
  },
  {
   "cell_type": "code",
   "execution_count": 8,
   "id": "4f33c907",
   "metadata": {},
   "outputs": [],
   "source": [
    "# Define a list of airports associated with the New York Airport District Office\n",
    "#. This list is not exhaustive\n",
    "list_of_nyc_airports = [\n",
    "    \"3C8\", #CALVERTON EXEC AIRPARK\n",
    "    \"6NY0\", #ORANGE RGNL MEDICAL CENTER\n",
    "    \"8NY1\", #JAMES CARL MEML\n",
    "    \"ALB\", #ALBANY INTL\n",
    "    \"ART\", #WATERTOWN INTL\n",
    "    \"BGM\", #GREATER BINGHAMTON/EDWIN A LINK FLD\n",
    "    \"BUF\", #BUFFALO NIAGARA INTL\n",
    "    \"ELM\", #ELMIRA/CORNING RGNL\n",
    "    \"EWR\", #NEWARK LIBERTY INTL\n",
    "    \"FOK\", #FRANCIS S GABRESKI\n",
    "    \"HPN\", #WESTCHESTER COUNTY\n",
    "    \"IAG\", #NIAGARA FALLS INTL\n",
    "    \"ISP\", #LONG ISLAND MAC ARTHUR\n",
    "    \"JFK\", #JOHN F KENNEDY INTL\n",
    "    \"JHW\", #CHAUTAUQUA COUNTY/JAMESTOWN\n",
    "    \"LGA\", #LAGUARDIA\n",
    "    \"MSS\", #MASSENA INTL-RICHARDS FLD\n",
    "    \"PBG\", #PLATTSBURGH INTL\n",
    "    \"RME\", #GRIFFISS INTL\n",
    "    \"ROC\", #FREDERICK DOUGLASS/GREATER ROCHESTER INTL\n",
    "    \"SCH\", #SCHENECTADY COUNTY\n",
    "    \"SLK\", #ADIRONDACK RGNL\n",
    "    \"SWF\", #NEW YORK STEWART INTL\n",
    "    \"SYR\", #SYRACUSE HANCOCK INTL\n",
    "    \"TEB\", #TETERBORO\n",
    "]"
   ]
  },
  {
   "cell_type": "code",
   "execution_count": 9,
   "id": "19905d4b",
   "metadata": {},
   "outputs": [],
   "source": [
    "resp = requests.get(\n",
    "    api_prefix + \"/airports/\",\n",
    "    params={\n",
    "        \"apt\": \",\".join(list_of_nyc_airports),\n",
    "    }\n",
    ")"
   ]
  },
  {
   "cell_type": "code",
   "execution_count": null,
   "id": "bca9f80f",
   "metadata": {},
   "outputs": [],
   "source": []
  },
  {
   "cell_type": "code",
   "execution_count": 10,
   "id": "a4a3802b",
   "metadata": {},
   "outputs": [],
   "source": [
    "assert resp.status_code == 200\n",
    "assert resp.headers[\"content-type\"] == \"application/json\""
   ]
  },
  {
   "cell_type": "code",
   "execution_count": null,
   "id": "a71fb744",
   "metadata": {},
   "outputs": [],
   "source": []
  },
  {
   "cell_type": "code",
   "execution_count": 11,
   "id": "cf0e7fac",
   "metadata": {},
   "outputs": [],
   "source": [
    "resp_object = resp.json()"
   ]
  },
  {
   "cell_type": "code",
   "execution_count": 12,
   "id": "4e7950c3",
   "metadata": {
    "scrolled": false
   },
   "outputs": [
    {
     "name": "stdout",
     "output_type": "stream",
     "text": [
      "Airport Code: 3C8\n",
      "\t Facility: CALVERTON EXEC AIRPARK\n",
      "\t Type: AIRPORT\n",
      "\t Use: PR\n",
      "\t Location: CALVERTON NY\n",
      "Airport Code: 6NY0\n",
      "\t Facility: ORANGE RGNL MEDICAL CENTER\n",
      "\t Type: HELIPORT\n",
      "\t Use: PR\n",
      "\t Location: MIDDLETOWN NY\n",
      "Airport Code: 8NY1\n",
      "\t Facility: JAMES CARL MEML\n",
      "\t Type: HELIPORT\n",
      "\t Use: PR\n",
      "\t Location: ROSCOE NY\n",
      "Airport Code: ALB\n",
      "\t Facility: ALBANY INTL\n",
      "\t Type: AIRPORT\n",
      "\t Use: PU\n",
      "\t Location: ALBANY NY\n",
      "Airport Code: ART\n",
      "\t Facility: WATERTOWN INTL\n",
      "\t Type: AIRPORT\n",
      "\t Use: PU\n",
      "\t Location: WATERTOWN NY\n",
      "Airport Code: BGM\n",
      "\t Facility: GREATER BINGHAMTON/EDWIN A LINK FLD\n",
      "\t Type: AIRPORT\n",
      "\t Use: PU\n",
      "\t Location: BINGHAMTON NY\n",
      "Airport Code: BUF\n",
      "\t Facility: BUFFALO NIAGARA INTL\n",
      "\t Type: AIRPORT\n",
      "\t Use: PU\n",
      "\t Location: BUFFALO NY\n",
      "Airport Code: ELM\n",
      "\t Facility: ELMIRA/CORNING RGNL\n",
      "\t Type: AIRPORT\n",
      "\t Use: PU\n",
      "\t Location: ELMIRA/CORNING NY\n",
      "Airport Code: EWR\n",
      "\t Facility: NEWARK LIBERTY INTL\n",
      "\t Type: AIRPORT\n",
      "\t Use: PU\n",
      "\t Location: NEWARK NJ\n",
      "Airport Code: FOK\n",
      "\t Facility: FRANCIS S GABRESKI\n",
      "\t Type: AIRPORT\n",
      "\t Use: PU\n",
      "\t Location: WESTHAMPTON BEACH NY\n",
      "Airport Code: HPN\n",
      "\t Facility: WESTCHESTER COUNTY\n",
      "\t Type: AIRPORT\n",
      "\t Use: PU\n",
      "\t Location: WHITE PLAINS NY\n",
      "Airport Code: IAG\n",
      "\t Facility: NIAGARA FALLS INTL\n",
      "\t Type: AIRPORT\n",
      "\t Use: PU\n",
      "\t Location: NIAGARA FALLS NY\n",
      "Airport Code: ISP\n",
      "\t Facility: LONG ISLAND MAC ARTHUR\n",
      "\t Type: AIRPORT\n",
      "\t Use: PU\n",
      "\t Location: NEW YORK NY\n",
      "Airport Code: JFK\n",
      "\t Facility: JOHN F KENNEDY INTL\n",
      "\t Type: AIRPORT\n",
      "\t Use: PU\n",
      "\t Location: NEW YORK NY\n",
      "Airport Code: JHW\n",
      "\t Facility: CHAUTAUQUA COUNTY/JAMESTOWN\n",
      "\t Type: AIRPORT\n",
      "\t Use: PU\n",
      "\t Location: JAMESTOWN NY\n",
      "Airport Code: LGA\n",
      "\t Facility: LAGUARDIA\n",
      "\t Type: AIRPORT\n",
      "\t Use: PU\n",
      "\t Location: NEW YORK NY\n",
      "Airport Code: MSS\n",
      "\t Facility: MASSENA INTL-RICHARDS FLD\n",
      "\t Type: AIRPORT\n",
      "\t Use: PU\n",
      "\t Location: MASSENA NY\n",
      "Airport Code: PBG\n",
      "\t Facility: PLATTSBURGH INTL\n",
      "\t Type: AIRPORT\n",
      "\t Use: PU\n",
      "\t Location: PLATTSBURGH NY\n",
      "Airport Code: RME\n",
      "\t Facility: GRIFFISS INTL\n",
      "\t Type: AIRPORT\n",
      "\t Use: PU\n",
      "\t Location: ROME NY\n",
      "Airport Code: ROC\n",
      "\t Facility: FREDERICK DOUGLASS - GREATER ROCHESTER INTL\n",
      "\t Type: AIRPORT\n",
      "\t Use: PU\n",
      "\t Location: ROCHESTER NY\n",
      "Airport Code: SCH\n",
      "\t Facility: SCHENECTADY COUNTY\n",
      "\t Type: AIRPORT\n",
      "\t Use: PU\n",
      "\t Location: SCHENECTADY NY\n",
      "Airport Code: SLK\n",
      "\t Facility: ADIRONDACK RGNL\n",
      "\t Type: AIRPORT\n",
      "\t Use: PU\n",
      "\t Location: SARANAC LAKE NY\n",
      "Airport Code: SWF\n",
      "\t Facility: NEW YORK STEWART INTL\n",
      "\t Type: AIRPORT\n",
      "\t Use: PU\n",
      "\t Location: NEW YORK NY\n",
      "Airport Code: SYR\n",
      "\t Facility: SYRACUSE HANCOCK INTL\n",
      "\t Type: AIRPORT\n",
      "\t Use: PU\n",
      "\t Location: SYRACUSE NY\n",
      "Airport Code: TEB\n",
      "\t Facility: TETERBORO\n",
      "\t Type: AIRPORT\n",
      "\t Use: PU\n",
      "\t Location: TETERBORO NJ\n"
     ]
    }
   ],
   "source": [
    "for k,v in resp_object.items():\n",
    "    print(\"Airport Code:\", k)\n",
    "    \n",
    "    airport_info = v[0] # Get the first entry in this airport code\n",
    "    print(\"\\t\", \"Facility:\", airport_info[\"facility_name\"])\n",
    "    print(\"\\t\", \"Type:\", airport_info[\"type\"])\n",
    "    print(\"\\t\", \"Use:\", airport_info[\"use\"])\n",
    "    print(\"\\t\", \"Location:\", airport_info[\"city\"], airport_info[\"state\"])"
   ]
  },
  {
   "cell_type": "code",
   "execution_count": null,
   "id": "2ee06ace",
   "metadata": {},
   "outputs": [],
   "source": []
  },
  {
   "cell_type": "markdown",
   "id": "fd8cb15a",
   "metadata": {},
   "source": [
    "## Average Temperatures\n",
    "\n",
    "Lets get the average temperature for airports in this list. That is, we will exclude heliports and other non-airport types, and we'll use the API to get weather conditions at these places."
   ]
  },
  {
   "cell_type": "code",
   "execution_count": 13,
   "id": "05a57cc8",
   "metadata": {},
   "outputs": [
    {
     "name": "stdout",
     "output_type": "stream",
     "text": [
      "Adding Airport Code: 3C8\n",
      "Adding Airport Code: ALB\n",
      "Adding Airport Code: ART\n",
      "Adding Airport Code: BGM\n",
      "Adding Airport Code: BUF\n",
      "Adding Airport Code: ELM\n",
      "Adding Airport Code: EWR\n",
      "Adding Airport Code: FOK\n",
      "Adding Airport Code: HPN\n",
      "Adding Airport Code: IAG\n",
      "Adding Airport Code: ISP\n",
      "Adding Airport Code: JFK\n",
      "Adding Airport Code: JHW\n",
      "Adding Airport Code: LGA\n",
      "Adding Airport Code: MSS\n",
      "Adding Airport Code: PBG\n",
      "Adding Airport Code: RME\n",
      "Adding Airport Code: ROC\n",
      "Adding Airport Code: SCH\n",
      "Adding Airport Code: SLK\n",
      "Adding Airport Code: SWF\n",
      "Adding Airport Code: SYR\n",
      "Adding Airport Code: TEB\n"
     ]
    }
   ],
   "source": [
    "target_airport_list = []\n",
    "\n",
    "for k,v in resp_object.items():\n",
    "    airport_info = v[0] # Get the first entry in this airport code\n",
    "    if airport_info[\"type\"] != \"AIRPORT\":\n",
    "        continue\n",
    "    \n",
    "    target_airport_list.append(k)\n",
    "    print(\"Adding Airport Code:\", k)\n"
   ]
  },
  {
   "cell_type": "code",
   "execution_count": null,
   "id": "49cc9639",
   "metadata": {},
   "outputs": [],
   "source": []
  },
  {
   "cell_type": "code",
   "execution_count": 14,
   "id": "9228aeb3",
   "metadata": {},
   "outputs": [
    {
     "name": "stdout",
     "output_type": "stream",
     "text": [
      "3C8\n",
      "No weather info for aiport: 3C8\n",
      "ALB\n",
      "ART\n",
      "BGM\n",
      "BUF\n",
      "ELM\n",
      "EWR\n",
      "FOK\n",
      "HPN\n",
      "IAG\n",
      "ISP\n",
      "JFK\n",
      "JHW\n",
      "LGA\n",
      "MSS\n",
      "PBG\n",
      "RME\n",
      "ROC\n",
      "SCH\n",
      "No weather info for aiport: SCH\n",
      "SLK\n",
      "SWF\n",
      "No weather info for aiport: SWF\n",
      "SYR\n",
      "TEB\n"
     ]
    }
   ],
   "source": [
    "temp_list = [] # List of temperatures\n",
    "\n",
    "for airport_code in target_airport_list:\n",
    "    print(airport_code)\n",
    "    \n",
    "    resp = requests.get(\n",
    "        api_prefix + \"/weather/metar\",\n",
    "        params={\n",
    "            \"apt\": airport_code\n",
    "        }\n",
    "    )\n",
    "    \n",
    "    if resp.status_code != 200:\n",
    "        print(\"No weather info for aiport:\", airport_code)\n",
    "        continue\n",
    "    \n",
    "    assert resp.headers[\"content-type\"] == \"application/json\"\n",
    "    \n",
    "    this_airport_weather = resp.json()\n",
    "    \n",
    "    # Iterate through the weather stations at this airport\n",
    "    for this_station in this_airport_weather.values():\n",
    "        if len(this_station[\"temp\"]) > 0:\n",
    "            temp_list.append(float(this_station[\"temp\"]))\n",
    "\n",
    "    # To avoid hammering the API, let's sleep for a second between requests\n",
    "    time.sleep(1)"
   ]
  },
  {
   "cell_type": "code",
   "execution_count": null,
   "id": "00eb0167",
   "metadata": {},
   "outputs": [],
   "source": []
  },
  {
   "cell_type": "code",
   "execution_count": 15,
   "id": "1c1eec14",
   "metadata": {},
   "outputs": [
    {
     "data": {
      "text/plain": [
       "[39.92,\n",
       " 44.96,\n",
       " 35.96,\n",
       " 44.96,\n",
       " 37.94,\n",
       " 42.980000000000004,\n",
       " 42.980000000000004,\n",
       " 44.06,\n",
       " 44.06,\n",
       " 44.06,\n",
       " 44.06,\n",
       " 41.0,\n",
       " 41.0,\n",
       " 46.04,\n",
       " 39.92,\n",
       " 42.08,\n",
       " 42.980000000000004,\n",
       " 42.08,\n",
       " 44.06,\n",
       " 44.96]"
      ]
     },
     "execution_count": 15,
     "metadata": {},
     "output_type": "execute_result"
    }
   ],
   "source": [
    "temp_in_fahrenheit = [v*9/5+32 for v in temp_list]\n",
    "temp_in_fahrenheit"
   ]
  },
  {
   "cell_type": "code",
   "execution_count": 16,
   "id": "00479a15",
   "metadata": {},
   "outputs": [
    {
     "name": "stdout",
     "output_type": "stream",
     "text": [
      "Mean Temperature: 42.50300000000001\n"
     ]
    }
   ],
   "source": [
    "print(\"Mean Temperature:\", np.mean(temp_in_fahrenheit))"
   ]
  },
  {
   "cell_type": "markdown",
   "id": "907e0fd3",
   "metadata": {},
   "source": [
    "## Most common aircraft type\n",
    "\n",
    "What are the most common types of aircraft landing at these airports?"
   ]
  },
  {
   "cell_type": "code",
   "execution_count": 17,
   "id": "7889a93e",
   "metadata": {},
   "outputs": [
    {
     "name": "stdout",
     "output_type": "stream",
     "text": [
      "3C8\n",
      "\t Flights associated with this airport: 0\n",
      "ALB\n",
      "\t Flights associated with this airport: 1\n",
      "ART\n",
      "\t Flights associated with this airport: 0\n",
      "BGM\n",
      "\t Flights associated with this airport: 0\n",
      "BUF\n",
      "\t Flights associated with this airport: 0\n",
      "ELM\n",
      "\t Flights associated with this airport: 0\n",
      "EWR\n",
      "\t Flights associated with this airport: 5\n",
      "FOK\n",
      "\t Flights associated with this airport: 1\n",
      "HPN\n",
      "\t Flights associated with this airport: 0\n",
      "IAG\n",
      "\t Flights associated with this airport: 0\n",
      "ISP\n",
      "\t Flights associated with this airport: 0\n",
      "JFK\n",
      "\t Flights associated with this airport: 7\n",
      "JHW\n",
      "\t Flights associated with this airport: 0\n",
      "LGA\n",
      "\t Flights associated with this airport: 5\n",
      "MSS\n",
      "\t Flights associated with this airport: 0\n",
      "PBG\n",
      "\t Flights associated with this airport: 0\n",
      "RME\n",
      "\t Flights associated with this airport: 0\n",
      "ROC\n",
      "\t Flights associated with this airport: 0\n",
      "SCH\n",
      "\t Flights associated with this airport: 0\n",
      "SLK\n",
      "\t Flights associated with this airport: 0\n",
      "SWF\n",
      "\t Flights associated with this airport: 0\n",
      "SYR\n",
      "\t Flights associated with this airport: 0\n",
      "TEB\n",
      "\t Flights associated with this airport: 1\n"
     ]
    }
   ],
   "source": [
    "aircraft_type = {} # Aircraft types and their counts\n",
    "\n",
    "for airport_code in target_airport_list:\n",
    "    print(airport_code)\n",
    "    \n",
    "    resp = requests.get(\n",
    "        api_prefix + \"/vatsim/pilots\", # Using the /vatsim/pilots endpoint\n",
    "        params={\n",
    "            \"apt\": airport_code\n",
    "        }\n",
    "    )\n",
    "    \n",
    "    if resp.status_code != 200:\n",
    "        print(\"No departures/arrivals info for aiport:\", airport_code)\n",
    "        continue\n",
    "    \n",
    "    assert resp.headers[\"content-type\"] == \"application/json\"\n",
    "    \n",
    "    this_apt_flights_obj = resp.json()\n",
    "    \n",
    "    # For each station associated with this airport, get its flight info\n",
    "    # and update counts for aircraft type\n",
    "    flight_count = 0\n",
    "    for station_flights in this_apt_flights_obj.values():\n",
    "\n",
    "        for flight in station_flights[\"Departures\"]:\n",
    "            aircraft_type[flight[\"aircraft\"]] = aircraft_type.get(flight[\"aircraft\"], 0) + 1\n",
    "            flight_count += 1\n",
    "        for flight in station_flights[\"Arrivals\"]:\n",
    "            aircraft_type[flight[\"aircraft\"]] = aircraft_type.get(flight[\"aircraft\"], 0) + 1\n",
    "            flight_count += 1\n",
    "    \n",
    "    print(\"\\t\", \"Flights associated with this airport:\", flight_count)\n",
    "\n",
    "    # To avoid hammering the API, let's sleep for a second between requests\n",
    "    time.sleep(1)"
   ]
  },
  {
   "cell_type": "code",
   "execution_count": 18,
   "id": "47a87301",
   "metadata": {},
   "outputs": [
    {
     "data": {
      "text/plain": [
       "{'B739/W': 1,\n",
       " 'B738/L': 4,\n",
       " 'B752': 1,\n",
       " 'A319/L': 1,\n",
       " 'B752/Z': 1,\n",
       " 'B763': 1,\n",
       " 'BE60/G': 1,\n",
       " 'A321': 1,\n",
       " 'B789/L': 1,\n",
       " 'B78X/Z': 1,\n",
       " 'B752/L': 2,\n",
       " 'B772': 1,\n",
       " 'B739/L': 1,\n",
       " 'AT72/L': 1,\n",
       " 'T/B738-300/F': 1,\n",
       " 'LJ35/G': 1}"
      ]
     },
     "execution_count": 18,
     "metadata": {},
     "output_type": "execute_result"
    }
   ],
   "source": [
    "aircraft_type"
   ]
  },
  {
   "cell_type": "code",
   "execution_count": null,
   "id": "06019854",
   "metadata": {},
   "outputs": [],
   "source": []
  }
 ],
 "metadata": {
  "kernelspec": {
   "display_name": "Python 3",
   "language": "python",
   "name": "python3"
  },
  "language_info": {
   "codemirror_mode": {
    "name": "ipython",
    "version": 3
   },
   "file_extension": ".py",
   "mimetype": "text/x-python",
   "name": "python",
   "nbconvert_exporter": "python",
   "pygments_lexer": "ipython3",
   "version": "3.8.8"
  }
 },
 "nbformat": 4,
 "nbformat_minor": 5
}
