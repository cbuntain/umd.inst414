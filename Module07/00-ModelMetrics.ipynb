{
 "cells": [
  {
   "cell_type": "code",
   "execution_count": null,
   "id": "bb6aaa02",
   "metadata": {},
   "outputs": [],
   "source": [
    "import pandas as pd\n",
    "import numpy as np"
   ]
  },
  {
   "cell_type": "code",
   "execution_count": null,
   "id": "852907ad",
   "metadata": {},
   "outputs": [],
   "source": []
  },
  {
   "cell_type": "code",
   "execution_count": null,
   "id": "c041cce5",
   "metadata": {},
   "outputs": [],
   "source": [
    "model_pred_df = pd.read_csv(\"prediction_model_03.csv\")"
   ]
  },
  {
   "cell_type": "code",
   "execution_count": null,
   "id": "144357ee",
   "metadata": {},
   "outputs": [],
   "source": [
    "model_pred_df[\"predicted\"].value_counts()"
   ]
  },
  {
   "cell_type": "code",
   "execution_count": null,
   "id": "7399d273",
   "metadata": {},
   "outputs": [],
   "source": []
  },
  {
   "cell_type": "code",
   "execution_count": null,
   "id": "cd2daf85",
   "metadata": {},
   "outputs": [],
   "source": [
    "genres_df = pd.read_csv(\"genres.csv\")"
   ]
  },
  {
   "cell_type": "code",
   "execution_count": null,
   "id": "8043712e",
   "metadata": {},
   "outputs": [],
   "source": [
    "genre_list = genres_df[\"genre\"].value_counts().index.tolist()\n",
    "genre_true_counts = {row[\"genre\"]:0 for idx,row in genres_df.iterrows()}\n",
    "genre_tp_counts = {row[\"genre\"]:0 for idx,row in genres_df.iterrows()}\n",
    "genre_fp_counts = {row[\"genre\"]:0 for idx,row in genres_df.iterrows()}"
   ]
  },
  {
   "cell_type": "code",
   "execution_count": null,
   "id": "72034606",
   "metadata": {},
   "outputs": [],
   "source": [
    "sorted(genre_list)"
   ]
  },
  {
   "cell_type": "code",
   "execution_count": null,
   "id": "4aece25f",
   "metadata": {},
   "outputs": [],
   "source": []
  },
  {
   "cell_type": "code",
   "execution_count": null,
   "id": "38ebae0c",
   "metadata": {},
   "outputs": [],
   "source": [
    "for idx,row in model_pred_df.iterrows():\n",
    "    this_genres = eval(row[\"actual genres\"])\n",
    "    \n",
    "    for true_g in this_genres:\n",
    "        genre_true_counts[true_g] = genre_true_counts.get(true_g, 0) + 1\n",
    "        \n",
    "    pred_g = row[\"predicted\"]\n",
    "    if pred_g in this_genres:\n",
    "        genre_tp_counts[pred_g] = genre_tp_counts.get(pred_g, 0) + 1\n",
    "    else:\n",
    "        genre_fp_counts[pred_g] = genre_fp_counts.get(pred_g, 0) + 1"
   ]
  },
  {
   "cell_type": "code",
   "execution_count": null,
   "id": "8f4ff118",
   "metadata": {},
   "outputs": [],
   "source": []
  },
  {
   "cell_type": "code",
   "execution_count": null,
   "id": "38b83c4f",
   "metadata": {},
   "outputs": [],
   "source": [
    "# prec = tp / (tp + fp)\n",
    "# recall = tp / (tp + fn)\n",
    "tp = 0\n",
    "fp = 0\n",
    "fn = 0\n",
    "for genre in genre_list:\n",
    "    tp += genre_tp_counts[genre]\n",
    "    fp += genre_fp_counts[genre]\n",
    "    fn += (genre_true_counts[genre] - genre_tp_counts[genre])\n",
    "    \n",
    "prec = tp / (tp + fp)\n",
    "recall = tp / (tp + fn)\n",
    "\n",
    "print(\"Micro-Precision:\", prec)\n",
    "print(\"Micro-Recall:\", recall)\n",
    "print(\"Micro-F1:\", (2 * (prec * recall) / (prec + recall)))"
   ]
  },
  {
   "cell_type": "code",
   "execution_count": null,
   "id": "8679f695",
   "metadata": {},
   "outputs": [],
   "source": []
  },
  {
   "cell_type": "code",
   "execution_count": null,
   "id": "42e4a1b4",
   "metadata": {},
   "outputs": [],
   "source": [
    "macro_prec_list = []\n",
    "macro_recall_list = []\n",
    "macro_f1_list = []\n",
    "\n",
    "for genre in genre_list:\n",
    "    local_tp = genre_tp_counts[genre]\n",
    "    local_fp = genre_fp_counts[genre]\n",
    "    local_fn = (genre_true_counts[genre] - genre_tp_counts[genre])\n",
    "    \n",
    "    print(genre)\n",
    "    \n",
    "    local_prec = 0.0\n",
    "    local_recall = 0.0\n",
    "    \n",
    "    if local_tp > 0:\n",
    "        local_prec = local_tp / (local_tp + local_fp)\n",
    "        local_recall = local_tp / (local_tp + local_fn)\n",
    "    local_f1 = 0.0\n",
    "    if (local_prec + local_recall) > 0:\n",
    "        local_f1 = (2 * (local_prec * local_recall) / (local_prec + local_recall))\n",
    "        \n",
    "    macro_prec_list.append(local_prec)\n",
    "    macro_recall_list.append(local_recall)\n",
    "    macro_f1_list.append(local_f1)\n",
    "    \n",
    "    print(\"\\tPrecision:\", local_prec)\n",
    "    print(\"\\tRecall:\", local_recall)\n",
    "    print(\"\\tF1:\", local_f1)\n",
    "    \n",
    "print(\"-\"*20)\n",
    "print(\"Macro-Precision:\", np.mean(macro_prec_list))\n",
    "print(\"Macro-Recall:\", np.mean(macro_recall_list))\n",
    "print(\"Macro-F1:\", np.mean(macro_f1_list))"
   ]
  },
  {
   "cell_type": "code",
   "execution_count": null,
   "id": "9fc00054",
   "metadata": {},
   "outputs": [],
   "source": []
  },
  {
   "cell_type": "markdown",
   "id": "e6c29c1a",
   "metadata": {},
   "source": [
    "## SKLearn's Metrics"
   ]
  },
  {
   "cell_type": "code",
   "execution_count": null,
   "id": "c0a52641",
   "metadata": {},
   "outputs": [],
   "source": [
    "pred_rows = []\n",
    "true_rows = []\n",
    "\n",
    "for idx,row in model_pred_df.iterrows():\n",
    "    this_genres = eval(row[\"actual genres\"])\n",
    "    pred_g = {row[\"predicted\"]}\n",
    "\n",
    "    true_rows.append({\n",
    "        g:1 if g in this_genres else 0 for g in genre_list\n",
    "    })\n",
    "    \n",
    "    pred_rows.append({\n",
    "        g:1 if g in pred_g else 0 for g in genre_list\n",
    "    })\n",
    "    \n",
    "pred_matrix = pd.DataFrame(pred_rows)\n",
    "true_matrix = pd.DataFrame(true_rows)"
   ]
  },
  {
   "cell_type": "code",
   "execution_count": null,
   "id": "d10e7f79",
   "metadata": {},
   "outputs": [],
   "source": []
  },
  {
   "cell_type": "code",
   "execution_count": null,
   "id": "ca8edbb2",
   "metadata": {},
   "outputs": [],
   "source": [
    "from sklearn.metrics import precision_recall_fscore_support"
   ]
  },
  {
   "cell_type": "code",
   "execution_count": null,
   "id": "782f0a73",
   "metadata": {},
   "outputs": [],
   "source": [
    "macro_prec, macro_rec, macro_f1, _ = precision_recall_fscore_support(true_matrix, pred_matrix, average=\"macro\")\n",
    "\n",
    "print(\"-\"*20)\n",
    "print(\"Macro-Precision:\", macro_prec)\n",
    "print(\"Macro-Recall:\", macro_rec)\n",
    "print(\"Macro-F1:\", macro_f1)"
   ]
  },
  {
   "cell_type": "code",
   "execution_count": null,
   "id": "33d866cf",
   "metadata": {},
   "outputs": [],
   "source": []
  },
  {
   "cell_type": "code",
   "execution_count": null,
   "id": "d75f0079",
   "metadata": {},
   "outputs": [],
   "source": [
    "micro_prec, micro_rec, micro_f1, _ = precision_recall_fscore_support(true_matrix, pred_matrix, average=\"micro\")\n",
    "\n",
    "print(\"-\"*20)\n",
    "print(\"Micro-Precision:\", micro_prec)\n",
    "print(\"Micro-Recall:\", micro_rec)\n",
    "print(\"Micro-F1:\", micro_f1)"
   ]
  },
  {
   "cell_type": "code",
   "execution_count": null,
   "id": "deb1116d",
   "metadata": {},
   "outputs": [],
   "source": []
  },
  {
   "cell_type": "code",
   "execution_count": null,
   "id": "2f17cb1d",
   "metadata": {},
   "outputs": [],
   "source": [
    "true_matrix\n"
   ]
  },
  {
   "cell_type": "code",
   "execution_count": null,
   "id": "1b25a486",
   "metadata": {},
   "outputs": [],
   "source": [
    "pred_matrix"
   ]
  },
  {
   "cell_type": "code",
   "execution_count": null,
   "id": "bc3dfe51",
   "metadata": {},
   "outputs": [],
   "source": []
  }
 ],
 "metadata": {
  "kernelspec": {
   "display_name": "Python 3 (ipykernel)",
   "language": "python",
   "name": "python3"
  },
  "language_info": {
   "codemirror_mode": {
    "name": "ipython",
    "version": 3
   },
   "file_extension": ".py",
   "mimetype": "text/x-python",
   "name": "python",
   "nbconvert_exporter": "python",
   "pygments_lexer": "ipython3",
   "version": "3.9.12"
  }
 },
 "nbformat": 4,
 "nbformat_minor": 5
}
