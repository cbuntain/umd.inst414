{
 "cells": [
  {
   "cell_type": "markdown",
   "id": "0cc61baf",
   "metadata": {},
   "source": [
    "# Determine Movie Genre by Neighboring Movies\n",
    "\n",
    "Using the k-nearest neighbors method, use the top-k most similar movies to a target film to predict the target movie's genre.\n",
    "\n",
    "Use Jaccard similarity based on actors in each movie to rank movies and select the top-k most similar movies."
   ]
  },
  {
   "cell_type": "code",
   "execution_count": 1,
   "id": "47d80463",
   "metadata": {},
   "outputs": [],
   "source": [
    "import json\n",
    "\n",
    "import pandas as pd\n",
    "import numpy as np\n",
    "\n",
    "from scipy.sparse import lil_matrix\n",
    "\n",
    "import matplotlib.pyplot as plt\n"
   ]
  },
  {
   "cell_type": "code",
   "execution_count": 2,
   "id": "09e36e97",
   "metadata": {},
   "outputs": [],
   "source": [
    "actor_name_map = {}\n",
    "movie_actor_map = {}\n",
    "actor_genre_map = {}\n",
    "\n",
    "\n",
    "with open(\"../data/imdb_movies_2000to2022.prolific.json\", \"r\") as in_file:\n",
    "    for line in in_file:\n",
    "        \n",
    "        # Read the movie on this line and parse its json\n",
    "        this_movie = json.loads(line)\n",
    "        \n",
    "        # Skip movies with no ratings\n",
    "        if len(this_movie[\"rating\"]) == 0:\n",
    "            continue\n",
    "                    \n",
    "        # Add all actors to the id->name map\n",
    "        for actor_id,actor_name in this_movie['actors']:\n",
    "            actor_name_map[actor_id] = actor_name\n",
    "            \n",
    "        # For each actor, add this movie's genres to that actor's list\n",
    "        for actor_id,actor_name in this_movie['actors']:\n",
    "            this_actors_genres = actor_genre_map.get(actor_id, {})\n",
    "            \n",
    "            # Increment the count of genres for this actor\n",
    "            for g in this_movie[\"genres\"]:\n",
    "                this_actors_genres[g] = this_actors_genres.get(g, 0) + 1\n",
    "                \n",
    "            # Update the map\n",
    "            actor_genre_map[actor_id] = this_actors_genres\n",
    "            \n",
    "        # Finished with this film\n",
    "        movie_actor_map[this_movie[\"imdb_id\"]] = ({\n",
    "            \"movie\": this_movie[\"title\"],\n",
    "            \"actors\": set([item[0] for item in this_movie['actors']]),\n",
    "            \"genres\": this_movie[\"genres\"],\n",
    "            \"rating\": this_movie[\"rating\"][\"avg\"]\n",
    "        })"
   ]
  },
  {
   "cell_type": "code",
   "execution_count": 3,
   "id": "2ecd8139",
   "metadata": {},
   "outputs": [
    {
     "name": "stdout",
     "output_type": "stream",
     "text": [
      "Known Actors: 29499\n",
      "Known Movies: 18841\n"
     ]
    }
   ],
   "source": [
    "print(\"Known Actors:\", len(actor_name_map))\n",
    "print(\"Known Movies:\", len(movie_actor_map))"
   ]
  },
  {
   "cell_type": "code",
   "execution_count": 4,
   "id": "07d6abab",
   "metadata": {},
   "outputs": [],
   "source": [
    "actor_id_to_index = {actor_id:i for i,actor_id in enumerate(actor_name_map.keys())}\n"
   ]
  },
  {
   "cell_type": "code",
   "execution_count": null,
   "id": "e9757703",
   "metadata": {},
   "outputs": [],
   "source": []
  },
  {
   "cell_type": "code",
   "execution_count": 5,
   "id": "0e4281b2",
   "metadata": {},
   "outputs": [],
   "source": [
    "target_movie_id = \"tt0317705\" # The Incredibles\n",
    "# target_movie_id = \"tt0816692\" # Interstellar\n",
    "# target_movie_id = \"tt0332280\" # The Notebook"
   ]
  },
  {
   "cell_type": "code",
   "execution_count": 6,
   "id": "03e7ca57",
   "metadata": {},
   "outputs": [],
   "source": [
    "target_movie_object = movie_actor_map[target_movie_id]"
   ]
  },
  {
   "cell_type": "code",
   "execution_count": 7,
   "id": "41fe5b28",
   "metadata": {},
   "outputs": [
    {
     "data": {
      "text/plain": [
       "{'movie': 'The Incredibles',\n",
       " 'actors': {'nm0000168', 'nm0000456', 'nm0005134', 'nm0005266'},\n",
       " 'genres': ['Action', 'Adventure', 'Animation'],\n",
       " 'rating': 8.0}"
      ]
     },
     "execution_count": 7,
     "metadata": {},
     "output_type": "execute_result"
    }
   ],
   "source": [
    "target_movie_object"
   ]
  },
  {
   "cell_type": "markdown",
   "id": "c81c5708",
   "metadata": {},
   "source": [
    "## Find the Most Similar Movies by Jaccard Similarity in Actor"
   ]
  },
  {
   "cell_type": "code",
   "execution_count": 8,
   "id": "36d31454",
   "metadata": {},
   "outputs": [],
   "source": [
    "movie_similarities = []\n",
    "\n",
    "for this_movie_id,this_movie_obj in movie_actor_map.items():\n",
    "    if this_movie_id == target_movie_id:\n",
    "        continue\n",
    "        \n",
    "    this_intersect = this_movie_obj[\"actors\"].intersection(target_movie_object[\"actors\"])\n",
    "    this_union = this_movie_obj[\"actors\"].union(target_movie_object[\"actors\"])\n",
    "    \n",
    "    jaccard = len(this_intersect) / len(this_union)\n",
    "    \n",
    "    movie_similarities.append({\n",
    "        \"movie\": this_movie_id,\n",
    "        \"jaccard\": jaccard,\n",
    "    })"
   ]
  },
  {
   "cell_type": "code",
   "execution_count": 9,
   "id": "d89bfe48",
   "metadata": {},
   "outputs": [],
   "source": [
    "similarity_df = pd.DataFrame(movie_similarities, columns=[\"movie\", \"jaccard\"])"
   ]
  },
  {
   "cell_type": "code",
   "execution_count": null,
   "id": "b87fac81",
   "metadata": {},
   "outputs": [],
   "source": []
  },
  {
   "cell_type": "markdown",
   "id": "bf2e7a29",
   "metadata": {},
   "source": [
    "## Use the top-k similar movies to infer genre"
   ]
  },
  {
   "cell_type": "code",
   "execution_count": 10,
   "id": "90d04ae5",
   "metadata": {},
   "outputs": [],
   "source": [
    "k_nn = 10"
   ]
  },
  {
   "cell_type": "code",
   "execution_count": 11,
   "id": "cd5408fe",
   "metadata": {},
   "outputs": [
    {
     "data": {
      "text/html": [
       "<div>\n",
       "<style scoped>\n",
       "    .dataframe tbody tr th:only-of-type {\n",
       "        vertical-align: middle;\n",
       "    }\n",
       "\n",
       "    .dataframe tbody tr th {\n",
       "        vertical-align: top;\n",
       "    }\n",
       "\n",
       "    .dataframe thead th {\n",
       "        text-align: right;\n",
       "    }\n",
       "</style>\n",
       "<table border=\"1\" class=\"dataframe\">\n",
       "  <thead>\n",
       "    <tr style=\"text-align: right;\">\n",
       "      <th></th>\n",
       "      <th>movie</th>\n",
       "      <th>jaccard</th>\n",
       "    </tr>\n",
       "  </thead>\n",
       "  <tbody>\n",
       "    <tr>\n",
       "      <th>13851</th>\n",
       "      <td>tt3606756</td>\n",
       "      <td>0.333333</td>\n",
       "    </tr>\n",
       "    <tr>\n",
       "      <th>11215</th>\n",
       "      <td>tt2120176</td>\n",
       "      <td>0.250000</td>\n",
       "    </tr>\n",
       "    <tr>\n",
       "      <th>12484</th>\n",
       "      <td>tt2635824</td>\n",
       "      <td>0.250000</td>\n",
       "    </tr>\n",
       "    <tr>\n",
       "      <th>16138</th>\n",
       "      <td>tt5804038</td>\n",
       "      <td>0.250000</td>\n",
       "    </tr>\n",
       "    <tr>\n",
       "      <th>1390</th>\n",
       "      <td>tt0290831</td>\n",
       "      <td>0.250000</td>\n",
       "    </tr>\n",
       "    <tr>\n",
       "      <th>6933</th>\n",
       "      <td>tt1223236</td>\n",
       "      <td>0.200000</td>\n",
       "    </tr>\n",
       "    <tr>\n",
       "      <th>13860</th>\n",
       "      <td>tt3612316</td>\n",
       "      <td>0.166667</td>\n",
       "    </tr>\n",
       "    <tr>\n",
       "      <th>2908</th>\n",
       "      <td>tt0413615</td>\n",
       "      <td>0.166667</td>\n",
       "    </tr>\n",
       "    <tr>\n",
       "      <th>572</th>\n",
       "      <td>tt0222705</td>\n",
       "      <td>0.142857</td>\n",
       "    </tr>\n",
       "    <tr>\n",
       "      <th>15799</th>\n",
       "      <td>tt5462602</td>\n",
       "      <td>0.142857</td>\n",
       "    </tr>\n",
       "  </tbody>\n",
       "</table>\n",
       "</div>"
      ],
      "text/plain": [
       "           movie   jaccard\n",
       "13851  tt3606756  0.333333\n",
       "11215  tt2120176  0.250000\n",
       "12484  tt2635824  0.250000\n",
       "16138  tt5804038  0.250000\n",
       "1390   tt0290831  0.250000\n",
       "6933   tt1223236  0.200000\n",
       "13860  tt3612316  0.166667\n",
       "2908   tt0413615  0.166667\n",
       "572    tt0222705  0.142857\n",
       "15799  tt5462602  0.142857"
      ]
     },
     "execution_count": 11,
     "metadata": {},
     "output_type": "execute_result"
    }
   ],
   "source": [
    "similarity_df.sort_values(by=\"jaccard\", ascending=False).head(k_nn)"
   ]
  },
  {
   "cell_type": "code",
   "execution_count": 12,
   "id": "9ab4c472",
   "metadata": {},
   "outputs": [
    {
     "name": "stdout",
     "output_type": "stream",
     "text": [
      "tt3606756 Incredibles 2\n",
      "\t ['Action', 'Adventure', 'Animation']\n",
      "tt2120176 Young Jeezy: A Hustlerz Ambition\n",
      "\t ['Documentary']\n",
      "tt2635824 We Ride: The Story of Snowboarding\n",
      "\t ['Adventure', 'Documentary', 'History']\n",
      "tt5804038 I Am Not Your Negro\n",
      "\t ['Documentary', 'History']\n",
      "tt0290831 Rock That Uke\n",
      "\t ['Comedy', 'Documentary', 'Music']\n",
      "tt1223236 African Cats\n",
      "\t ['Adventure', 'Documentary']\n",
      "tt3612316 Face of Unity\n",
      "\t ['Documentary', 'History']\n",
      "tt0413615 Unforgivable Blackness: The Rise and Fall of Jack Johnson\n",
      "\t ['Biography', 'Documentary', 'Sport']\n",
      "tt0222705 All Over Again\n",
      "\t ['Drama']\n",
      "tt5462602 The Big Sick\n",
      "\t ['Comedy', 'Drama', 'Romance']\n"
     ]
    }
   ],
   "source": [
    "top_movies = similarity_df.sort_values(by=\"jaccard\", ascending=False).head(k_nn)\n",
    "\n",
    "relevant_genre_count = {}\n",
    "for this_movie_id in top_movies[\"movie\"]:\n",
    "    print(this_movie_id, movie_actor_map[this_movie_id][\"movie\"])\n",
    "    print(\"\\t\", movie_actor_map[this_movie_id][\"genres\"])\n",
    "    \n",
    "    this_movie_genres = movie_actor_map[this_movie_id][\"genres\"]\n",
    "    for g in this_movie_genres:\n",
    "        relevant_genre_count[g] = relevant_genre_count.get(g, 0) + 1"
   ]
  },
  {
   "cell_type": "code",
   "execution_count": 13,
   "id": "bb723335",
   "metadata": {},
   "outputs": [
    {
     "name": "stdout",
     "output_type": "stream",
     "text": [
      "Documentary 7\n",
      "Adventure 3\n",
      "History 3\n",
      "Comedy 2\n",
      "Drama 2\n",
      "Action 1\n",
      "Animation 1\n",
      "Music 1\n",
      "Biography 1\n",
      "Sport 1\n",
      "Romance 1\n"
     ]
    }
   ],
   "source": [
    "for g in sorted(relevant_genre_count, key=relevant_genre_count.get, reverse=True):\n",
    "    print(g, relevant_genre_count[g])"
   ]
  },
  {
   "cell_type": "code",
   "execution_count": null,
   "id": "901c3ccf",
   "metadata": {},
   "outputs": [],
   "source": []
  },
  {
   "cell_type": "markdown",
   "id": "89653da7",
   "metadata": {},
   "source": [
    "## Use the top-k similar movies to infer rating"
   ]
  },
  {
   "cell_type": "code",
   "execution_count": 14,
   "id": "93bb8d99",
   "metadata": {},
   "outputs": [
    {
     "name": "stdout",
     "output_type": "stream",
     "text": [
      "tt3606756 Incredibles 2\n",
      "\t 7.6\n",
      "tt2120176 Young Jeezy: A Hustlerz Ambition\n",
      "\t 5.2\n",
      "tt2635824 We Ride: The Story of Snowboarding\n",
      "\t 7.2\n",
      "tt5804038 I Am Not Your Negro\n",
      "\t 7.9\n",
      "tt0290831 Rock That Uke\n",
      "\t 7.6\n",
      "tt1223236 African Cats\n",
      "\t 7.5\n",
      "tt3612316 Face of Unity\n",
      "\t 6.2\n",
      "tt0413615 Unforgivable Blackness: The Rise and Fall of Jack Johnson\n",
      "\t 8.4\n",
      "tt0222705 All Over Again\n",
      "\t 5.1\n",
      "tt5462602 The Big Sick\n",
      "\t 7.5\n"
     ]
    }
   ],
   "source": [
    "top_movies = similarity_df.sort_values(by=\"jaccard\", ascending=False).head(k_nn)\n",
    "\n",
    "relevant_ratings = []\n",
    "for this_movie_id in top_movies[\"movie\"]:\n",
    "    print(this_movie_id, movie_actor_map[this_movie_id][\"movie\"])\n",
    "    print(\"\\t\", movie_actor_map[this_movie_id][\"rating\"])\n",
    "    \n",
    "    relevant_ratings.append(movie_actor_map[this_movie_id][\"rating\"])"
   ]
  },
  {
   "cell_type": "code",
   "execution_count": 15,
   "id": "f2ea8238",
   "metadata": {},
   "outputs": [
    {
     "name": "stdout",
     "output_type": "stream",
     "text": [
      "Actual Rating: 8.0\n",
      "Predicted Rating: 7.020000000000001\n"
     ]
    }
   ],
   "source": [
    "print(\"Actual Rating:\", target_movie_object[\"rating\"])\n",
    "print(\"Predicted Rating:\", np.mean(relevant_ratings))"
   ]
  }
 ],
 "metadata": {
  "kernelspec": {
   "display_name": "Python 3 (ipykernel)",
   "language": "python",
   "name": "python3"
  },
  "language_info": {
   "codemirror_mode": {
    "name": "ipython",
    "version": 3
   },
   "file_extension": ".py",
   "mimetype": "text/x-python",
   "name": "python",
   "nbconvert_exporter": "python",
   "pygments_lexer": "ipython3",
   "version": "3.9.12"
  }
 },
 "nbformat": 4,
 "nbformat_minor": 5
}
