{
 "cells": [
  {
   "cell_type": "markdown",
   "id": "56fb9ab7",
   "metadata": {},
   "source": [
    "# Genre Classification by Actors\n",
    "\n",
    "Using the IMDB data, construct a feature matrix, and predict a movie's genre by its actors."
   ]
  },
  {
   "cell_type": "code",
   "execution_count": 1,
   "id": "a8a8127e",
   "metadata": {},
   "outputs": [],
   "source": [
    "%matplotlib inline"
   ]
  },
  {
   "cell_type": "code",
   "execution_count": 2,
   "id": "0be2c95c",
   "metadata": {},
   "outputs": [],
   "source": [
    "import json\n",
    "\n",
    "import pandas as pd\n",
    "import numpy as np\n",
    "\n",
    "import matplotlib.pyplot as plt\n",
    "\n",
    "from collections import Counter\n",
    "from scipy.sparse import lil_matrix\n",
    "\n",
    "# Necessary import for logistic regression model\n",
    "from sklearn.linear_model import LogisticRegression\n",
    "\n",
    "# Necessary for KNN classifier\n",
    "from sklearn.neighbors import KNeighborsClassifier\n",
    "\n",
    "# For splitting out training data\n",
    "from sklearn.model_selection import train_test_split"
   ]
  },
  {
   "cell_type": "code",
   "execution_count": null,
   "id": "32201009",
   "metadata": {},
   "outputs": [],
   "source": []
  },
  {
   "cell_type": "markdown",
   "id": "871e222a",
   "metadata": {},
   "source": [
    "## Read in Movies with User Ratings\n",
    "\n",
    "We don't use user ratings here, but we will focus just on these movies to keep our dataset manageable in size."
   ]
  },
  {
   "cell_type": "code",
   "execution_count": 3,
   "id": "14fb3d0a",
   "metadata": {},
   "outputs": [],
   "source": [
    "known_movies = set()\n",
    "\n",
    "movie_ids = []\n",
    "\n",
    "with open(\"../data/user_ratings.json\", \"r\") as in_file:\n",
    "    for line in in_file:\n",
    "        \n",
    "        this_rating = json.loads(line)\n",
    "        \n",
    "        known_movies.add(this_rating[\"title_id\"])\n"
   ]
  },
  {
   "cell_type": "code",
   "execution_count": 4,
   "id": "c0d10f74",
   "metadata": {},
   "outputs": [],
   "source": [
    "movie_id_to_index = {m:i for i,m in enumerate(movie_ids)}"
   ]
  },
  {
   "cell_type": "code",
   "execution_count": 5,
   "id": "0dc50303",
   "metadata": {},
   "outputs": [
    {
     "name": "stdout",
     "output_type": "stream",
     "text": [
      "Known Movies: 4465\n"
     ]
    }
   ],
   "source": [
    "print(\"Known Movies:\", len(known_movies))\n"
   ]
  },
  {
   "cell_type": "code",
   "execution_count": null,
   "id": "0f2932de",
   "metadata": {},
   "outputs": [],
   "source": []
  },
  {
   "cell_type": "code",
   "execution_count": 6,
   "id": "48dc9bf4",
   "metadata": {},
   "outputs": [],
   "source": [
    "actor_id_to_name_map = {}     # Map Actor IDs to actor names\n",
    "actor_id_to_index_map = {}    # Map actor IDs to a unique index of known actors\n",
    "index_to_actor_ids = []       # Array mapping unique index back to actor ID (invert of actor_id_to_index_map)\n",
    "\n",
    "index_counter = 0    # Unique actor index; increment for each new actor\n",
    "known_actors = set()\n",
    "\n",
    "movie_actor_map = {} # List of all our movies and their actors\n",
    "\n",
    "test_count = 0\n",
    "with open(\"../data/imdb_recent_movies.json\", \"r\") as in_file:\n",
    "    for line in in_file:\n",
    "        \n",
    "        this_movie = json.loads(line)\n",
    "        \n",
    "        # Restrict to known movies\n",
    "        if this_movie[\"title_id\"] not in known_movies:\n",
    "            continue\n",
    "            \n",
    "        # Keep track of all the actors in this movie\n",
    "        for actor_id,actor_name in zip(this_movie['actor_ids'],this_movie['actor_names']):\n",
    "            \n",
    "            # Keep names and IDs\n",
    "            actor_id_to_name_map[actor_id] = actor_name\n",
    "            \n",
    "            # If we've seen this actor before, skip...\n",
    "            if actor_id in known_actors:\n",
    "                continue\n",
    "                \n",
    "            # ... Otherwise, add to known actor set and create new index for them\n",
    "            known_actors.add(actor_id)\n",
    "            actor_id_to_index_map[actor_id] = index_counter\n",
    "            index_to_actor_ids.append(actor_id)\n",
    "            index_counter += 1\n",
    "            \n",
    "        # Finished with this film\n",
    "        movie_actor_map[this_movie[\"title_id\"]] = ({\n",
    "            \"movie\": this_movie[\"title_name\"],\n",
    "            \"actors\": set(this_movie['actor_ids']),\n",
    "            \"genres\": this_movie[\"title_genre\"]\n",
    "        })"
   ]
  },
  {
   "cell_type": "code",
   "execution_count": 7,
   "id": "6f78e123",
   "metadata": {},
   "outputs": [
    {
     "name": "stdout",
     "output_type": "stream",
     "text": [
      "Known Actors: 5224\n",
      "Known Movies: 4465\n"
     ]
    }
   ],
   "source": [
    "print(\"Known Actors:\", len(known_actors))\n",
    "print(\"Known Movies:\", len(movie_actor_map))"
   ]
  },
  {
   "cell_type": "markdown",
   "id": "f06c4064",
   "metadata": {},
   "source": [
    "## Generate DataFrame using Sparse Matrics\n",
    "\n",
    "Convert our Actor data into a DataFrame that we can use for analysis."
   ]
  },
  {
   "cell_type": "code",
   "execution_count": 8,
   "id": "9ba14605",
   "metadata": {},
   "outputs": [],
   "source": [
    "# With sparse matrix, initialize to size of Movies x Actors of 0s\n",
    "matrix_sparse = lil_matrix((len(movie_actor_map), len(known_actors)), dtype=bool)\n",
    "\n",
    "movie_list = list(movie_actor_map.items())\n",
    "\n",
    "# Update the matrix, movie by movie, setting non-zero values for the appropriate actors\n",
    "for row,(movie_id,movie) in enumerate(movie_list):   \n",
    "    for actor_id in movie[\"actors\"]:\n",
    "        this_index = actor_id_to_index_map[actor_id]\n",
    "        matrix_sparse[row,this_index] = 1"
   ]
  },
  {
   "cell_type": "code",
   "execution_count": 9,
   "id": "4b200dac",
   "metadata": {},
   "outputs": [
    {
     "data": {
      "text/html": [
       "<div>\n",
       "<style scoped>\n",
       "    .dataframe tbody tr th:only-of-type {\n",
       "        vertical-align: middle;\n",
       "    }\n",
       "\n",
       "    .dataframe tbody tr th {\n",
       "        vertical-align: top;\n",
       "    }\n",
       "\n",
       "    .dataframe thead th {\n",
       "        text-align: right;\n",
       "    }\n",
       "</style>\n",
       "<table border=\"1\" class=\"dataframe\">\n",
       "  <thead>\n",
       "    <tr style=\"text-align: right;\">\n",
       "      <th></th>\n",
       "      <th>nm0073160</th>\n",
       "      <th>nm0066586</th>\n",
       "      <th>nm0000461</th>\n",
       "      <th>nm0002150</th>\n",
       "      <th>nm0463233</th>\n",
       "      <th>nm0000450</th>\n",
       "      <th>nm0000513</th>\n",
       "      <th>nm0383449</th>\n",
       "      <th>nm0641168</th>\n",
       "      <th>nm0424682</th>\n",
       "      <th>...</th>\n",
       "      <th>nm9636805</th>\n",
       "      <th>nm0620847</th>\n",
       "      <th>nm6203022</th>\n",
       "      <th>nm5457688</th>\n",
       "      <th>nm5219130</th>\n",
       "      <th>nm4592524</th>\n",
       "      <th>nm6710968</th>\n",
       "      <th>nm8076737</th>\n",
       "      <th>nm0157717</th>\n",
       "      <th>nm1523626</th>\n",
       "    </tr>\n",
       "  </thead>\n",
       "  <tbody>\n",
       "    <tr>\n",
       "      <th>tt0118589</th>\n",
       "      <td>1</td>\n",
       "      <td>1</td>\n",
       "      <td>0</td>\n",
       "      <td>0</td>\n",
       "      <td>0</td>\n",
       "      <td>0</td>\n",
       "      <td>0</td>\n",
       "      <td>0</td>\n",
       "      <td>0</td>\n",
       "      <td>0</td>\n",
       "      <td>...</td>\n",
       "      <td>0</td>\n",
       "      <td>0</td>\n",
       "      <td>0</td>\n",
       "      <td>0</td>\n",
       "      <td>0</td>\n",
       "      <td>0</td>\n",
       "      <td>0</td>\n",
       "      <td>0</td>\n",
       "      <td>0</td>\n",
       "      <td>0</td>\n",
       "    </tr>\n",
       "    <tr>\n",
       "      <th>tt0119273</th>\n",
       "      <td>0</td>\n",
       "      <td>0</td>\n",
       "      <td>1</td>\n",
       "      <td>1</td>\n",
       "      <td>1</td>\n",
       "      <td>0</td>\n",
       "      <td>0</td>\n",
       "      <td>0</td>\n",
       "      <td>0</td>\n",
       "      <td>0</td>\n",
       "      <td>...</td>\n",
       "      <td>0</td>\n",
       "      <td>0</td>\n",
       "      <td>0</td>\n",
       "      <td>0</td>\n",
       "      <td>0</td>\n",
       "      <td>0</td>\n",
       "      <td>0</td>\n",
       "      <td>0</td>\n",
       "      <td>0</td>\n",
       "      <td>0</td>\n",
       "    </tr>\n",
       "    <tr>\n",
       "      <th>tt0120202</th>\n",
       "      <td>0</td>\n",
       "      <td>0</td>\n",
       "      <td>0</td>\n",
       "      <td>0</td>\n",
       "      <td>0</td>\n",
       "      <td>1</td>\n",
       "      <td>1</td>\n",
       "      <td>1</td>\n",
       "      <td>0</td>\n",
       "      <td>0</td>\n",
       "      <td>...</td>\n",
       "      <td>0</td>\n",
       "      <td>0</td>\n",
       "      <td>0</td>\n",
       "      <td>0</td>\n",
       "      <td>0</td>\n",
       "      <td>0</td>\n",
       "      <td>0</td>\n",
       "      <td>0</td>\n",
       "      <td>0</td>\n",
       "      <td>0</td>\n",
       "    </tr>\n",
       "    <tr>\n",
       "      <th>tt0120467</th>\n",
       "      <td>0</td>\n",
       "      <td>0</td>\n",
       "      <td>0</td>\n",
       "      <td>0</td>\n",
       "      <td>0</td>\n",
       "      <td>0</td>\n",
       "      <td>0</td>\n",
       "      <td>0</td>\n",
       "      <td>1</td>\n",
       "      <td>1</td>\n",
       "      <td>...</td>\n",
       "      <td>0</td>\n",
       "      <td>0</td>\n",
       "      <td>0</td>\n",
       "      <td>0</td>\n",
       "      <td>0</td>\n",
       "      <td>0</td>\n",
       "      <td>0</td>\n",
       "      <td>0</td>\n",
       "      <td>0</td>\n",
       "      <td>0</td>\n",
       "    </tr>\n",
       "    <tr>\n",
       "      <th>tt0120630</th>\n",
       "      <td>0</td>\n",
       "      <td>0</td>\n",
       "      <td>0</td>\n",
       "      <td>0</td>\n",
       "      <td>0</td>\n",
       "      <td>0</td>\n",
       "      <td>0</td>\n",
       "      <td>0</td>\n",
       "      <td>0</td>\n",
       "      <td>0</td>\n",
       "      <td>...</td>\n",
       "      <td>0</td>\n",
       "      <td>0</td>\n",
       "      <td>0</td>\n",
       "      <td>0</td>\n",
       "      <td>0</td>\n",
       "      <td>0</td>\n",
       "      <td>0</td>\n",
       "      <td>0</td>\n",
       "      <td>0</td>\n",
       "      <td>0</td>\n",
       "    </tr>\n",
       "    <tr>\n",
       "      <th>...</th>\n",
       "      <td>...</td>\n",
       "      <td>...</td>\n",
       "      <td>...</td>\n",
       "      <td>...</td>\n",
       "      <td>...</td>\n",
       "      <td>...</td>\n",
       "      <td>...</td>\n",
       "      <td>...</td>\n",
       "      <td>...</td>\n",
       "      <td>...</td>\n",
       "      <td>...</td>\n",
       "      <td>...</td>\n",
       "      <td>...</td>\n",
       "      <td>...</td>\n",
       "      <td>...</td>\n",
       "      <td>...</td>\n",
       "      <td>...</td>\n",
       "      <td>...</td>\n",
       "      <td>...</td>\n",
       "      <td>...</td>\n",
       "      <td>...</td>\n",
       "    </tr>\n",
       "    <tr>\n",
       "      <th>tt9477532</th>\n",
       "      <td>0</td>\n",
       "      <td>0</td>\n",
       "      <td>0</td>\n",
       "      <td>0</td>\n",
       "      <td>0</td>\n",
       "      <td>0</td>\n",
       "      <td>0</td>\n",
       "      <td>0</td>\n",
       "      <td>0</td>\n",
       "      <td>0</td>\n",
       "      <td>...</td>\n",
       "      <td>0</td>\n",
       "      <td>1</td>\n",
       "      <td>1</td>\n",
       "      <td>1</td>\n",
       "      <td>0</td>\n",
       "      <td>0</td>\n",
       "      <td>0</td>\n",
       "      <td>0</td>\n",
       "      <td>0</td>\n",
       "      <td>0</td>\n",
       "    </tr>\n",
       "    <tr>\n",
       "      <th>tt9495224</th>\n",
       "      <td>0</td>\n",
       "      <td>0</td>\n",
       "      <td>0</td>\n",
       "      <td>0</td>\n",
       "      <td>0</td>\n",
       "      <td>0</td>\n",
       "      <td>0</td>\n",
       "      <td>0</td>\n",
       "      <td>0</td>\n",
       "      <td>0</td>\n",
       "      <td>...</td>\n",
       "      <td>0</td>\n",
       "      <td>0</td>\n",
       "      <td>0</td>\n",
       "      <td>0</td>\n",
       "      <td>1</td>\n",
       "      <td>0</td>\n",
       "      <td>0</td>\n",
       "      <td>0</td>\n",
       "      <td>0</td>\n",
       "      <td>0</td>\n",
       "    </tr>\n",
       "    <tr>\n",
       "      <th>tt9581076</th>\n",
       "      <td>0</td>\n",
       "      <td>0</td>\n",
       "      <td>0</td>\n",
       "      <td>0</td>\n",
       "      <td>0</td>\n",
       "      <td>0</td>\n",
       "      <td>0</td>\n",
       "      <td>0</td>\n",
       "      <td>0</td>\n",
       "      <td>0</td>\n",
       "      <td>...</td>\n",
       "      <td>0</td>\n",
       "      <td>0</td>\n",
       "      <td>0</td>\n",
       "      <td>0</td>\n",
       "      <td>0</td>\n",
       "      <td>1</td>\n",
       "      <td>1</td>\n",
       "      <td>0</td>\n",
       "      <td>0</td>\n",
       "      <td>0</td>\n",
       "    </tr>\n",
       "    <tr>\n",
       "      <th>tt9636500</th>\n",
       "      <td>0</td>\n",
       "      <td>0</td>\n",
       "      <td>0</td>\n",
       "      <td>0</td>\n",
       "      <td>0</td>\n",
       "      <td>0</td>\n",
       "      <td>0</td>\n",
       "      <td>0</td>\n",
       "      <td>0</td>\n",
       "      <td>0</td>\n",
       "      <td>...</td>\n",
       "      <td>0</td>\n",
       "      <td>0</td>\n",
       "      <td>0</td>\n",
       "      <td>0</td>\n",
       "      <td>0</td>\n",
       "      <td>0</td>\n",
       "      <td>0</td>\n",
       "      <td>1</td>\n",
       "      <td>0</td>\n",
       "      <td>0</td>\n",
       "    </tr>\n",
       "    <tr>\n",
       "      <th>tt9703712</th>\n",
       "      <td>0</td>\n",
       "      <td>0</td>\n",
       "      <td>0</td>\n",
       "      <td>0</td>\n",
       "      <td>0</td>\n",
       "      <td>0</td>\n",
       "      <td>0</td>\n",
       "      <td>0</td>\n",
       "      <td>0</td>\n",
       "      <td>0</td>\n",
       "      <td>...</td>\n",
       "      <td>0</td>\n",
       "      <td>0</td>\n",
       "      <td>0</td>\n",
       "      <td>0</td>\n",
       "      <td>0</td>\n",
       "      <td>0</td>\n",
       "      <td>0</td>\n",
       "      <td>0</td>\n",
       "      <td>1</td>\n",
       "      <td>1</td>\n",
       "    </tr>\n",
       "  </tbody>\n",
       "</table>\n",
       "<p>4465 rows × 5224 columns</p>\n",
       "</div>"
      ],
      "text/plain": [
       "           nm0073160  nm0066586  nm0000461  nm0002150  nm0463233  nm0000450  \\\n",
       "tt0118589          1          1          0          0          0          0   \n",
       "tt0119273          0          0          1          1          1          0   \n",
       "tt0120202          0          0          0          0          0          1   \n",
       "tt0120467          0          0          0          0          0          0   \n",
       "tt0120630          0          0          0          0          0          0   \n",
       "...              ...        ...        ...        ...        ...        ...   \n",
       "tt9477532          0          0          0          0          0          0   \n",
       "tt9495224          0          0          0          0          0          0   \n",
       "tt9581076          0          0          0          0          0          0   \n",
       "tt9636500          0          0          0          0          0          0   \n",
       "tt9703712          0          0          0          0          0          0   \n",
       "\n",
       "           nm0000513  nm0383449  nm0641168  nm0424682  ...  nm9636805  \\\n",
       "tt0118589          0          0          0          0  ...          0   \n",
       "tt0119273          0          0          0          0  ...          0   \n",
       "tt0120202          1          1          0          0  ...          0   \n",
       "tt0120467          0          0          1          1  ...          0   \n",
       "tt0120630          0          0          0          0  ...          0   \n",
       "...              ...        ...        ...        ...  ...        ...   \n",
       "tt9477532          0          0          0          0  ...          0   \n",
       "tt9495224          0          0          0          0  ...          0   \n",
       "tt9581076          0          0          0          0  ...          0   \n",
       "tt9636500          0          0          0          0  ...          0   \n",
       "tt9703712          0          0          0          0  ...          0   \n",
       "\n",
       "           nm0620847  nm6203022  nm5457688  nm5219130  nm4592524  nm6710968  \\\n",
       "tt0118589          0          0          0          0          0          0   \n",
       "tt0119273          0          0          0          0          0          0   \n",
       "tt0120202          0          0          0          0          0          0   \n",
       "tt0120467          0          0          0          0          0          0   \n",
       "tt0120630          0          0          0          0          0          0   \n",
       "...              ...        ...        ...        ...        ...        ...   \n",
       "tt9477532          1          1          1          0          0          0   \n",
       "tt9495224          0          0          0          1          0          0   \n",
       "tt9581076          0          0          0          0          1          1   \n",
       "tt9636500          0          0          0          0          0          0   \n",
       "tt9703712          0          0          0          0          0          0   \n",
       "\n",
       "           nm8076737  nm0157717  nm1523626  \n",
       "tt0118589          0          0          0  \n",
       "tt0119273          0          0          0  \n",
       "tt0120202          0          0          0  \n",
       "tt0120467          0          0          0  \n",
       "tt0120630          0          0          0  \n",
       "...              ...        ...        ...  \n",
       "tt9477532          0          0          0  \n",
       "tt9495224          0          0          0  \n",
       "tt9581076          0          0          0  \n",
       "tt9636500          1          0          0  \n",
       "tt9703712          0          1          1  \n",
       "\n",
       "[4465 rows x 5224 columns]"
      ]
     },
     "execution_count": 9,
     "metadata": {},
     "output_type": "execute_result"
    }
   ],
   "source": [
    "df = pd.DataFrame.sparse.from_spmatrix(\n",
    "    matrix_sparse, \n",
    "    index=[m_id for m_id,_ in movie_list],\n",
    "    columns=[index_to_actor_ids[i] for i in range(len(known_actors))]\n",
    ")\n",
    "df"
   ]
  },
  {
   "cell_type": "code",
   "execution_count": null,
   "id": "0e2ebf47",
   "metadata": {},
   "outputs": [],
   "source": []
  },
  {
   "cell_type": "code",
   "execution_count": 10,
   "id": "41a5a1e7",
   "metadata": {},
   "outputs": [
    {
     "name": "stdout",
     "output_type": "stream",
     "text": [
      "Movies x Actors dimensionality: (4465, 5224)\n"
     ]
    }
   ],
   "source": [
    "print(\"Movies x Actors dimensionality:\", df.shape)"
   ]
  },
  {
   "cell_type": "code",
   "execution_count": null,
   "id": "4aa054fb",
   "metadata": {},
   "outputs": [],
   "source": []
  },
  {
   "cell_type": "code",
   "execution_count": 11,
   "id": "9ba492db",
   "metadata": {},
   "outputs": [
    {
     "data": {
      "text/plain": [
       "Counter({'Drama': 969,\n",
       "         'Action': 990,\n",
       "         'Comedy': 1241,\n",
       "         'Crime': 313,\n",
       "         'Adventure': 333,\n",
       "         'Biography': 283,\n",
       "         'Horror': 171,\n",
       "         'Animation': 26,\n",
       "         'Mystery': 21,\n",
       "         'Thriller': 18,\n",
       "         'Fantasy': 26,\n",
       "         'Documentary': 59,\n",
       "         'Family': 1,\n",
       "         'Sci-Fi': 4,\n",
       "         'Music': 2,\n",
       "         'History': 1,\n",
       "         '\\\\N': 2,\n",
       "         'Romance': 4,\n",
       "         'Western': 1})"
      ]
     },
     "execution_count": 11,
     "metadata": {},
     "output_type": "execute_result"
    }
   ],
   "source": [
    "genres = [movie_actor_map[v][\"genres\"][0] for v in df.index]\n",
    "\n",
    "genre2id_index = {g:i for i,g in enumerate(set(genres))}\n",
    "id2genre_index = {i:g for i,g in enumerate(set(genres))}\n",
    "\n",
    "Counter(genres)"
   ]
  },
  {
   "cell_type": "markdown",
   "id": "dd59a690",
   "metadata": {},
   "source": [
    "## Find Comedies in the Movie Dataset\n",
    "\n",
    "We'll focus on predicting whether a movie is a comedy or not (i.e., binary classification) as a first step."
   ]
  },
  {
   "cell_type": "code",
   "execution_count": 43,
   "id": "c5806fea",
   "metadata": {},
   "outputs": [],
   "source": [
    "is_comedy = [\"Comedy\" in movie_actor_map[v][\"genres\"] for v in df.index]"
   ]
  },
  {
   "cell_type": "code",
   "execution_count": 44,
   "id": "93d2f8e1",
   "metadata": {},
   "outputs": [],
   "source": [
    "X = df\n",
    "y = is_comedy"
   ]
  },
  {
   "cell_type": "code",
   "execution_count": null,
   "id": "d91c45fc",
   "metadata": {},
   "outputs": [],
   "source": []
  },
  {
   "cell_type": "code",
   "execution_count": 45,
   "id": "3df47187",
   "metadata": {},
   "outputs": [],
   "source": [
    "X_train, X_test, y_train, y_test = train_test_split(X, y, test_size=0.20, random_state=31337)"
   ]
  },
  {
   "cell_type": "code",
   "execution_count": null,
   "id": "a87d0980",
   "metadata": {},
   "outputs": [],
   "source": []
  },
  {
   "cell_type": "code",
   "execution_count": 46,
   "id": "06e6640b",
   "metadata": {},
   "outputs": [
    {
     "data": {
      "text/plain": [
       "LogisticRegression()"
      ]
     },
     "execution_count": 46,
     "metadata": {},
     "output_type": "execute_result"
    }
   ],
   "source": [
    "model = LogisticRegression()\n",
    "model.fit(X_train, y_train)"
   ]
  },
  {
   "cell_type": "code",
   "execution_count": null,
   "id": "88e60c0b",
   "metadata": {},
   "outputs": [],
   "source": []
  },
  {
   "cell_type": "code",
   "execution_count": 47,
   "id": "269196be",
   "metadata": {},
   "outputs": [
    {
     "name": "stdout",
     "output_type": "stream",
     "text": [
      "Actors with most positive influence on Comedy Genre:\n",
      "('Adam Sandler', 1.964231678122208)\n",
      "('Paul Rudd', 1.7254561850357466)\n",
      "('Ben Stiller', 1.644669221189575)\n",
      "('Owen Wilson', 1.613213574733682)\n",
      "('Will Ferrell', 1.59412566615105)\n",
      "('Seann William Scott', 1.5652463586050895)\n",
      "('Steve Carell', 1.5320389308952633)\n",
      "('Seth Rogen', 1.5119560417293432)\n",
      "('Tim Blake Nelson', 1.5044965399637968)\n",
      "('Martin Lawrence', 1.4835042621365337)\n",
      "\n",
      "Actors with most negative influence on Comedy Genre:\n",
      "('Andrew Garfield', -1.1064171718875202)\n",
      "('Hayden Christensen', -1.1135102182597436)\n",
      "('Toby Jones', -1.1175137766480376)\n",
      "('Jared Leto', -1.1425352203066148)\n",
      "('Daniel Craig', -1.170171273497131)\n",
      "('Karl Urban', -1.23441765253871)\n",
      "('Jake Gyllenhaal', -1.2618563001187093)\n",
      "('Christian Bale', -1.391207060537512)\n",
      "('Jason Clarke', -1.397242171441073)\n",
      "('Michael Fassbender', -1.596052939195746)\n"
     ]
    }
   ],
   "source": [
    "# Zip the actors with their model coefficients, so we can inspect actors' roles on the Comedy genre \n",
    "actor_weights = list(zip([actor_id_to_name_map[i] for i in X_train.columns], model.coef_[0,:]))\n",
    "\n",
    "print(\"Actors with most positive influence on Comedy Genre:\")\n",
    "for tup in sorted(actor_weights, key=lambda t: t[1], reverse=True)[:10]:\n",
    "    print(tup)\n",
    "    \n",
    "print(\"\\nActors with most negative influence on Comedy Genre:\")\n",
    "for tup in sorted(actor_weights, key=lambda t: t[1], reverse=True)[-10:]:\n",
    "    print(tup)"
   ]
  },
  {
   "cell_type": "code",
   "execution_count": null,
   "id": "1ae84f0e",
   "metadata": {},
   "outputs": [],
   "source": []
  },
  {
   "cell_type": "code",
   "execution_count": 49,
   "id": "de63b6b3",
   "metadata": {},
   "outputs": [],
   "source": [
    "predicted_genre = model.predict(X_test)"
   ]
  },
  {
   "cell_type": "code",
   "execution_count": 50,
   "id": "e75da14d",
   "metadata": {},
   "outputs": [
    {
     "name": "stdout",
     "output_type": "stream",
     "text": [
      "Correct: 665\n",
      "Accuracy: 0.7446808510638298\n"
     ]
    }
   ],
   "source": [
    "correct_count = 0\n",
    "\n",
    "for predicted,actual in zip(predicted_genre, y_test):\n",
    "    if predicted == actual:\n",
    "        correct_count += 1\n",
    "\n",
    "print(\"Correct:\", correct_count)\n",
    "print(\"Accuracy:\", correct_count / predicted_genre.shape[0])"
   ]
  },
  {
   "cell_type": "code",
   "execution_count": 51,
   "id": "d0c98531",
   "metadata": {},
   "outputs": [
    {
     "data": {
      "text/plain": [
       "0.7446808510638298"
      ]
     },
     "execution_count": 51,
     "metadata": {},
     "output_type": "execute_result"
    }
   ],
   "source": [
    "model.score(X_test, y_test)"
   ]
  },
  {
   "cell_type": "code",
   "execution_count": null,
   "id": "5faa5eab",
   "metadata": {},
   "outputs": [],
   "source": []
  },
  {
   "cell_type": "markdown",
   "id": "b6fd7bcc",
   "metadata": {},
   "source": [
    "### Zero-Rate Baseline\n",
    "\n",
    "While the accuracy metric above is useful, providing additional context for this task helps us understand how well the above predictions really are.\n",
    "\n",
    "To provide such context, we can compare the above model's accuracy to a __baseline__ simple mode.\n",
    "\n",
    "Here, that baseline mode is called the \"zero-rate\" or \"zero rule\" baseline, where we predict the most common class.\n"
   ]
  },
  {
   "cell_type": "code",
   "execution_count": 54,
   "id": "b8276143",
   "metadata": {},
   "outputs": [
    {
     "name": "stdout",
     "output_type": "stream",
     "text": [
      "Correct: 331\n",
      "Accuracy: 0.3706606942889138\n"
     ]
    }
   ],
   "source": [
    "baseline_correct = 0\n",
    "\n",
    "for actual in y_test:\n",
    "    if actual == 1: # Comedy is the most common genre\n",
    "        baseline_correct += 1\n",
    "\n",
    "print(\"Correct:\", baseline_correct)\n",
    "print(\"Accuracy:\", baseline_correct / len(y_test))\n",
    "\n",
    "# As you can see, our model's accuracy is way better than this baseline"
   ]
  },
  {
   "cell_type": "code",
   "execution_count": null,
   "id": "31b19ff9",
   "metadata": {},
   "outputs": [],
   "source": []
  },
  {
   "cell_type": "markdown",
   "id": "29530833",
   "metadata": {},
   "source": [
    "### Predicting Probabilities\n",
    "\n",
    "Logistic regression yields class assignments in the form of binary labels, as above, but it can also provide estimates on certainty through its `model.predict_proba()` function. This function returns the probabilities for each possible output label (here, just false/not-comedy or true/comedy)."
   ]
  },
  {
   "cell_type": "code",
   "execution_count": 56,
   "id": "61aa6d6b",
   "metadata": {},
   "outputs": [
    {
     "data": {
      "text/plain": [
       "array([[0.57003279, 0.42996721],\n",
       "       [0.64005542, 0.35994458],\n",
       "       [0.41241368, 0.58758632],\n",
       "       ...,\n",
       "       [0.45021855, 0.54978145],\n",
       "       [0.62306685, 0.37693315],\n",
       "       [0.62856484, 0.37143516]])"
      ]
     },
     "execution_count": 56,
     "metadata": {},
     "output_type": "execute_result"
    }
   ],
   "source": [
    "class_probabilities = model.predict_proba(X_test)\n",
    "class_probabilities"
   ]
  },
  {
   "cell_type": "code",
   "execution_count": 59,
   "id": "fea7d60f",
   "metadata": {},
   "outputs": [
    {
     "data": {
      "text/plain": [
       "(array([ 54., 114., 166., 291.,  95.,  69.,  40.,  29.,  24.,  11.]),\n",
       " array([0.03641708, 0.13147052, 0.22652395, 0.32157739, 0.41663083,\n",
       "        0.51168426, 0.6067377 , 0.70179114, 0.79684457, 0.89189801,\n",
       "        0.98695145]),\n",
       " <BarContainer object of 10 artists>)"
      ]
     },
     "execution_count": 59,
     "metadata": {},
     "output_type": "execute_result"
    },
    {
     "data": {
      "image/png": "[encoded data removed]",
      "text/plain": [
       "<Figure size 432x288 with 1 Axes>"
      ]
     },
     "metadata": {
      "needs_background": "light"
     },
     "output_type": "display_data"
    }
   ],
   "source": [
    "plt.hist(class_probabilities[:,1])"
   ]
  },
  {
   "cell_type": "code",
   "execution_count": 76,
   "id": "b8571627",
   "metadata": {},
   "outputs": [
    {
     "name": "stdout",
     "output_type": "stream",
     "text": [
      "Correct: 665\n"
     ]
    }
   ],
   "source": [
    "# We can binarize these probabilities easily by putting a threshold\n",
    "#. on the probability. By default, we may say > 0.5, but\n",
    "#. we could be more strict and say > 0.9 or more relaxed and say\n",
    "#. >0.33\n",
    "prob2binary = class_probabilities[:,1] > 0.5\n",
    "\n",
    "# After binarization, how many did we get correct?\n",
    "correct_count = sum(prob2binary == y_test)\n",
    "\n",
    "print(\"Correct:\", correct_count)"
   ]
  },
  {
   "cell_type": "markdown",
   "id": "09572b17",
   "metadata": {},
   "source": [
    "## Multi-Class Problem"
   ]
  },
  {
   "cell_type": "code",
   "execution_count": 21,
   "id": "c6b16f10",
   "metadata": {},
   "outputs": [],
   "source": [
    "X = df\n",
    "y = genres"
   ]
  },
  {
   "cell_type": "code",
   "execution_count": 22,
   "id": "075b928d",
   "metadata": {},
   "outputs": [],
   "source": [
    "X_train, X_test, y_train, y_test = train_test_split(X, y, test_size=0.20, random_state=31337)"
   ]
  },
  {
   "cell_type": "code",
   "execution_count": 23,
   "id": "67b99ef0",
   "metadata": {},
   "outputs": [
    {
     "data": {
      "text/plain": [
       "LogisticRegression(max_iter=2048)"
      ]
     },
     "execution_count": 23,
     "metadata": {},
     "output_type": "execute_result"
    }
   ],
   "source": [
    "model = LogisticRegression(max_iter=2048)\n",
    "model.fit(X_train, y_train)"
   ]
  },
  {
   "cell_type": "code",
   "execution_count": null,
   "id": "63f55f88",
   "metadata": {},
   "outputs": [],
   "source": []
  },
  {
   "cell_type": "code",
   "execution_count": 24,
   "id": "33239759",
   "metadata": {},
   "outputs": [],
   "source": [
    "predicted_genre = model.predict(X_test)"
   ]
  },
  {
   "cell_type": "code",
   "execution_count": 25,
   "id": "6a745735",
   "metadata": {},
   "outputs": [
    {
     "data": {
      "text/html": [
       "<div>\n",
       "<style scoped>\n",
       "    .dataframe tbody tr th:only-of-type {\n",
       "        vertical-align: middle;\n",
       "    }\n",
       "\n",
       "    .dataframe tbody tr th {\n",
       "        vertical-align: top;\n",
       "    }\n",
       "\n",
       "    .dataframe thead th {\n",
       "        text-align: right;\n",
       "    }\n",
       "</style>\n",
       "<table border=\"1\" class=\"dataframe\">\n",
       "  <thead>\n",
       "    <tr style=\"text-align: right;\">\n",
       "      <th></th>\n",
       "      <th>genre</th>\n",
       "      <th>count</th>\n",
       "      <th>precision</th>\n",
       "    </tr>\n",
       "  </thead>\n",
       "  <tbody>\n",
       "    <tr>\n",
       "      <th>8</th>\n",
       "      <td>Comedy</td>\n",
       "      <td>242</td>\n",
       "      <td>0.756198</td>\n",
       "    </tr>\n",
       "    <tr>\n",
       "      <th>15</th>\n",
       "      <td>Action</td>\n",
       "      <td>218</td>\n",
       "      <td>0.440367</td>\n",
       "    </tr>\n",
       "    <tr>\n",
       "      <th>7</th>\n",
       "      <td>Drama</td>\n",
       "      <td>193</td>\n",
       "      <td>0.310881</td>\n",
       "    </tr>\n",
       "    <tr>\n",
       "      <th>4</th>\n",
       "      <td>Adventure</td>\n",
       "      <td>65</td>\n",
       "      <td>0.061538</td>\n",
       "    </tr>\n",
       "    <tr>\n",
       "      <th>17</th>\n",
       "      <td>Biography</td>\n",
       "      <td>49</td>\n",
       "      <td>0.061224</td>\n",
       "    </tr>\n",
       "    <tr>\n",
       "      <th>16</th>\n",
       "      <td>Crime</td>\n",
       "      <td>59</td>\n",
       "      <td>0.033898</td>\n",
       "    </tr>\n",
       "    <tr>\n",
       "      <th>1</th>\n",
       "      <td>Horror</td>\n",
       "      <td>31</td>\n",
       "      <td>0.032258</td>\n",
       "    </tr>\n",
       "    <tr>\n",
       "      <th>2</th>\n",
       "      <td>Animation</td>\n",
       "      <td>8</td>\n",
       "      <td>0.000000</td>\n",
       "    </tr>\n",
       "    <tr>\n",
       "      <th>3</th>\n",
       "      <td>\\N</td>\n",
       "      <td>1</td>\n",
       "      <td>0.000000</td>\n",
       "    </tr>\n",
       "    <tr>\n",
       "      <th>6</th>\n",
       "      <td>Romance</td>\n",
       "      <td>1</td>\n",
       "      <td>0.000000</td>\n",
       "    </tr>\n",
       "    <tr>\n",
       "      <th>9</th>\n",
       "      <td>Thriller</td>\n",
       "      <td>3</td>\n",
       "      <td>0.000000</td>\n",
       "    </tr>\n",
       "    <tr>\n",
       "      <th>10</th>\n",
       "      <td>Fantasy</td>\n",
       "      <td>3</td>\n",
       "      <td>0.000000</td>\n",
       "    </tr>\n",
       "    <tr>\n",
       "      <th>12</th>\n",
       "      <td>Documentary</td>\n",
       "      <td>15</td>\n",
       "      <td>0.000000</td>\n",
       "    </tr>\n",
       "    <tr>\n",
       "      <th>14</th>\n",
       "      <td>Mystery</td>\n",
       "      <td>4</td>\n",
       "      <td>0.000000</td>\n",
       "    </tr>\n",
       "    <tr>\n",
       "      <th>18</th>\n",
       "      <td>Music</td>\n",
       "      <td>1</td>\n",
       "      <td>0.000000</td>\n",
       "    </tr>\n",
       "    <tr>\n",
       "      <th>0</th>\n",
       "      <td>Sci-Fi</td>\n",
       "      <td>0</td>\n",
       "      <td>NaN</td>\n",
       "    </tr>\n",
       "    <tr>\n",
       "      <th>5</th>\n",
       "      <td>Western</td>\n",
       "      <td>0</td>\n",
       "      <td>NaN</td>\n",
       "    </tr>\n",
       "    <tr>\n",
       "      <th>11</th>\n",
       "      <td>Family</td>\n",
       "      <td>0</td>\n",
       "      <td>NaN</td>\n",
       "    </tr>\n",
       "    <tr>\n",
       "      <th>13</th>\n",
       "      <td>History</td>\n",
       "      <td>0</td>\n",
       "      <td>NaN</td>\n",
       "    </tr>\n",
       "  </tbody>\n",
       "</table>\n",
       "</div>"
      ],
      "text/plain": [
       "          genre  count  precision\n",
       "8        Comedy    242   0.756198\n",
       "15       Action    218   0.440367\n",
       "7         Drama    193   0.310881\n",
       "4     Adventure     65   0.061538\n",
       "17    Biography     49   0.061224\n",
       "16        Crime     59   0.033898\n",
       "1        Horror     31   0.032258\n",
       "2     Animation      8   0.000000\n",
       "3            \\N      1   0.000000\n",
       "6       Romance      1   0.000000\n",
       "9      Thriller      3   0.000000\n",
       "10      Fantasy      3   0.000000\n",
       "12  Documentary     15   0.000000\n",
       "14      Mystery      4   0.000000\n",
       "18        Music      1   0.000000\n",
       "0        Sci-Fi      0        NaN\n",
       "5       Western      0        NaN\n",
       "11       Family      0        NaN\n",
       "13      History      0        NaN"
      ]
     },
     "execution_count": 25,
     "metadata": {},
     "output_type": "execute_result"
    }
   ],
   "source": [
    "performance_rows = []\n",
    "for genre,genre_id in genre2id_index.items():\n",
    "    \n",
    "    this_genre_pred = (predicted_genre == id2genre_index[genre_id]) & (np.array(y_test) == id2genre_index[genre_id])\n",
    "    this_genre_act = np.array(y_test) == id2genre_index[genre_id]\n",
    "    \n",
    "    this_genre_count = sum(this_genre_act)\n",
    "    this_pred_count = sum(this_genre_pred)\n",
    "    \n",
    "    score = None\n",
    "    if this_genre_count > 0:\n",
    "        score = this_pred_count / this_genre_count\n",
    "    \n",
    "    performance_rows.append({\n",
    "        \"genre\": genre,\n",
    "        \"count\": this_genre_count,\n",
    "        \"precision\": score\n",
    "    })\n",
    "    \n",
    "pd.DataFrame(performance_rows).sort_values(by=\"precision\", ascending=False)"
   ]
  },
  {
   "cell_type": "code",
   "execution_count": null,
   "id": "a4f3086a",
   "metadata": {},
   "outputs": [],
   "source": []
  },
  {
   "cell_type": "markdown",
   "id": "56dfd4e0",
   "metadata": {},
   "source": [
    "## Apply KNN Classification Model\n",
    "\n",
    "Above uses the *logistic regression* model, but we can use KNN-classifier here as well."
   ]
  },
  {
   "cell_type": "code",
   "execution_count": 39,
   "id": "b6565fac",
   "metadata": {},
   "outputs": [],
   "source": [
    "model = KNeighborsClassifier(n_neighbors=10)"
   ]
  },
  {
   "cell_type": "code",
   "execution_count": 40,
   "id": "4039c8ee",
   "metadata": {},
   "outputs": [
    {
     "data": {
      "text/plain": [
       "KNeighborsClassifier(n_neighbors=10)"
      ]
     },
     "execution_count": 40,
     "metadata": {},
     "output_type": "execute_result"
    }
   ],
   "source": [
    "model.fit(X_train, y_train)"
   ]
  },
  {
   "cell_type": "code",
   "execution_count": 41,
   "id": "17a1523c",
   "metadata": {},
   "outputs": [],
   "source": [
    "predicted_genre = model.predict(X_test)"
   ]
  },
  {
   "cell_type": "code",
   "execution_count": 42,
   "id": "e956d4a4",
   "metadata": {},
   "outputs": [
    {
     "data": {
      "text/html": [
       "<div>\n",
       "<style scoped>\n",
       "    .dataframe tbody tr th:only-of-type {\n",
       "        vertical-align: middle;\n",
       "    }\n",
       "\n",
       "    .dataframe tbody tr th {\n",
       "        vertical-align: top;\n",
       "    }\n",
       "\n",
       "    .dataframe thead th {\n",
       "        text-align: right;\n",
       "    }\n",
       "</style>\n",
       "<table border=\"1\" class=\"dataframe\">\n",
       "  <thead>\n",
       "    <tr style=\"text-align: right;\">\n",
       "      <th></th>\n",
       "      <th>genre</th>\n",
       "      <th>count</th>\n",
       "      <th>precision</th>\n",
       "    </tr>\n",
       "  </thead>\n",
       "  <tbody>\n",
       "    <tr>\n",
       "      <th>7</th>\n",
       "      <td>Drama</td>\n",
       "      <td>193</td>\n",
       "      <td>0.746114</td>\n",
       "    </tr>\n",
       "    <tr>\n",
       "      <th>8</th>\n",
       "      <td>Comedy</td>\n",
       "      <td>242</td>\n",
       "      <td>0.404959</td>\n",
       "    </tr>\n",
       "    <tr>\n",
       "      <th>15</th>\n",
       "      <td>Action</td>\n",
       "      <td>218</td>\n",
       "      <td>0.238532</td>\n",
       "    </tr>\n",
       "    <tr>\n",
       "      <th>4</th>\n",
       "      <td>Adventure</td>\n",
       "      <td>65</td>\n",
       "      <td>0.030769</td>\n",
       "    </tr>\n",
       "    <tr>\n",
       "      <th>17</th>\n",
       "      <td>Biography</td>\n",
       "      <td>49</td>\n",
       "      <td>0.020408</td>\n",
       "    </tr>\n",
       "    <tr>\n",
       "      <th>1</th>\n",
       "      <td>Horror</td>\n",
       "      <td>31</td>\n",
       "      <td>0.000000</td>\n",
       "    </tr>\n",
       "    <tr>\n",
       "      <th>2</th>\n",
       "      <td>Animation</td>\n",
       "      <td>8</td>\n",
       "      <td>0.000000</td>\n",
       "    </tr>\n",
       "    <tr>\n",
       "      <th>3</th>\n",
       "      <td>\\N</td>\n",
       "      <td>1</td>\n",
       "      <td>0.000000</td>\n",
       "    </tr>\n",
       "    <tr>\n",
       "      <th>6</th>\n",
       "      <td>Romance</td>\n",
       "      <td>1</td>\n",
       "      <td>0.000000</td>\n",
       "    </tr>\n",
       "    <tr>\n",
       "      <th>9</th>\n",
       "      <td>Thriller</td>\n",
       "      <td>3</td>\n",
       "      <td>0.000000</td>\n",
       "    </tr>\n",
       "    <tr>\n",
       "      <th>10</th>\n",
       "      <td>Fantasy</td>\n",
       "      <td>3</td>\n",
       "      <td>0.000000</td>\n",
       "    </tr>\n",
       "    <tr>\n",
       "      <th>12</th>\n",
       "      <td>Documentary</td>\n",
       "      <td>15</td>\n",
       "      <td>0.000000</td>\n",
       "    </tr>\n",
       "    <tr>\n",
       "      <th>14</th>\n",
       "      <td>Mystery</td>\n",
       "      <td>4</td>\n",
       "      <td>0.000000</td>\n",
       "    </tr>\n",
       "    <tr>\n",
       "      <th>16</th>\n",
       "      <td>Crime</td>\n",
       "      <td>59</td>\n",
       "      <td>0.000000</td>\n",
       "    </tr>\n",
       "    <tr>\n",
       "      <th>18</th>\n",
       "      <td>Music</td>\n",
       "      <td>1</td>\n",
       "      <td>0.000000</td>\n",
       "    </tr>\n",
       "    <tr>\n",
       "      <th>0</th>\n",
       "      <td>Sci-Fi</td>\n",
       "      <td>0</td>\n",
       "      <td>NaN</td>\n",
       "    </tr>\n",
       "    <tr>\n",
       "      <th>5</th>\n",
       "      <td>Western</td>\n",
       "      <td>0</td>\n",
       "      <td>NaN</td>\n",
       "    </tr>\n",
       "    <tr>\n",
       "      <th>11</th>\n",
       "      <td>Family</td>\n",
       "      <td>0</td>\n",
       "      <td>NaN</td>\n",
       "    </tr>\n",
       "    <tr>\n",
       "      <th>13</th>\n",
       "      <td>History</td>\n",
       "      <td>0</td>\n",
       "      <td>NaN</td>\n",
       "    </tr>\n",
       "  </tbody>\n",
       "</table>\n",
       "</div>"
      ],
      "text/plain": [
       "          genre  count  precision\n",
       "7         Drama    193   0.746114\n",
       "8        Comedy    242   0.404959\n",
       "15       Action    218   0.238532\n",
       "4     Adventure     65   0.030769\n",
       "17    Biography     49   0.020408\n",
       "1        Horror     31   0.000000\n",
       "2     Animation      8   0.000000\n",
       "3            \\N      1   0.000000\n",
       "6       Romance      1   0.000000\n",
       "9      Thriller      3   0.000000\n",
       "10      Fantasy      3   0.000000\n",
       "12  Documentary     15   0.000000\n",
       "14      Mystery      4   0.000000\n",
       "16        Crime     59   0.000000\n",
       "18        Music      1   0.000000\n",
       "0        Sci-Fi      0        NaN\n",
       "5       Western      0        NaN\n",
       "11       Family      0        NaN\n",
       "13      History      0        NaN"
      ]
     },
     "execution_count": 42,
     "metadata": {},
     "output_type": "execute_result"
    }
   ],
   "source": [
    "performance_rows = []\n",
    "for genre,genre_id in genre2id_index.items():\n",
    "    \n",
    "    this_genre_pred = (predicted_genre == id2genre_index[genre_id]) & (np.array(y_test) == id2genre_index[genre_id])\n",
    "    this_genre_act = np.array(y_test) == id2genre_index[genre_id]\n",
    "    \n",
    "    this_genre_count = sum(this_genre_act)\n",
    "    this_pred_count = sum(this_genre_pred)\n",
    "    \n",
    "    score = None\n",
    "    if this_genre_count > 0:\n",
    "        score = this_pred_count / this_genre_count\n",
    "    \n",
    "    performance_rows.append({\n",
    "        \"genre\": genre,\n",
    "        \"count\": this_genre_count,\n",
    "        \"precision\": score\n",
    "    })\n",
    "    \n",
    "pd.DataFrame(performance_rows).sort_values(by=\"precision\", ascending=False)"
   ]
  },
  {
   "cell_type": "code",
   "execution_count": null,
   "id": "68eeb08c",
   "metadata": {},
   "outputs": [],
   "source": []
  },
  {
   "cell_type": "code",
   "execution_count": null,
   "id": "0fa2fe94",
   "metadata": {},
   "outputs": [],
   "source": []
  }
 ],
 "metadata": {
  "kernelspec": {
   "display_name": "Python 3",
   "language": "python",
   "name": "python3"
  },
  "language_info": {
   "codemirror_mode": {
    "name": "ipython",
    "version": 3
   },
   "file_extension": ".py",
   "mimetype": "text/x-python",
   "name": "python",
   "nbconvert_exporter": "python",
   "pygments_lexer": "ipython3",
   "version": "3.8.8"
  }
 },
 "nbformat": 4,
 "nbformat_minor": 5
}
