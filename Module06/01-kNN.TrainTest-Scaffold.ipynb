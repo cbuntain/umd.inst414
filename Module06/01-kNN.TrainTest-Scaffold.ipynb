{
 "cells": [
  {
   "cell_type": "markdown",
   "id": "0cc61baf",
   "metadata": {},
   "source": [
    "# Predict Movie Genre and Rating in Test/Train Data\n",
    "\n",
    "Using the k-nearest neighbors method, use the top-k most similar movies to a target film to predict the target movie's genre and rating.\n",
    "\n",
    "Use Jaccard similarity based on actors in each movie to rank movies and select the top-k most similar movies."
   ]
  },
  {
   "cell_type": "code",
   "execution_count": null,
   "id": "47d80463",
   "metadata": {},
   "outputs": [],
   "source": [
    "import json\n",
    "\n",
    "import pandas as pd\n",
    "import numpy as np\n",
    "\n",
    "from scipy.sparse import lil_matrix\n",
    "\n",
    "import matplotlib.pyplot as plt\n"
   ]
  },
  {
   "cell_type": "code",
   "execution_count": null,
   "id": "09e36e97",
   "metadata": {},
   "outputs": [],
   "source": [
    "actor_name_map = {}\n",
    "movie_actor_map = {}\n",
    "actor_genre_map = {}\n",
    "\n",
    "\n",
    "with open(\"../data/imdb_movies_2000to2022.prolific.json\", \"r\") as in_file:\n",
    "    for line in in_file:\n",
    "        \n",
    "        # Read the movie on this line and parse its json\n",
    "        this_movie = json.loads(line)\n",
    "        \n",
    "        # Skip movies with no ratings\n",
    "        if len(this_movie[\"rating\"]) == 0:\n",
    "            continue\n",
    "                    \n",
    "        # Add all actors to the id->name map\n",
    "        for actor_id,actor_name in this_movie['actors']:\n",
    "            actor_name_map[actor_id] = actor_name\n",
    "            \n",
    "        # For each actor, add this movie's genres to that actor's list\n",
    "        for actor_id,actor_name in this_movie['actors']:\n",
    "            this_actors_genres = actor_genre_map.get(actor_id, {})\n",
    "            \n",
    "            # Increment the count of genres for this actor\n",
    "            for g in this_movie[\"genres\"]:\n",
    "                this_actors_genres[g] = this_actors_genres.get(g, 0) + 1\n",
    "                \n",
    "            # Update the map\n",
    "            actor_genre_map[actor_id] = this_actors_genres\n",
    "            \n",
    "        # Finished with this film\n",
    "        movie_actor_map[this_movie[\"imdb_id\"]] = ({\n",
    "            \"movie\": this_movie[\"title\"],\n",
    "            \"actors\": set([item[0] for item in this_movie['actors']]),\n",
    "            \"genres\": this_movie[\"genres\"],\n",
    "            \"rating\": this_movie[\"rating\"][\"avg\"]\n",
    "        })"
   ]
  },
  {
   "cell_type": "code",
   "execution_count": null,
   "id": "2ecd8139",
   "metadata": {},
   "outputs": [],
   "source": [
    "print(\"Known Actors:\", len(actor_name_map))\n",
    "print(\"Known Movies:\", len(movie_actor_map))"
   ]
  },
  {
   "cell_type": "code",
   "execution_count": null,
   "id": "07d6abab",
   "metadata": {},
   "outputs": [],
   "source": [
    "actor_id_to_index = {actor_id:i for i,actor_id in enumerate(actor_name_map.keys())}\n"
   ]
  },
  {
   "cell_type": "code",
   "execution_count": null,
   "id": "e9757703",
   "metadata": {},
   "outputs": [],
   "source": []
  },
  {
   "cell_type": "markdown",
   "id": "921de12c",
   "metadata": {},
   "source": [
    "## Split Data into Training/Testing Data"
   ]
  },
  {
   "cell_type": "code",
   "execution_count": null,
   "id": "826acd20",
   "metadata": {},
   "outputs": [],
   "source": [
    "from sklearn.model_selection import train_test_split"
   ]
  },
  {
   "cell_type": "code",
   "execution_count": null,
   "id": "079ae52e",
   "metadata": {},
   "outputs": [],
   "source": [
    "all_movie_ids = np.array(list(movie_actor_map.keys()))\n",
    "training_ids, testing_ids = train_test_split(all_movie_ids, test_size=0.1)"
   ]
  },
  {
   "cell_type": "code",
   "execution_count": null,
   "id": "4faf199a",
   "metadata": {},
   "outputs": [],
   "source": [
    "training_ids.shape, testing_ids.shape"
   ]
  },
  {
   "cell_type": "code",
   "execution_count": null,
   "id": "31937cbe",
   "metadata": {},
   "outputs": [],
   "source": []
  },
  {
   "cell_type": "markdown",
   "id": "c81c5708",
   "metadata": {},
   "source": [
    "## For Each Movie in Test Set, Use Jaccard Similarity by Actor to Predict Genre and Rating\n",
    "\n",
    "For each movie in the test set, we find the k most similar movies **in the training set** to predict the test movie's genre and its rating.\n",
    "\n",
    "Then compare the predictions to the actual data from the `movie_actor_map` to calculate accuracy of this prediction."
   ]
  },
  {
   "cell_type": "code",
   "execution_count": null,
   "id": "80561039",
   "metadata": {},
   "outputs": [],
   "source": [
    "k_nn = 10"
   ]
  },
  {
   "cell_type": "code",
   "execution_count": null,
   "id": "36d31454",
   "metadata": {},
   "outputs": [],
   "source": [
    "prediction_rows = []\n",
    "\n",
    "for test_movie_id in testing_ids:\n",
    "\n",
    "    # This test movie\n",
    "    target_movie_object = movie_actor_map[test_movie_id]\n",
    "    \n",
    "    # List of similar movies\n",
    "    test_movie_similarities = []\n",
    "\n",
    "    # Iterate through every movie in the training set\n",
    "    for this_movie_id in training_ids:\n",
    "        # TODO iterate through all the training movies to find the top-k\n",
    "        # most similar to this test movie\n",
    "        # Add result to an array of movies\n",
    "\n",
    "    \n",
    "    similarity_df = pd.DataFrame(test_movie_similarities, columns=[\"movie\", \"jaccard\"])\n",
    "    \n",
    "    # Get the top k movies\n",
    "    top_movies = similarity_df.sort_values(by=\"jaccard\", ascending=False).head(k_nn)\n",
    "\n",
    "    # iterate through the top k movies and predict genre and rating\n",
    "    relevant_ratings = []\n",
    "    relevant_genre_count = {}\n",
    "    for this_movie_id in top_movies[\"movie\"]:\n",
    "        # add relevant ratings\n",
    "        # TODO add relevant rating to `relevant_ratings`\n",
    "        \n",
    "        # Track genres\n",
    "        # TODO add this similar movie's genre to map of genre counts\n",
    "            \n",
    "    # Get the most common genre from the neighbors\n",
    "    predicted_genre = # TODO\n",
    "    \n",
    "    # Take the average rating of k neighbors for prediction\n",
    "    predicted_rating = # TODO\n",
    "    \n",
    "    # Track predictions\n",
    "    prediction_rows.append({\n",
    "        \"imdb_id\": test_movie_id,\n",
    "        \"genre\": predicted_genre,\n",
    "        \"rating\": predicted_rating,\n",
    "    })\n"
   ]
  },
  {
   "cell_type": "code",
   "execution_count": null,
   "id": "b87fac81",
   "metadata": {},
   "outputs": [],
   "source": []
  },
  {
   "cell_type": "code",
   "execution_count": null,
   "id": "b1874ce0",
   "metadata": {},
   "outputs": [],
   "source": [
    "predicted_df = pd.DataFrame(prediction_rows).set_index(\"imdb_id\")\n",
    "predicted_df"
   ]
  },
  {
   "cell_type": "code",
   "execution_count": null,
   "id": "5120a9fb",
   "metadata": {},
   "outputs": [],
   "source": []
  },
  {
   "cell_type": "markdown",
   "id": "224263e4",
   "metadata": {},
   "source": [
    "## Measure Accuracy of Predictions"
   ]
  },
  {
   "cell_type": "code",
   "execution_count": null,
   "id": "32f3b0ea",
   "metadata": {},
   "outputs": [],
   "source": [
    "correct_genres = []\n",
    "\n",
    "for movie_id,row in predicted_df.iterrows():\n",
    "\n",
    "    # TODO calculate accuracy for this movie\n",
    "    # add 1 to `correct_genres` if predicted genre \n",
    "    #. is in the set of actual genres\n",
    "    \n",
    "accuracy = sum(correct_genres) / len(correct_genres)\n",
    "print(\"Genre Accuracy:\", accuracy)"
   ]
  },
  {
   "cell_type": "code",
   "execution_count": null,
   "id": "2a3f8374",
   "metadata": {},
   "outputs": [],
   "source": [
    "rating_mses = []\n",
    "\n",
    "for movie_id,row in predicted_df.iterrows():\n",
    "\n",
    "    # TODO calculate MSE by squaring the error\n",
    "    # between predicted and actual rating\n",
    "    \n",
    "mse = sum(rating_mses) / len(rating_mses)\n",
    "print(\"Rating Mean Squared Error:\", mse)"
   ]
  },
  {
   "cell_type": "code",
   "execution_count": null,
   "id": "1a8c61f4",
   "metadata": {},
   "outputs": [],
   "source": []
  }
 ],
 "metadata": {
  "kernelspec": {
   "display_name": "Python 3 (ipykernel)",
   "language": "python",
   "name": "python3"
  },
  "language_info": {
   "codemirror_mode": {
    "name": "ipython",
    "version": 3
   },
   "file_extension": ".py",
   "mimetype": "text/x-python",
   "name": "python",
   "nbconvert_exporter": "python",
   "pygments_lexer": "ipython3",
   "version": "3.9.12"
  }
 },
 "nbformat": 4,
 "nbformat_minor": 5
}
