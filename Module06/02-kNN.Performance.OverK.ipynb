{
 "cells": [
  {
   "cell_type": "markdown",
   "id": "0cc61baf",
   "metadata": {},
   "source": [
    "# Assess Genre and Rating Across k\n",
    "\n",
    "Using the k-nearest neighbors method, use the top-k most similar movies to a target film to predict the target movie's genre and rating.\n",
    "\n",
    "Use Jaccard similarity based on actors in each movie to rank movies and select the top-k most similar movies.\n",
    "\n",
    "We want to calculate genre accuracy and rating error across k values in 2..20"
   ]
  },
  {
   "cell_type": "code",
   "execution_count": 1,
   "id": "47d80463",
   "metadata": {},
   "outputs": [],
   "source": [
    "import json\n",
    "\n",
    "import pandas as pd\n",
    "import numpy as np\n",
    "\n",
    "from scipy.sparse import lil_matrix\n",
    "\n",
    "import matplotlib.pyplot as plt\n"
   ]
  },
  {
   "cell_type": "code",
   "execution_count": 2,
   "id": "09e36e97",
   "metadata": {},
   "outputs": [],
   "source": [
    "actor_name_map = {}\n",
    "movie_actor_map = {}\n",
    "actor_genre_map = {}\n",
    "\n",
    "\n",
    "with open(\"../data/imdb_movies_2000to2022.prolific.json\", \"r\") as in_file:\n",
    "    for line in in_file:\n",
    "        \n",
    "        # Read the movie on this line and parse its json\n",
    "        this_movie = json.loads(line)\n",
    "        \n",
    "        # Skip movies with no ratings\n",
    "        if len(this_movie[\"rating\"]) == 0:\n",
    "            continue\n",
    "                    \n",
    "        # Add all actors to the id->name map\n",
    "        for actor_id,actor_name in this_movie['actors']:\n",
    "            actor_name_map[actor_id] = actor_name\n",
    "            \n",
    "        # For each actor, add this movie's genres to that actor's list\n",
    "        for actor_id,actor_name in this_movie['actors']:\n",
    "            this_actors_genres = actor_genre_map.get(actor_id, {})\n",
    "            \n",
    "            # Increment the count of genres for this actor\n",
    "            for g in this_movie[\"genres\"]:\n",
    "                this_actors_genres[g] = this_actors_genres.get(g, 0) + 1\n",
    "                \n",
    "            # Update the map\n",
    "            actor_genre_map[actor_id] = this_actors_genres\n",
    "            \n",
    "        # Finished with this film\n",
    "        movie_actor_map[this_movie[\"imdb_id\"]] = ({\n",
    "            \"movie\": this_movie[\"title\"],\n",
    "            \"actors\": set([item[0] for item in this_movie['actors']]),\n",
    "            \"genres\": this_movie[\"genres\"],\n",
    "            \"rating\": this_movie[\"rating\"][\"avg\"]\n",
    "        })"
   ]
  },
  {
   "cell_type": "code",
   "execution_count": 3,
   "id": "2ecd8139",
   "metadata": {},
   "outputs": [
    {
     "name": "stdout",
     "output_type": "stream",
     "text": [
      "Known Actors: 29499\n",
      "Known Movies: 18841\n"
     ]
    }
   ],
   "source": [
    "print(\"Known Actors:\", len(actor_name_map))\n",
    "print(\"Known Movies:\", len(movie_actor_map))"
   ]
  },
  {
   "cell_type": "code",
   "execution_count": 4,
   "id": "07d6abab",
   "metadata": {},
   "outputs": [],
   "source": [
    "actor_id_to_index = {actor_id:i for i,actor_id in enumerate(actor_name_map.keys())}\n"
   ]
  },
  {
   "cell_type": "code",
   "execution_count": null,
   "id": "e9757703",
   "metadata": {},
   "outputs": [],
   "source": []
  },
  {
   "cell_type": "markdown",
   "id": "ec15e23e",
   "metadata": {},
   "source": [
    "## Split Data into Training/Testing Data"
   ]
  },
  {
   "cell_type": "code",
   "execution_count": 5,
   "id": "bce944df",
   "metadata": {},
   "outputs": [],
   "source": [
    "from sklearn.model_selection import train_test_split"
   ]
  },
  {
   "cell_type": "code",
   "execution_count": 6,
   "id": "2a540d22",
   "metadata": {},
   "outputs": [],
   "source": [
    "all_movie_ids = np.array(list(movie_actor_map.keys()))\n",
    "training_ids, testing_ids = train_test_split(all_movie_ids, test_size=0.1)"
   ]
  },
  {
   "cell_type": "code",
   "execution_count": 7,
   "id": "993c730f",
   "metadata": {},
   "outputs": [
    {
     "data": {
      "text/plain": [
       "((16956,), (1885,))"
      ]
     },
     "execution_count": 7,
     "metadata": {},
     "output_type": "execute_result"
    }
   ],
   "source": [
    "training_ids.shape, testing_ids.shape"
   ]
  },
  {
   "cell_type": "code",
   "execution_count": null,
   "id": "cbb6d4d3",
   "metadata": {},
   "outputs": [],
   "source": []
  },
  {
   "cell_type": "markdown",
   "id": "c81c5708",
   "metadata": {},
   "source": [
    "## For Each Movie in Test Set, Use Jaccard Similarity by Actor to Predict Genre and Rating\n",
    "\n",
    "For each movie in the test set, we find the k most similar movies **in the training set** to predict the test movie's genre and its rating.\n",
    "\n",
    "Then compare the predictions to the actual data from the `movie_actor_map` to calculate accuracy of this prediction."
   ]
  },
  {
   "cell_type": "code",
   "execution_count": null,
   "id": "c73c668f",
   "metadata": {},
   "outputs": [],
   "source": []
  },
  {
   "cell_type": "code",
   "execution_count": 8,
   "id": "36d31454",
   "metadata": {},
   "outputs": [
    {
     "name": "stdout",
     "output_type": "stream",
     "text": [
      "This k: 2\n",
      "This k: 3\n",
      "This k: 4\n",
      "This k: 5\n",
      "This k: 6\n",
      "This k: 7\n",
      "This k: 8\n",
      "This k: 9\n",
      "This k: 10\n",
      "This k: 11\n",
      "This k: 12\n",
      "This k: 13\n",
      "This k: 14\n",
      "This k: 15\n",
      "This k: 16\n",
      "This k: 17\n",
      "This k: 18\n",
      "This k: 19\n"
     ]
    }
   ],
   "source": [
    "performance_by_k_rows = []\n",
    "\n",
    "for k_nn in range(2,20):\n",
    "    print(\"This k:\", k_nn)\n",
    "    \n",
    "    prediction_rows = []\n",
    "\n",
    "    for test_movie_id in testing_ids:\n",
    "\n",
    "        target_movie_object = movie_actor_map[test_movie_id]\n",
    "\n",
    "        test_movie_similarities = []\n",
    "\n",
    "        for this_movie_id in training_ids:\n",
    "            this_movie_obj = movie_actor_map[this_movie_id]\n",
    "\n",
    "            this_intersect = this_movie_obj[\"actors\"].intersection(target_movie_object[\"actors\"])\n",
    "            this_union = this_movie_obj[\"actors\"].union(target_movie_object[\"actors\"])\n",
    "\n",
    "            jaccard = len(this_intersect) / len(this_union)\n",
    "\n",
    "            test_movie_similarities.append({\n",
    "                \"movie\": this_movie_id,\n",
    "                \"jaccard\": jaccard,\n",
    "            })\n",
    "\n",
    "        similarity_df = pd.DataFrame(test_movie_similarities, columns=[\"movie\", \"jaccard\"])\n",
    "        top_movies = similarity_df.sort_values(by=\"jaccard\", ascending=False).head(k_nn)\n",
    "\n",
    "        relevant_ratings = []\n",
    "        relevant_genre_count = {}\n",
    "        for this_movie_id in top_movies[\"movie\"]:\n",
    "            # add relevant ratings\n",
    "            relevant_ratings.append(movie_actor_map[this_movie_id][\"rating\"])\n",
    "\n",
    "            # Track genres\n",
    "            this_movie_genres = movie_actor_map[this_movie_id][\"genres\"]\n",
    "            for g in this_movie_genres:\n",
    "                relevant_genre_count[g] = relevant_genre_count.get(g, 0) + 1\n",
    "\n",
    "        # Get the most common genre from the neighbors\n",
    "        predicted_genre = sorted(relevant_genre_count, key=relevant_genre_count.get, reverse=True)[0]\n",
    "\n",
    "        # Take the average rating of k neighbors for prediction\n",
    "        predicted_rating = np.mean(relevant_ratings)\n",
    "\n",
    "        # Track predictions\n",
    "        prediction_rows.append({\n",
    "            \"imdb_id\": test_movie_id,\n",
    "            \"genre\": predicted_genre,\n",
    "            \"rating\": predicted_rating,\n",
    "        })\n",
    "\n",
    "    predicted_df = pd.DataFrame(prediction_rows).set_index(\"imdb_id\")\n",
    "\n",
    "    # Calculate genre accuracy\n",
    "    correct_genres = []\n",
    "    for movie_id,row in predicted_df.iterrows():\n",
    "\n",
    "        actual_genres = movie_actor_map[movie_id][\"genres\"]\n",
    "        correct_genres.append(1 if row[\"genre\"] in actual_genres else 0)\n",
    "    accuracy = sum(correct_genres) / len(correct_genres)\n",
    "\n",
    "\n",
    "\n",
    "    # Calculate rating accuracy\n",
    "    rating_mses = []\n",
    "    for movie_id,row in predicted_df.iterrows():\n",
    "\n",
    "        actual_rating = movie_actor_map[movie_id][\"rating\"]\n",
    "        predicted_rating = row[\"rating\"]\n",
    "\n",
    "        # Add squared error\n",
    "        rating_mses.append((actual_rating - predicted_rating) ** 2)\n",
    "    mse = sum(rating_mses) / len(rating_mses)\n",
    "\n",
    "    performance_by_k_rows.append({\n",
    "        \"k\": k_nn,\n",
    "        \"genre_accuracy\": accuracy,\n",
    "        \"rating_mse\": mse,\n",
    "    })"
   ]
  },
  {
   "cell_type": "code",
   "execution_count": null,
   "id": "03aafb42",
   "metadata": {},
   "outputs": [],
   "source": []
  },
  {
   "cell_type": "code",
   "execution_count": 9,
   "id": "a15fc29c",
   "metadata": {},
   "outputs": [
    {
     "data": {
      "text/html": [
       "<div>\n",
       "<style scoped>\n",
       "    .dataframe tbody tr th:only-of-type {\n",
       "        vertical-align: middle;\n",
       "    }\n",
       "\n",
       "    .dataframe tbody tr th {\n",
       "        vertical-align: top;\n",
       "    }\n",
       "\n",
       "    .dataframe thead th {\n",
       "        text-align: right;\n",
       "    }\n",
       "</style>\n",
       "<table border=\"1\" class=\"dataframe\">\n",
       "  <thead>\n",
       "    <tr style=\"text-align: right;\">\n",
       "      <th></th>\n",
       "      <th>k</th>\n",
       "      <th>genre_accuracy</th>\n",
       "      <th>rating_mse</th>\n",
       "    </tr>\n",
       "  </thead>\n",
       "  <tbody>\n",
       "    <tr>\n",
       "      <th>0</th>\n",
       "      <td>2</td>\n",
       "      <td>0.379841</td>\n",
       "      <td>2.327219</td>\n",
       "    </tr>\n",
       "    <tr>\n",
       "      <th>1</th>\n",
       "      <td>3</td>\n",
       "      <td>0.427056</td>\n",
       "      <td>2.049214</td>\n",
       "    </tr>\n",
       "    <tr>\n",
       "      <th>2</th>\n",
       "      <td>4</td>\n",
       "      <td>0.456233</td>\n",
       "      <td>1.893236</td>\n",
       "    </tr>\n",
       "    <tr>\n",
       "      <th>3</th>\n",
       "      <td>5</td>\n",
       "      <td>0.487003</td>\n",
       "      <td>1.770386</td>\n",
       "    </tr>\n",
       "    <tr>\n",
       "      <th>4</th>\n",
       "      <td>6</td>\n",
       "      <td>0.505570</td>\n",
       "      <td>1.678731</td>\n",
       "    </tr>\n",
       "    <tr>\n",
       "      <th>5</th>\n",
       "      <td>7</td>\n",
       "      <td>0.525199</td>\n",
       "      <td>1.634783</td>\n",
       "    </tr>\n",
       "    <tr>\n",
       "      <th>6</th>\n",
       "      <td>8</td>\n",
       "      <td>0.538462</td>\n",
       "      <td>1.602023</td>\n",
       "    </tr>\n",
       "    <tr>\n",
       "      <th>7</th>\n",
       "      <td>9</td>\n",
       "      <td>0.550133</td>\n",
       "      <td>1.582847</td>\n",
       "    </tr>\n",
       "    <tr>\n",
       "      <th>8</th>\n",
       "      <td>10</td>\n",
       "      <td>0.552255</td>\n",
       "      <td>1.568948</td>\n",
       "    </tr>\n",
       "    <tr>\n",
       "      <th>9</th>\n",
       "      <td>11</td>\n",
       "      <td>0.562865</td>\n",
       "      <td>1.547330</td>\n",
       "    </tr>\n",
       "    <tr>\n",
       "      <th>10</th>\n",
       "      <td>12</td>\n",
       "      <td>0.562865</td>\n",
       "      <td>1.543339</td>\n",
       "    </tr>\n",
       "    <tr>\n",
       "      <th>11</th>\n",
       "      <td>13</td>\n",
       "      <td>0.564987</td>\n",
       "      <td>1.532109</td>\n",
       "    </tr>\n",
       "    <tr>\n",
       "      <th>12</th>\n",
       "      <td>14</td>\n",
       "      <td>0.561804</td>\n",
       "      <td>1.522496</td>\n",
       "    </tr>\n",
       "    <tr>\n",
       "      <th>13</th>\n",
       "      <td>15</td>\n",
       "      <td>0.575066</td>\n",
       "      <td>1.523234</td>\n",
       "    </tr>\n",
       "    <tr>\n",
       "      <th>14</th>\n",
       "      <td>16</td>\n",
       "      <td>0.577719</td>\n",
       "      <td>1.526402</td>\n",
       "    </tr>\n",
       "    <tr>\n",
       "      <th>15</th>\n",
       "      <td>17</td>\n",
       "      <td>0.581963</td>\n",
       "      <td>1.518182</td>\n",
       "    </tr>\n",
       "    <tr>\n",
       "      <th>16</th>\n",
       "      <td>18</td>\n",
       "      <td>0.577188</td>\n",
       "      <td>1.514324</td>\n",
       "    </tr>\n",
       "    <tr>\n",
       "      <th>17</th>\n",
       "      <td>19</td>\n",
       "      <td>0.584085</td>\n",
       "      <td>1.507933</td>\n",
       "    </tr>\n",
       "  </tbody>\n",
       "</table>\n",
       "</div>"
      ],
      "text/plain": [
       "     k  genre_accuracy  rating_mse\n",
       "0    2        0.379841    2.327219\n",
       "1    3        0.427056    2.049214\n",
       "2    4        0.456233    1.893236\n",
       "3    5        0.487003    1.770386\n",
       "4    6        0.505570    1.678731\n",
       "5    7        0.525199    1.634783\n",
       "6    8        0.538462    1.602023\n",
       "7    9        0.550133    1.582847\n",
       "8   10        0.552255    1.568948\n",
       "9   11        0.562865    1.547330\n",
       "10  12        0.562865    1.543339\n",
       "11  13        0.564987    1.532109\n",
       "12  14        0.561804    1.522496\n",
       "13  15        0.575066    1.523234\n",
       "14  16        0.577719    1.526402\n",
       "15  17        0.581963    1.518182\n",
       "16  18        0.577188    1.514324\n",
       "17  19        0.584085    1.507933"
      ]
     },
     "execution_count": 9,
     "metadata": {},
     "output_type": "execute_result"
    }
   ],
   "source": [
    "perf_df = pd.DataFrame(performance_by_k_rows)\n",
    "perf_df"
   ]
  },
  {
   "cell_type": "code",
   "execution_count": null,
   "id": "a4d76668",
   "metadata": {},
   "outputs": [],
   "source": []
  },
  {
   "cell_type": "code",
   "execution_count": 10,
   "id": "b851559d",
   "metadata": {},
   "outputs": [
    {
     "data": {
      "text/plain": [
       "<AxesSubplot:xlabel='k'>"
      ]
     },
     "execution_count": 10,
     "metadata": {},
     "output_type": "execute_result"
    },
    {
     "data": {
      "image/png": "[encoded data removed]",
      "text/plain": [
       "<Figure size 432x288 with 1 Axes>"
      ]
     },
     "metadata": {
      "needs_background": "light"
     },
     "output_type": "display_data"
    }
   ],
   "source": [
    "perf_df.plot(x=\"k\", y=\"genre_accuracy\")"
   ]
  },
  {
   "cell_type": "code",
   "execution_count": 11,
   "id": "53cb559c",
   "metadata": {},
   "outputs": [
    {
     "data": {
      "text/plain": [
       "<AxesSubplot:xlabel='k'>"
      ]
     },
     "execution_count": 11,
     "metadata": {},
     "output_type": "execute_result"
    },
    {
     "data": {
      "image/png": "[encoded data removed]",
      "text/plain": [
       "<Figure size 432x288 with 1 Axes>"
      ]
     },
     "metadata": {
      "needs_background": "light"
     },
     "output_type": "display_data"
    }
   ],
   "source": [
    "perf_df.plot(x=\"k\", y=\"rating_mse\")"
   ]
  },
  {
   "cell_type": "code",
   "execution_count": null,
   "id": "006398bf",
   "metadata": {},
   "outputs": [],
   "source": []
  }
 ],
 "metadata": {
  "kernelspec": {
   "display_name": "Python 3 (ipykernel)",
   "language": "python",
   "name": "python3"
  },
  "language_info": {
   "codemirror_mode": {
    "name": "ipython",
    "version": 3
   },
   "file_extension": ".py",
   "mimetype": "text/x-python",
   "name": "python",
   "nbconvert_exporter": "python",
   "pygments_lexer": "ipython3",
   "version": "3.9.12"
  }
 },
 "nbformat": 4,
 "nbformat_minor": 5
}
