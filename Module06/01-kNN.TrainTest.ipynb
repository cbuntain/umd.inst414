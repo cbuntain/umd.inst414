{
 "cells": [
  {
   "cell_type": "markdown",
   "id": "0cc61baf",
   "metadata": {},
   "source": [
    "# Predict Movie Genre and Rating in Test/Train Data\n",
    "\n",
    "Using the k-nearest neighbors method, use the top-k most similar movies to a target film to predict the target movie's genre and rating.\n",
    "\n",
    "Use Jaccard similarity based on actors in each movie to rank movies and select the top-k most similar movies."
   ]
  },
  {
   "cell_type": "code",
   "execution_count": 1,
   "id": "47d80463",
   "metadata": {},
   "outputs": [],
   "source": [
    "import json\n",
    "\n",
    "import pandas as pd\n",
    "import numpy as np\n",
    "\n",
    "from scipy.sparse import lil_matrix\n",
    "\n",
    "import matplotlib.pyplot as plt\n"
   ]
  },
  {
   "cell_type": "code",
   "execution_count": 2,
   "id": "09e36e97",
   "metadata": {},
   "outputs": [],
   "source": [
    "actor_name_map = {}\n",
    "movie_actor_map = {}\n",
    "actor_genre_map = {}\n",
    "\n",
    "\n",
    "with open(\"../data/imdb_movies_2000to2022.prolific.json\", \"r\") as in_file:\n",
    "    for line in in_file:\n",
    "        \n",
    "        # Read the movie on this line and parse its json\n",
    "        this_movie = json.loads(line)\n",
    "        \n",
    "        # Skip movies with no ratings\n",
    "        if len(this_movie[\"rating\"]) == 0:\n",
    "            continue\n",
    "                    \n",
    "        # Add all actors to the id->name map\n",
    "        for actor_id,actor_name in this_movie['actors']:\n",
    "            actor_name_map[actor_id] = actor_name\n",
    "            \n",
    "        # For each actor, add this movie's genres to that actor's list\n",
    "        for actor_id,actor_name in this_movie['actors']:\n",
    "            this_actors_genres = actor_genre_map.get(actor_id, {})\n",
    "            \n",
    "            # Increment the count of genres for this actor\n",
    "            for g in this_movie[\"genres\"]:\n",
    "                this_actors_genres[g] = this_actors_genres.get(g, 0) + 1\n",
    "                \n",
    "            # Update the map\n",
    "            actor_genre_map[actor_id] = this_actors_genres\n",
    "            \n",
    "        # Finished with this film\n",
    "        movie_actor_map[this_movie[\"imdb_id\"]] = ({\n",
    "            \"movie\": this_movie[\"title\"],\n",
    "            \"actors\": set([item[0] for item in this_movie['actors']]),\n",
    "            \"genres\": this_movie[\"genres\"],\n",
    "            \"rating\": this_movie[\"rating\"][\"avg\"]\n",
    "        })"
   ]
  },
  {
   "cell_type": "code",
   "execution_count": 3,
   "id": "2ecd8139",
   "metadata": {},
   "outputs": [
    {
     "name": "stdout",
     "output_type": "stream",
     "text": [
      "Known Actors: 29499\n",
      "Known Movies: 18841\n"
     ]
    }
   ],
   "source": [
    "print(\"Known Actors:\", len(actor_name_map))\n",
    "print(\"Known Movies:\", len(movie_actor_map))"
   ]
  },
  {
   "cell_type": "code",
   "execution_count": 4,
   "id": "07d6abab",
   "metadata": {},
   "outputs": [],
   "source": [
    "actor_id_to_index = {actor_id:i for i,actor_id in enumerate(actor_name_map.keys())}\n"
   ]
  },
  {
   "cell_type": "code",
   "execution_count": null,
   "id": "e9757703",
   "metadata": {},
   "outputs": [],
   "source": []
  },
  {
   "cell_type": "markdown",
   "id": "cb60b6e6",
   "metadata": {},
   "source": [
    "## Split Data into Training/Testing Data"
   ]
  },
  {
   "cell_type": "code",
   "execution_count": 5,
   "id": "2306b87d",
   "metadata": {},
   "outputs": [],
   "source": [
    "from sklearn.model_selection import train_test_split"
   ]
  },
  {
   "cell_type": "code",
   "execution_count": 14,
   "id": "ad55dc0c",
   "metadata": {},
   "outputs": [],
   "source": [
    "all_movie_ids = np.array(list(movie_actor_map.keys()))\n",
    "training_ids, testing_ids = train_test_split(all_movie_ids, test_size=0.2)"
   ]
  },
  {
   "cell_type": "code",
   "execution_count": 15,
   "id": "ba184062",
   "metadata": {},
   "outputs": [
    {
     "data": {
      "text/plain": [
       "((15072,), (3769,))"
      ]
     },
     "execution_count": 15,
     "metadata": {},
     "output_type": "execute_result"
    }
   ],
   "source": [
    "training_ids.shape, testing_ids.shape"
   ]
  },
  {
   "cell_type": "code",
   "execution_count": null,
   "id": "202a4917",
   "metadata": {},
   "outputs": [],
   "source": []
  },
  {
   "cell_type": "markdown",
   "id": "c81c5708",
   "metadata": {},
   "source": [
    "## For Each Movie in Test Set, Use Jaccard Similarity by Actor to Predict Genre and Rating\n",
    "\n",
    "For each movie in the test set, we find the k most similar movies **in the training set** to predict the test movie's genre and its rating.\n",
    "\n",
    "Then compare the predictions to the actual data from the `movie_actor_map` to calculate accuracy of this prediction."
   ]
  },
  {
   "cell_type": "code",
   "execution_count": 16,
   "id": "262b6d54",
   "metadata": {},
   "outputs": [],
   "source": [
    "k_nn = 10"
   ]
  },
  {
   "cell_type": "code",
   "execution_count": 27,
   "id": "36d31454",
   "metadata": {},
   "outputs": [],
   "source": [
    "prediction_rows = []\n",
    "\n",
    "for test_movie_id in testing_ids:\n",
    "\n",
    "    target_movie_object = movie_actor_map[test_movie_id]\n",
    "    \n",
    "    test_movie_similarities = []\n",
    "\n",
    "    for this_movie_id in training_ids:\n",
    "        this_movie_obj = movie_actor_map[this_movie_id]\n",
    "\n",
    "        this_intersect = this_movie_obj[\"actors\"].intersection(target_movie_object[\"actors\"])\n",
    "        this_union = this_movie_obj[\"actors\"].union(target_movie_object[\"actors\"])\n",
    "\n",
    "        jaccard = len(this_intersect) / len(this_union)\n",
    "\n",
    "        test_movie_similarities.append({\n",
    "            \"movie\": this_movie_id,\n",
    "            \"jaccard\": jaccard,\n",
    "        })\n",
    "\n",
    "    similarity_df = pd.DataFrame(test_movie_similarities, columns=[\"movie\", \"jaccard\"])\n",
    "    top_movies = similarity_df.sort_values(by=\"jaccard\", ascending=False).head(k_nn)\n",
    "\n",
    "    relevant_ratings = []\n",
    "    relevant_genre_count = {}\n",
    "    for this_movie_id in top_movies[\"movie\"]:\n",
    "        # add relevant ratings\n",
    "        relevant_ratings.append(movie_actor_map[this_movie_id][\"rating\"])\n",
    "        \n",
    "        # Track genres\n",
    "        this_movie_genres = movie_actor_map[this_movie_id][\"genres\"]\n",
    "        for g in this_movie_genres:\n",
    "            relevant_genre_count[g] = relevant_genre_count.get(g, 0) + 1\n",
    "            \n",
    "    # Get the most common genre from the neighbors\n",
    "    predicted_genre = sorted(relevant_genre_count, key=relevant_genre_count.get, reverse=True)[0]\n",
    "    \n",
    "    # Take the average rating of k neighbors for prediction\n",
    "    predicted_rating = np.mean(relevant_ratings)\n",
    "    \n",
    "    # Track predictions\n",
    "    prediction_rows.append({\n",
    "        \"imdb_id\": test_movie_id,\n",
    "        \"genre\": predicted_genre,\n",
    "        \"rating\": predicted_rating,\n",
    "    })\n"
   ]
  },
  {
   "cell_type": "code",
   "execution_count": null,
   "id": "b87fac81",
   "metadata": {},
   "outputs": [],
   "source": []
  },
  {
   "cell_type": "code",
   "execution_count": 30,
   "id": "7263156e",
   "metadata": {},
   "outputs": [
    {
     "data": {
      "text/html": [
       "<div>\n",
       "<style scoped>\n",
       "    .dataframe tbody tr th:only-of-type {\n",
       "        vertical-align: middle;\n",
       "    }\n",
       "\n",
       "    .dataframe tbody tr th {\n",
       "        vertical-align: top;\n",
       "    }\n",
       "\n",
       "    .dataframe thead th {\n",
       "        text-align: right;\n",
       "    }\n",
       "</style>\n",
       "<table border=\"1\" class=\"dataframe\">\n",
       "  <thead>\n",
       "    <tr style=\"text-align: right;\">\n",
       "      <th></th>\n",
       "      <th>genre</th>\n",
       "      <th>rating</th>\n",
       "    </tr>\n",
       "    <tr>\n",
       "      <th>imdb_id</th>\n",
       "      <th></th>\n",
       "      <th></th>\n",
       "    </tr>\n",
       "  </thead>\n",
       "  <tbody>\n",
       "    <tr>\n",
       "      <th>tt1715362</th>\n",
       "      <td>Drama</td>\n",
       "      <td>4.57</td>\n",
       "    </tr>\n",
       "    <tr>\n",
       "      <th>tt4283892</th>\n",
       "      <td>Drama</td>\n",
       "      <td>7.04</td>\n",
       "    </tr>\n",
       "    <tr>\n",
       "      <th>tt9571756</th>\n",
       "      <td>Horror</td>\n",
       "      <td>4.95</td>\n",
       "    </tr>\n",
       "    <tr>\n",
       "      <th>tt0388288</th>\n",
       "      <td>Drama</td>\n",
       "      <td>5.33</td>\n",
       "    </tr>\n",
       "    <tr>\n",
       "      <th>tt0296574</th>\n",
       "      <td>Drama</td>\n",
       "      <td>5.91</td>\n",
       "    </tr>\n",
       "    <tr>\n",
       "      <th>...</th>\n",
       "      <td>...</td>\n",
       "      <td>...</td>\n",
       "    </tr>\n",
       "    <tr>\n",
       "      <th>tt4114630</th>\n",
       "      <td>Crime</td>\n",
       "      <td>5.58</td>\n",
       "    </tr>\n",
       "    <tr>\n",
       "      <th>tt1840309</th>\n",
       "      <td>Drama</td>\n",
       "      <td>6.34</td>\n",
       "    </tr>\n",
       "    <tr>\n",
       "      <th>tt3393372</th>\n",
       "      <td>Horror</td>\n",
       "      <td>5.74</td>\n",
       "    </tr>\n",
       "    <tr>\n",
       "      <th>tt0473342</th>\n",
       "      <td>Comedy</td>\n",
       "      <td>5.53</td>\n",
       "    </tr>\n",
       "    <tr>\n",
       "      <th>tt6455162</th>\n",
       "      <td>Drama</td>\n",
       "      <td>6.10</td>\n",
       "    </tr>\n",
       "  </tbody>\n",
       "</table>\n",
       "<p>3769 rows × 2 columns</p>\n",
       "</div>"
      ],
      "text/plain": [
       "            genre  rating\n",
       "imdb_id                  \n",
       "tt1715362   Drama    4.57\n",
       "tt4283892   Drama    7.04\n",
       "tt9571756  Horror    4.95\n",
       "tt0388288   Drama    5.33\n",
       "tt0296574   Drama    5.91\n",
       "...           ...     ...\n",
       "tt4114630   Crime    5.58\n",
       "tt1840309   Drama    6.34\n",
       "tt3393372  Horror    5.74\n",
       "tt0473342  Comedy    5.53\n",
       "tt6455162   Drama    6.10\n",
       "\n",
       "[3769 rows x 2 columns]"
      ]
     },
     "execution_count": 30,
     "metadata": {},
     "output_type": "execute_result"
    }
   ],
   "source": [
    "predicted_df = pd.DataFrame(prediction_rows).set_index(\"imdb_id\")\n",
    "predicted_df"
   ]
  },
  {
   "cell_type": "code",
   "execution_count": null,
   "id": "ad1965c2",
   "metadata": {},
   "outputs": [],
   "source": []
  },
  {
   "cell_type": "markdown",
   "id": "a573e011",
   "metadata": {},
   "source": [
    "## Measure Accuracy of Predictions"
   ]
  },
  {
   "cell_type": "code",
   "execution_count": 34,
   "id": "443b40b8",
   "metadata": {},
   "outputs": [
    {
     "name": "stdout",
     "output_type": "stream",
     "text": [
      "Genre Accuracy: 0.5640753515521358\n"
     ]
    }
   ],
   "source": [
    "correct_genres = []\n",
    "\n",
    "for movie_id,row in predicted_df.iterrows():\n",
    "\n",
    "    actual_genres = movie_actor_map[movie_id][\"genres\"]\n",
    "    correct_genres.append(1 if row[\"genre\"] in actual_genres else 0)\n",
    "    \n",
    "accuracy = sum(correct_genres) / len(correct_genres)\n",
    "print(\"Genre Accuracy:\", accuracy)"
   ]
  },
  {
   "cell_type": "code",
   "execution_count": 36,
   "id": "c5e25373",
   "metadata": {},
   "outputs": [
    {
     "name": "stdout",
     "output_type": "stream",
     "text": [
      "Rating Mean Squared Error: 1.6407341204563601\n"
     ]
    }
   ],
   "source": [
    "rating_mses = []\n",
    "\n",
    "for movie_id,row in predicted_df.iterrows():\n",
    "\n",
    "    actual_rating = movie_actor_map[movie_id][\"rating\"]\n",
    "    predicted_rating = row[\"rating\"]\n",
    "    \n",
    "    # Add squared error\n",
    "    rating_mses.append((actual_rating - predicted_rating) ** 2)\n",
    "    \n",
    "mse = sum(rating_mses) / len(rating_mses)\n",
    "print(\"Rating Mean Squared Error:\", mse)"
   ]
  },
  {
   "cell_type": "code",
   "execution_count": null,
   "id": "403943ad",
   "metadata": {},
   "outputs": [],
   "source": []
  }
 ],
 "metadata": {
  "kernelspec": {
   "display_name": "Python 3 (ipykernel)",
   "language": "python",
   "name": "python3"
  },
  "language_info": {
   "codemirror_mode": {
    "name": "ipython",
    "version": 3
   },
   "file_extension": ".py",
   "mimetype": "text/x-python",
   "name": "python",
   "nbconvert_exporter": "python",
   "pygments_lexer": "ipython3",
   "version": "3.9.12"
  }
 },
 "nbformat": 4,
 "nbformat_minor": 5
}
