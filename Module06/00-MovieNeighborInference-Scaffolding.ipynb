{
 "cells": [
  {
   "cell_type": "markdown",
   "id": "fc409670",
   "metadata": {},
   "source": [
    "# Determine Movie Genre by Neighboring Movies\n",
    "\n",
    "Using the k-nearest neighbors method, use the top-k most similar movies to a target film to predict the target movie's genre.\n",
    "\n",
    "Use Jaccard similarity based on actors in each movie to rank movies and select the top-k most similar movies."
   ]
  },
  {
   "cell_type": "code",
   "execution_count": null,
   "id": "47d80463",
   "metadata": {},
   "outputs": [],
   "source": [
    "import json\n",
    "\n",
    "import pandas as pd\n",
    "import numpy as np\n",
    "\n",
    "from scipy.sparse import lil_matrix\n",
    "\n",
    "import matplotlib.pyplot as plt\n"
   ]
  },
  {
   "cell_type": "code",
   "execution_count": null,
   "id": "09e36e97",
   "metadata": {},
   "outputs": [],
   "source": [
    "actor_name_map = {}\n",
    "movie_actor_map = {}\n",
    "actor_genre_map = {}\n",
    "\n",
    "\n",
    "with open(\"../data/imdb_movies_2000to2022.prolific.json\", \"r\") as in_file:\n",
    "    for line in in_file:\n",
    "        \n",
    "        # Read the movie on this line and parse its json\n",
    "        this_movie = json.loads(line)\n",
    "        \n",
    "        # Skip movies with no ratings\n",
    "        if len(this_movie[\"rating\"]) == 0:\n",
    "            continue\n",
    "                    \n",
    "        # Add all actors to the id->name map\n",
    "        for actor_id,actor_name in this_movie['actors']:\n",
    "            actor_name_map[actor_id] = actor_name\n",
    "            \n",
    "        # For each actor, add this movie's genres to that actor's list\n",
    "        for actor_id,actor_name in this_movie['actors']:\n",
    "            this_actors_genres = actor_genre_map.get(actor_id, {})\n",
    "            \n",
    "            # Increment the count of genres for this actor\n",
    "            for g in this_movie[\"genres\"]:\n",
    "                this_actors_genres[g] = this_actors_genres.get(g, 0) + 1\n",
    "                \n",
    "            # Update the map\n",
    "            actor_genre_map[actor_id] = this_actors_genres\n",
    "            \n",
    "        # Finished with this film\n",
    "        movie_actor_map[this_movie[\"imdb_id\"]] = ({\n",
    "            \"movie\": this_movie[\"title\"],\n",
    "            \"actors\": set([item[0] for item in this_movie['actors']]),\n",
    "            \"genres\": this_movie[\"genres\"],\n",
    "            \"rating\": this_movie[\"rating\"][\"avg\"]\n",
    "        })"
   ]
  },
  {
   "cell_type": "code",
   "execution_count": null,
   "id": "2ecd8139",
   "metadata": {},
   "outputs": [],
   "source": [
    "print(\"Known Actors:\", len(actor_name_map))\n",
    "print(\"Known Movies:\", len(movie_actor_map))"
   ]
  },
  {
   "cell_type": "code",
   "execution_count": null,
   "id": "07d6abab",
   "metadata": {},
   "outputs": [],
   "source": [
    "actor_id_to_index = {actor_id:i for i,actor_id in enumerate(actor_name_map.keys())}\n"
   ]
  },
  {
   "cell_type": "code",
   "execution_count": null,
   "id": "d8bb7a58",
   "metadata": {},
   "outputs": [],
   "source": []
  },
  {
   "cell_type": "code",
   "execution_count": null,
   "id": "400cc127",
   "metadata": {},
   "outputs": [],
   "source": [
    "target_movie_id = \"tt0317705\" # The Incredibles\n",
    "# target_movie_id = \"tt0816692\" # Interstellar\n",
    "# target_movie_id = \"tt0332280\" # The Notebook"
   ]
  },
  {
   "cell_type": "code",
   "execution_count": null,
   "id": "bf3351f5",
   "metadata": {},
   "outputs": [],
   "source": [
    "target_movie_object = movie_actor_map[target_movie_id]"
   ]
  },
  {
   "cell_type": "code",
   "execution_count": null,
   "id": "b6c153ae",
   "metadata": {},
   "outputs": [],
   "source": [
    "target_movie_object"
   ]
  },
  {
   "cell_type": "markdown",
   "id": "83f5df0c",
   "metadata": {},
   "source": [
    "## Find the Most Similar Movies by Jaccard Similarity in Actor"
   ]
  },
  {
   "cell_type": "code",
   "execution_count": null,
   "id": "7de6b181",
   "metadata": {},
   "outputs": [],
   "source": [
    "movie_similarities = []\n",
    "\n",
    "for this_movie_id,this_movie_obj in movie_actor_map.items():\n",
    "    # Skip the target movie\n",
    "    if this_movie_id == target_movie_id:\n",
    "        continue\n",
    "        \n",
    "    # TODO: Calculate Jaccard similarity between target_movie_object and this_movie_obj\n",
    "    #. Recall Jaccard Similarity is the ratio between size of the intersection and size of the union\n",
    "    ...\n",
    "    \n",
    "    # Add this movie and its Jaccard similarity to the list, so we can rank at the end\n",
    "    movie_similarities.append({\n",
    "        \"movie\": this_movie_id,\n",
    "        \"jaccard\": jaccard,\n",
    "    })"
   ]
  },
  {
   "cell_type": "code",
   "execution_count": null,
   "id": "da0bb805",
   "metadata": {},
   "outputs": [],
   "source": [
    "similarity_df = pd.DataFrame(movie_similarities, columns=[\"movie\", \"jaccard\"])"
   ]
  },
  {
   "cell_type": "code",
   "execution_count": null,
   "id": "1d0beaf2",
   "metadata": {},
   "outputs": [],
   "source": []
  },
  {
   "cell_type": "markdown",
   "id": "36fb3faf",
   "metadata": {},
   "source": [
    "## Use the top-k similar movies to infer genre"
   ]
  },
  {
   "cell_type": "code",
   "execution_count": null,
   "id": "ba9bf8af",
   "metadata": {},
   "outputs": [],
   "source": [
    "k_nn = 1"
   ]
  },
  {
   "cell_type": "code",
   "execution_count": null,
   "id": "e830fcfc",
   "metadata": {},
   "outputs": [],
   "source": [
    "similarity_df.sort_values(by=\"jaccard\", ascending=False).head(k_nn)"
   ]
  },
  {
   "cell_type": "code",
   "execution_count": null,
   "id": "feb58259",
   "metadata": {},
   "outputs": [],
   "source": [
    "# TODO: count the genres of the top k movies, printing out the most common\n",
    "#. genres as the predicted genre for the target movie"
   ]
  },
  {
   "cell_type": "code",
   "execution_count": null,
   "id": "1b76ba9d",
   "metadata": {},
   "outputs": [],
   "source": [
    "this_movie"
   ]
  },
  {
   "cell_type": "code",
   "execution_count": null,
   "id": "eb698ae2",
   "metadata": {},
   "outputs": [],
   "source": []
  },
  {
   "cell_type": "markdown",
   "id": "a320b769",
   "metadata": {},
   "source": [
    "## Use the top-k similar movies to infer rating"
   ]
  },
  {
   "cell_type": "code",
   "execution_count": null,
   "id": "f20c71a4",
   "metadata": {},
   "outputs": [],
   "source": [
    "# TODO: Take the average rating from these top-k movies"
   ]
  },
  {
   "cell_type": "code",
   "execution_count": null,
   "id": "a99b4bce",
   "metadata": {},
   "outputs": [],
   "source": []
  }
 ],
 "metadata": {
  "kernelspec": {
   "display_name": "Python 3 (ipykernel)",
   "language": "python",
   "name": "python3"
  },
  "language_info": {
   "codemirror_mode": {
    "name": "ipython",
    "version": 3
   },
   "file_extension": ".py",
   "mimetype": "text/x-python",
   "name": "python",
   "nbconvert_exporter": "python",
   "pygments_lexer": "ipython3",
   "version": "3.9.12"
  }
 },
 "nbformat": 4,
 "nbformat_minor": 5
}
