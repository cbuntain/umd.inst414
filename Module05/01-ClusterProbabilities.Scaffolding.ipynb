{
 "cells": [
  {
   "cell_type": "markdown",
   "id": "56fb9ab7",
   "metadata": {},
   "source": [
    "# Probabilities and k-Means Clustering\n",
    "\n",
    "Using the IMDB data, construct a feature matrix, and apply `k-Means` to the data to extract clusters. \n",
    "\n",
    "We then inspect various aspects of probability associated with these clusterings."
   ]
  },
  {
   "cell_type": "code",
   "execution_count": null,
   "id": "0be2c95c",
   "metadata": {},
   "outputs": [],
   "source": [
    "import json\n",
    "\n",
    "import pandas as pd\n",
    "import numpy as np"
   ]
  },
  {
   "cell_type": "code",
   "execution_count": null,
   "id": "32201009",
   "metadata": {},
   "outputs": [],
   "source": []
  },
  {
   "cell_type": "code",
   "execution_count": null,
   "id": "14fb3d0a",
   "metadata": {},
   "outputs": [],
   "source": [
    "actor_name_map = {}\n",
    "movie_actor_map = {}\n",
    "actor_genre_map = {}\n",
    "\n",
    "\n",
    "with open(\"../data/imdb_movies_2000to2022.prolific.json\", \"r\") as in_file:\n",
    "    for line in in_file:\n",
    "        \n",
    "        # Read the movie on this line and parse its json\n",
    "        this_movie = json.loads(line)\n",
    "                    \n",
    "        # Add all actors to the id->name map\n",
    "        for actor_id,actor_name in this_movie['actors']:\n",
    "            actor_name_map[actor_id] = actor_name\n",
    "            \n",
    "        # For each actor, add this movie's genres to that actor's list\n",
    "        for actor_id,actor_name in this_movie['actors']:\n",
    "            this_actors_genres = actor_genre_map.get(actor_id, {})\n",
    "            \n",
    "            # Increment the count of genres for this actor\n",
    "            for g in this_movie[\"genres\"]:\n",
    "                this_actors_genres[g] = this_actors_genres.get(g, 0) + 1\n",
    "                \n",
    "            # Update the map\n",
    "            actor_genre_map[actor_id] = this_actors_genres\n",
    "            \n",
    "        # Finished with this film\n",
    "        movie_actor_map[this_movie[\"imdb_id\"]] = ({\n",
    "            \"movie\": this_movie[\"title\"],\n",
    "            \"actors\": set([item[0] for item in this_movie['actors']]),\n",
    "            \"genres\": this_movie[\"genres\"]\n",
    "        })"
   ]
  },
  {
   "cell_type": "code",
   "execution_count": null,
   "id": "6f78e123",
   "metadata": {},
   "outputs": [],
   "source": [
    "print(\"Known Actors:\", len(actor_name_map))\n",
    "print(\"Known Movies:\", len(movie_actor_map))"
   ]
  },
  {
   "cell_type": "markdown",
   "id": "53438797",
   "metadata": {},
   "source": [
    "## Read CSV of Movies to Cluster IDs\n",
    "\n",
    "Using the provided movie-to-cluster mapping CSV file, we assess the distributions of movies per cluster and ask questions about genres and actors in each cluster."
   ]
  },
  {
   "cell_type": "code",
   "execution_count": null,
   "id": "99adcaab",
   "metadata": {},
   "outputs": [],
   "source": [
    "cluster_df = pd.read_csv(\"movie_to_cluster.csv\")"
   ]
  },
  {
   "cell_type": "code",
   "execution_count": null,
   "id": "8290713b",
   "metadata": {},
   "outputs": [],
   "source": [
    "cluster_df[\"cluster\"].value_counts()"
   ]
  },
  {
   "cell_type": "code",
   "execution_count": null,
   "id": "b6aea538",
   "metadata": {},
   "outputs": [],
   "source": [
    "cluster_pr_map = {cluster_id:cluster_pr for cluster_id,cluster_pr in (cluster_df[\"cluster\"].value_counts() / cluster_df.shape[0]).items()}\n",
    "cluster_pr_df = pd.DataFrame(cluster_df[\"cluster\"].value_counts() / cluster_df.shape[0])\n",
    "\n",
    "cluster_pr_df"
   ]
  },
  {
   "cell_type": "code",
   "execution_count": null,
   "id": "c2f9f0cd",
   "metadata": {},
   "outputs": [],
   "source": []
  },
  {
   "cell_type": "markdown",
   "id": "fd1790d5",
   "metadata": {},
   "source": [
    "## Assess Genre-Specific Cluster Probabilities\n",
    "\n",
    "We want to determine, for a new movie with a known genre, to which cluster is it most likely to be assigned?"
   ]
  },
  {
   "cell_type": "code",
   "execution_count": null,
   "id": "f19a7c86",
   "metadata": {},
   "outputs": [],
   "source": [
    "# For each genre, count the number of movies\n",
    "genre_counts = {}\n",
    "\n",
    "# For each movie, get its genres and update the genre count\n",
    "for movie_id in movie_actor_map.keys():\n",
    "    for genre in movie_actor_map[movie_id][\"genres\"]:\n",
    "        genre_counts[genre] = genre_counts.get(genre, 0) + 1\n",
    "        \n",
    "genre_prs = []\n",
    "for genre,g_count in genre_counts.items():\n",
    "    genre_prs.append((genre, g_count/len(movie_actor_map)))\n",
    "    \n",
    "genre_prs_df = pd.DataFrame(genre_prs, columns=[\"genre\", \"probability\"])\n",
    "genre_pr_map = {row[\"genre\"]:row[\"probability\"] for idx,row in genre_prs_df.iterrows()}\n",
    "\n",
    "genre_prs_df.sort_values(by=\"probability\", ascending=False)"
   ]
  },
  {
   "cell_type": "code",
   "execution_count": null,
   "id": "b8931375",
   "metadata": {},
   "outputs": [],
   "source": []
  },
  {
   "cell_type": "code",
   "execution_count": null,
   "id": "fe4bfced",
   "metadata": {},
   "outputs": [],
   "source": [
    "#Setting the genre we will be investigating\n",
    "# target_genre = \"Sci-Fi\"\n",
    "# target_genre = \"Western\"\n",
    "target_genre = \"Musical\""
   ]
  },
  {
   "cell_type": "markdown",
   "id": "fca873fa",
   "metadata": {},
   "source": [
    "### Calculate Conditional Probabilities of the given Genre for each cluster\n",
    "\n",
    "We want to calculate the conditional probability of a movie being assigned to a cluster given its genre. This probability can be calculated as follows:\n",
    "\n",
    "$$ Pr(Y=Cluster <ID> | X=Genre) = \\frac{Pr(X=Genre | Y=Cluster <ID>) Pr(Y=Cluster <ID>)}{Pr(X=Genre)}  $$\n",
    "\n",
    "We have $Pr(X=Genre)$ above via `genre_prs_df`, and we have $Pr(Y=Cluster <ID>)$ above via `cluster_pr_df`, so all we need to calculate $Pr(X=Genre | Y=Cluster <ID>)$.\n"
   ]
  },
  {
   "cell_type": "code",
   "execution_count": null,
   "id": "3101b92f",
   "metadata": {},
   "outputs": [],
   "source": [
    "per_cluster_prs = []\n",
    "for cluster_id,group in cluster_df.groupby(\"cluster\"):\n",
    "\n",
    "    this_cluster_genre_count = sum([\n",
    "        1 if target_genre in movie_actor_map[m][\"genres\"] else 0 \n",
    "        for m in group[\"movie_id\"]\n",
    "    ])\n",
    "    \n",
    "    # Calculate conditional probability of the target genre given this cluster\n",
    "    ## Pr(X=Genre | Y=Cluster <ID>)\n",
    "    ...\n",
    "    \n",
    "    # Then add this calculated probability to `per_cluster_prs`,\n",
    "    ## so we can track this conditional probability\n",
    "    per_cluster_prs.append(...)"
   ]
  },
  {
   "cell_type": "code",
   "execution_count": null,
   "id": "9fcafa2a",
   "metadata": {},
   "outputs": [],
   "source": []
  },
  {
   "cell_type": "code",
   "execution_count": null,
   "id": "2120664a",
   "metadata": {},
   "outputs": [],
   "source": [
    "# For each cluster ID, calculate the posterior probability given the target genre\n",
    "for cluster_id,cluster_genre_pr in enumerate(per_cluster_prs):\n",
    "\n",
    "    # combine this cluster_genre_pr, cluster_pr_df, and genre_prs_df\n",
    "    ## to calculate Pr(Cluster|Genre)\n",
    "    pr_cluster_given_genre = ...\n",
    "\n",
    "    print(\"Pr[Cluster %02d | %s]:\" % (cluster_id, target_genre), \"\\t\", pr_cluster_given_genre)\n",
    "    "
   ]
  },
  {
   "cell_type": "markdown",
   "id": "f7948e43",
   "metadata": {},
   "source": [
    "### Sample Titles in Each Cluster\n",
    "\n",
    "We can use the above conditional probabilities to determine the most likely cluster given a movie genre.\n",
    "\n",
    "Here, we sample movies in the most likely cluster to get a sense of what movies are in that cluster."
   ]
  },
  {
   "cell_type": "code",
   "execution_count": null,
   "id": "d1344723",
   "metadata": {},
   "outputs": [],
   "source": [
    "target_cluster = 6"
   ]
  },
  {
   "cell_type": "code",
   "execution_count": null,
   "id": "61e5e5fb",
   "metadata": {},
   "outputs": [],
   "source": [
    "for movie_id in cluster_df[cluster_df[\"cluster\"] == target_cluster].sample(n=10, replace=False)[\"movie_id\"]:\n",
    "    this_movie = movie_actor_map[movie_id]\n",
    "    print(movie_id, this_movie[\"movie\"], this_movie[\"genres\"])"
   ]
  },
  {
   "cell_type": "code",
   "execution_count": null,
   "id": "ebc97a26",
   "metadata": {},
   "outputs": [],
   "source": []
  },
  {
   "cell_type": "markdown",
   "id": "0c890d2e",
   "metadata": {},
   "source": [
    "## Assess Actor-Specific Cluster Probabilities\n",
    "\n",
    "Above, we determine the most likely cluster given a movie genre. Here, we ask the same question for a given actor."
   ]
  },
  {
   "cell_type": "code",
   "execution_count": null,
   "id": "d846c8c0",
   "metadata": {},
   "outputs": [],
   "source": [
    "# For each actor, count the number of movies\n",
    "actor_counts = {}\n",
    "\n",
    "# For each movie, get its genres and update the genre count\n",
    "for movie_id in movie_actor_map.keys():\n",
    "    for actor in movie_actor_map[movie_id][\"actors\"]:\n",
    "        actor_counts[actor] = actor_counts.get(actor, 0) + 1\n",
    "        \n",
    "actor_prs = []\n",
    "for actor,a_count in actor_counts.items():\n",
    "    actor_prs.append((actor, a_count/len(movie_actor_map)))\n",
    "    \n",
    "actor_prs_df = pd.DataFrame(actor_prs, columns=[\"actor\", \"probability\"])\n",
    "actor_pr_map = {row[\"actor\"]:row[\"probability\"] for idx,row in actor_prs_df.iterrows()}\n",
    "\n",
    "actor_prs_df.sort_values(by=\"probability\", ascending=False)"
   ]
  },
  {
   "cell_type": "code",
   "execution_count": null,
   "id": "28727b18",
   "metadata": {},
   "outputs": [],
   "source": [
    "#Setting the actor we will be comparing to\n",
    "# target_actor_id = 'nm1165110' # Chris Hemsworth\n",
    "# target_actor_id = 'nm0413168' # Hugh Jackman\n",
    "# target_actor_id = 'nm0005351' # Ryan Reynolds\n",
    "# target_actor_id = \"nm0000206\" # Keanu Reeves\n",
    "target_actor_id = 'nm0000115' # Nic Cage"
   ]
  },
  {
   "cell_type": "code",
   "execution_count": null,
   "id": "44b0e017",
   "metadata": {},
   "outputs": [],
   "source": [
    "per_cluster_prs = []\n",
    "for cluster_id,group in cluster_df.groupby(\"cluster\"):\n",
    "\n",
    "    this_cluster_actor_count = sum([\n",
    "        1 if target_actor_id in movie_actor_map[m][\"actors\"] else 0 \n",
    "        for m in group[\"movie_id\"]\n",
    "    ])\n",
    "    \n",
    "    # Calculate conditional probability of the target actor given this cluster\n",
    "    ## Pr(X=Actor | Y=Cluster <ID>)\n",
    "    ...\n",
    "    \n",
    "    # Then add this calculated probability to `per_cluster_prs`,\n",
    "    ## so we can track this conditional probability\n",
    "    per_cluster_prs.append(...)"
   ]
  },
  {
   "cell_type": "code",
   "execution_count": null,
   "id": "24eada78",
   "metadata": {},
   "outputs": [],
   "source": [
    "# For each cluster ID, calculate the posterior probability given the target actor\n",
    "for cluster_id,cluster_actor_pr in enumerate(per_cluster_prs):\n",
    "\n",
    "    # combine this cluster_actor_pr, cluster_pr_df, and actor_prs_df\n",
    "    ## to calculate Pr(Cluster|Actor)\n",
    "    pr_cluster_given_actor = ...\n",
    "\n",
    "    print(\"Pr[Cluster %02d | %s]:\" % (cluster_id, target_actor), \"\\t\", pr_cluster_given_actor)\n",
    "    "
   ]
  },
  {
   "cell_type": "code",
   "execution_count": null,
   "id": "c80bd689",
   "metadata": {},
   "outputs": [],
   "source": []
  },
  {
   "cell_type": "code",
   "execution_count": null,
   "id": "db754bbb",
   "metadata": {},
   "outputs": [],
   "source": [
    "target_cluster = 12"
   ]
  },
  {
   "cell_type": "code",
   "execution_count": null,
   "id": "9d1cc41f",
   "metadata": {},
   "outputs": [],
   "source": [
    "for movie_id in cluster_df[cluster_df[\"cluster\"] == target_cluster].sample(n=10, replace=False)[\"movie_id\"]:\n",
    "    this_movie = movie_actor_map[movie_id]\n",
    "    print(movie_id, this_movie[\"movie\"], this_movie[\"genres\"])"
   ]
  },
  {
   "cell_type": "code",
   "execution_count": null,
   "id": "94c82f2a",
   "metadata": {},
   "outputs": [],
   "source": []
  }
 ],
 "metadata": {
  "kernelspec": {
   "display_name": "Python 3 (ipykernel)",
   "language": "python",
   "name": "python3"
  },
  "language_info": {
   "codemirror_mode": {
    "name": "ipython",
    "version": 3
   },
   "file_extension": ".py",
   "mimetype": "text/x-python",
   "name": "python",
   "nbconvert_exporter": "python",
   "pygments_lexer": "ipython3",
   "version": "3.9.12"
  }
 },
 "nbformat": 4,
 "nbformat_minor": 5
}
