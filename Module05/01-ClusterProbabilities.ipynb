{
 "cells": [
  {
   "cell_type": "markdown",
   "id": "56fb9ab7",
   "metadata": {},
   "source": [
    "# Probabilities and k-Means Clustering\n",
    "\n",
    "Using the IMDB data, construct a feature matrix, and apply `k-Means` to the data to extract clusters. \n",
    "\n",
    "We then inspect various aspects of probability associated with these clusterings."
   ]
  },
  {
   "cell_type": "code",
   "execution_count": 8,
   "id": "0be2c95c",
   "metadata": {},
   "outputs": [],
   "source": [
    "import json\n",
    "\n",
    "import pandas as pd\n",
    "import numpy as np"
   ]
  },
  {
   "cell_type": "code",
   "execution_count": null,
   "id": "32201009",
   "metadata": {},
   "outputs": [],
   "source": []
  },
  {
   "cell_type": "code",
   "execution_count": 9,
   "id": "14fb3d0a",
   "metadata": {},
   "outputs": [],
   "source": [
    "actor_name_map = {}\n",
    "movie_actor_map = {}\n",
    "actor_genre_map = {}\n",
    "\n",
    "\n",
    "with open(\"../data/imdb_movies_2000to2022.prolific.json\", \"r\") as in_file:\n",
    "    for line in in_file:\n",
    "        \n",
    "        # Read the movie on this line and parse its json\n",
    "        this_movie = json.loads(line)\n",
    "                    \n",
    "        # Add all actors to the id->name map\n",
    "        for actor_id,actor_name in this_movie['actors']:\n",
    "            actor_name_map[actor_id] = actor_name\n",
    "            \n",
    "        # For each actor, add this movie's genres to that actor's list\n",
    "        for actor_id,actor_name in this_movie['actors']:\n",
    "            this_actors_genres = actor_genre_map.get(actor_id, {})\n",
    "            \n",
    "            # Increment the count of genres for this actor\n",
    "            for g in this_movie[\"genres\"]:\n",
    "                this_actors_genres[g] = this_actors_genres.get(g, 0) + 1\n",
    "                \n",
    "            # Update the map\n",
    "            actor_genre_map[actor_id] = this_actors_genres\n",
    "            \n",
    "        # Finished with this film\n",
    "        movie_actor_map[this_movie[\"imdb_id\"]] = ({\n",
    "            \"movie\": this_movie[\"title\"],\n",
    "            \"actors\": set([item[0] for item in this_movie['actors']]),\n",
    "            \"genres\": this_movie[\"genres\"]\n",
    "        })"
   ]
  },
  {
   "cell_type": "code",
   "execution_count": 10,
   "id": "6f78e123",
   "metadata": {},
   "outputs": [
    {
     "name": "stdout",
     "output_type": "stream",
     "text": [
      "Known Actors: 33609\n",
      "Known Movies: 20620\n"
     ]
    }
   ],
   "source": [
    "print(\"Known Actors:\", len(actor_name_map))\n",
    "print(\"Known Movies:\", len(movie_actor_map))"
   ]
  },
  {
   "cell_type": "markdown",
   "id": "53438797",
   "metadata": {},
   "source": [
    "## Read CSV of Movies to Cluster IDs\n",
    "\n",
    "Using the provided movie-to-cluster mapping CSV file, we assess the distributions of movies per cluster and ask questions about genres and actors in each cluster."
   ]
  },
  {
   "cell_type": "code",
   "execution_count": 11,
   "id": "99adcaab",
   "metadata": {},
   "outputs": [],
   "source": [
    "cluster_df = pd.read_csv(\"movie_to_cluster.csv\")\n",
    "# cluster_df = pd.read_csv(\"actor_movie_clusters.csv\", index_col=\"movie\")"
   ]
  },
  {
   "cell_type": "code",
   "execution_count": 12,
   "id": "29426f2f",
   "metadata": {},
   "outputs": [
    {
     "data": {
      "text/html": [
       "<div>\n",
       "<style scoped>\n",
       "    .dataframe tbody tr th:only-of-type {\n",
       "        vertical-align: middle;\n",
       "    }\n",
       "\n",
       "    .dataframe tbody tr th {\n",
       "        vertical-align: top;\n",
       "    }\n",
       "\n",
       "    .dataframe thead th {\n",
       "        text-align: right;\n",
       "    }\n",
       "</style>\n",
       "<table border=\"1\" class=\"dataframe\">\n",
       "  <thead>\n",
       "    <tr style=\"text-align: right;\">\n",
       "      <th></th>\n",
       "      <th>movie_id</th>\n",
       "      <th>cluster</th>\n",
       "    </tr>\n",
       "  </thead>\n",
       "  <tbody>\n",
       "    <tr>\n",
       "      <th>0</th>\n",
       "      <td>tt0035423</td>\n",
       "      <td>8</td>\n",
       "    </tr>\n",
       "    <tr>\n",
       "      <th>1</th>\n",
       "      <td>tt0088751</td>\n",
       "      <td>12</td>\n",
       "    </tr>\n",
       "    <tr>\n",
       "      <th>2</th>\n",
       "      <td>tt0096056</td>\n",
       "      <td>6</td>\n",
       "    </tr>\n",
       "    <tr>\n",
       "      <th>3</th>\n",
       "      <td>tt0113092</td>\n",
       "      <td>3</td>\n",
       "    </tr>\n",
       "    <tr>\n",
       "      <th>4</th>\n",
       "      <td>tt0116391</td>\n",
       "      <td>3</td>\n",
       "    </tr>\n",
       "    <tr>\n",
       "      <th>...</th>\n",
       "      <td>...</td>\n",
       "      <td>...</td>\n",
       "    </tr>\n",
       "    <tr>\n",
       "      <th>20615</th>\n",
       "      <td>tt9906278</td>\n",
       "      <td>10</td>\n",
       "    </tr>\n",
       "    <tr>\n",
       "      <th>20616</th>\n",
       "      <td>tt9906644</td>\n",
       "      <td>13</td>\n",
       "    </tr>\n",
       "    <tr>\n",
       "      <th>20617</th>\n",
       "      <td>tt9906844</td>\n",
       "      <td>10</td>\n",
       "    </tr>\n",
       "    <tr>\n",
       "      <th>20618</th>\n",
       "      <td>tt9907032</td>\n",
       "      <td>10</td>\n",
       "    </tr>\n",
       "    <tr>\n",
       "      <th>20619</th>\n",
       "      <td>tt9907608</td>\n",
       "      <td>10</td>\n",
       "    </tr>\n",
       "  </tbody>\n",
       "</table>\n",
       "<p>20620 rows × 2 columns</p>\n",
       "</div>"
      ],
      "text/plain": [
       "        movie_id  cluster\n",
       "0      tt0035423        8\n",
       "1      tt0088751       12\n",
       "2      tt0096056        6\n",
       "3      tt0113092        3\n",
       "4      tt0116391        3\n",
       "...          ...      ...\n",
       "20615  tt9906278       10\n",
       "20616  tt9906644       13\n",
       "20617  tt9906844       10\n",
       "20618  tt9907032       10\n",
       "20619  tt9907608       10\n",
       "\n",
       "[20620 rows x 2 columns]"
      ]
     },
     "execution_count": 12,
     "metadata": {},
     "output_type": "execute_result"
    }
   ],
   "source": [
    "cluster_df"
   ]
  },
  {
   "cell_type": "code",
   "execution_count": 13,
   "id": "8290713b",
   "metadata": {},
   "outputs": [
    {
     "data": {
      "text/plain": [
       "cluster\n",
       "6     3177\n",
       "0     3097\n",
       "15    1754\n",
       "13    1705\n",
       "2     1503\n",
       "12    1466\n",
       "1     1376\n",
       "3     1240\n",
       "14     893\n",
       "8      774\n",
       "10     761\n",
       "4      655\n",
       "11     640\n",
       "7      635\n",
       "5      560\n",
       "9      384\n",
       "Name: count, dtype: int64"
      ]
     },
     "execution_count": 13,
     "metadata": {},
     "output_type": "execute_result"
    }
   ],
   "source": [
    "cluster_df[\"cluster\"].value_counts()"
   ]
  },
  {
   "cell_type": "code",
   "execution_count": 14,
   "id": "b6aea538",
   "metadata": {},
   "outputs": [
    {
     "data": {
      "text/plain": [
       "cluster\n",
       "6     0.154074\n",
       "0     0.150194\n",
       "15    0.085063\n",
       "13    0.082687\n",
       "2     0.072890\n",
       "12    0.071096\n",
       "1     0.066731\n",
       "3     0.060136\n",
       "14    0.043307\n",
       "8     0.037536\n",
       "10    0.036906\n",
       "4     0.031765\n",
       "11    0.031038\n",
       "7     0.030795\n",
       "5     0.027158\n",
       "9     0.018623\n",
       "Name: count, dtype: float64"
      ]
     },
     "execution_count": 14,
     "metadata": {},
     "output_type": "execute_result"
    }
   ],
   "source": [
    "cluster_pr_map = {cluster_id:cluster_pr for cluster_id,cluster_pr in (cluster_df[\"cluster\"].value_counts() / cluster_df.shape[0]).items()}\n",
    "cluster_df[\"cluster\"].value_counts() / cluster_df.shape[0]"
   ]
  },
  {
   "cell_type": "code",
   "execution_count": null,
   "id": "c2f9f0cd",
   "metadata": {},
   "outputs": [],
   "source": []
  },
  {
   "cell_type": "markdown",
   "id": "fd1790d5",
   "metadata": {},
   "source": [
    "## Assess Genre-Specific Cluster Probabilities\n",
    "\n",
    "We want to determine, for a new movie with a known genre, to which cluster is it most likely to be assigned?"
   ]
  },
  {
   "cell_type": "code",
   "execution_count": 19,
   "id": "f19a7c86",
   "metadata": {},
   "outputs": [
    {
     "data": {
      "text/html": [
       "<div>\n",
       "<style scoped>\n",
       "    .dataframe tbody tr th:only-of-type {\n",
       "        vertical-align: middle;\n",
       "    }\n",
       "\n",
       "    .dataframe tbody tr th {\n",
       "        vertical-align: top;\n",
       "    }\n",
       "\n",
       "    .dataframe thead th {\n",
       "        text-align: right;\n",
       "    }\n",
       "</style>\n",
       "<table border=\"1\" class=\"dataframe\">\n",
       "  <thead>\n",
       "    <tr style=\"text-align: right;\">\n",
       "      <th></th>\n",
       "      <th>genre</th>\n",
       "      <th>probability</th>\n",
       "    </tr>\n",
       "  </thead>\n",
       "  <tbody>\n",
       "    <tr>\n",
       "      <th>5</th>\n",
       "      <td>Drama</td>\n",
       "      <td>0.237964</td>\n",
       "    </tr>\n",
       "    <tr>\n",
       "      <th>0</th>\n",
       "      <td>Comedy</td>\n",
       "      <td>0.140969</td>\n",
       "    </tr>\n",
       "    <tr>\n",
       "      <th>10</th>\n",
       "      <td>Thriller</td>\n",
       "      <td>0.093808</td>\n",
       "    </tr>\n",
       "    <tr>\n",
       "      <th>6</th>\n",
       "      <td>Action</td>\n",
       "      <td>0.087693</td>\n",
       "    </tr>\n",
       "    <tr>\n",
       "      <th>3</th>\n",
       "      <td>Horror</td>\n",
       "      <td>0.072090</td>\n",
       "    </tr>\n",
       "    <tr>\n",
       "      <th>8</th>\n",
       "      <td>Crime</td>\n",
       "      <td>0.064967</td>\n",
       "    </tr>\n",
       "    <tr>\n",
       "      <th>2</th>\n",
       "      <td>Romance</td>\n",
       "      <td>0.059063</td>\n",
       "    </tr>\n",
       "    <tr>\n",
       "      <th>7</th>\n",
       "      <td>Adventure</td>\n",
       "      <td>0.039055</td>\n",
       "    </tr>\n",
       "    <tr>\n",
       "      <th>9</th>\n",
       "      <td>Mystery</td>\n",
       "      <td>0.035963</td>\n",
       "    </tr>\n",
       "    <tr>\n",
       "      <th>4</th>\n",
       "      <td>Sci-Fi</td>\n",
       "      <td>0.024717</td>\n",
       "    </tr>\n",
       "    <tr>\n",
       "      <th>12</th>\n",
       "      <td>Family</td>\n",
       "      <td>0.022913</td>\n",
       "    </tr>\n",
       "    <tr>\n",
       "      <th>1</th>\n",
       "      <td>Fantasy</td>\n",
       "      <td>0.020547</td>\n",
       "    </tr>\n",
       "    <tr>\n",
       "      <th>13</th>\n",
       "      <td>Biography</td>\n",
       "      <td>0.019001</td>\n",
       "    </tr>\n",
       "    <tr>\n",
       "      <th>20</th>\n",
       "      <td>Documentary</td>\n",
       "      <td>0.018649</td>\n",
       "    </tr>\n",
       "    <tr>\n",
       "      <th>11</th>\n",
       "      <td>Animation</td>\n",
       "      <td>0.014526</td>\n",
       "    </tr>\n",
       "    <tr>\n",
       "      <th>14</th>\n",
       "      <td>Sport</td>\n",
       "      <td>0.010332</td>\n",
       "    </tr>\n",
       "    <tr>\n",
       "      <th>18</th>\n",
       "      <td>History</td>\n",
       "      <td>0.010191</td>\n",
       "    </tr>\n",
       "    <tr>\n",
       "      <th>15</th>\n",
       "      <td>Music</td>\n",
       "      <td>0.009137</td>\n",
       "    </tr>\n",
       "    <tr>\n",
       "      <th>17</th>\n",
       "      <td>War</td>\n",
       "      <td>0.005435</td>\n",
       "    </tr>\n",
       "    <tr>\n",
       "      <th>16</th>\n",
       "      <td>Western</td>\n",
       "      <td>0.004943</td>\n",
       "    </tr>\n",
       "    <tr>\n",
       "      <th>19</th>\n",
       "      <td>Musical</td>\n",
       "      <td>0.003936</td>\n",
       "    </tr>\n",
       "    <tr>\n",
       "      <th>21</th>\n",
       "      <td></td>\n",
       "      <td>0.003374</td>\n",
       "    </tr>\n",
       "    <tr>\n",
       "      <th>23</th>\n",
       "      <td>News</td>\n",
       "      <td>0.000656</td>\n",
       "    </tr>\n",
       "    <tr>\n",
       "      <th>24</th>\n",
       "      <td>Reality-TV</td>\n",
       "      <td>0.000047</td>\n",
       "    </tr>\n",
       "    <tr>\n",
       "      <th>22</th>\n",
       "      <td>Short</td>\n",
       "      <td>0.000023</td>\n",
       "    </tr>\n",
       "  </tbody>\n",
       "</table>\n",
       "</div>"
      ],
      "text/plain": [
       "          genre  probability\n",
       "5         Drama     0.237964\n",
       "0        Comedy     0.140969\n",
       "10     Thriller     0.093808\n",
       "6        Action     0.087693\n",
       "3        Horror     0.072090\n",
       "8         Crime     0.064967\n",
       "2       Romance     0.059063\n",
       "7     Adventure     0.039055\n",
       "9       Mystery     0.035963\n",
       "4        Sci-Fi     0.024717\n",
       "12       Family     0.022913\n",
       "1       Fantasy     0.020547\n",
       "13    Biography     0.019001\n",
       "20  Documentary     0.018649\n",
       "11    Animation     0.014526\n",
       "14        Sport     0.010332\n",
       "18      History     0.010191\n",
       "15        Music     0.009137\n",
       "17          War     0.005435\n",
       "16      Western     0.004943\n",
       "19      Musical     0.003936\n",
       "21                  0.003374\n",
       "23         News     0.000656\n",
       "24   Reality-TV     0.000047\n",
       "22        Short     0.000023"
      ]
     },
     "execution_count": 19,
     "metadata": {},
     "output_type": "execute_result"
    }
   ],
   "source": [
    "# For each genre, count the number of movies\n",
    "genre_counts = {}\n",
    "\n",
    "# For each movie, get its genres and update the genre count\n",
    "for movie_id in movie_actor_map.keys():\n",
    "    for genre in movie_actor_map[movie_id][\"genres\"]:\n",
    "        genre_counts[genre] = genre_counts.get(genre, 0) + 1\n",
    "        \n",
    "genre_prs = []\n",
    "for genre,g_count in genre_counts.items():\n",
    "    genre_prs.append((genre, g_count/sum(genre_counts.values())))\n",
    "    \n",
    "genre_prs_df = pd.DataFrame(genre_prs, columns=[\"genre\", \"probability\"])\n",
    "genre_pr_map = {row[\"genre\"]:row[\"probability\"] for idx,row in genre_prs_df.iterrows()}\n",
    "\n",
    "genre_prs_df.sort_values(by=\"probability\", ascending=False)"
   ]
  },
  {
   "cell_type": "code",
   "execution_count": null,
   "id": "b8931375",
   "metadata": {},
   "outputs": [],
   "source": []
  },
  {
   "cell_type": "code",
   "execution_count": 23,
   "id": "3101b92f",
   "metadata": {},
   "outputs": [
    {
     "name": "stdout",
     "output_type": "stream",
     "text": [
      "Pr[Sci-Fi| Cluster 00]: \t 0.0386402027027027\n",
      "Pr[Sci-Fi, Cluster 00]: \t 0.005803526080032506\n",
      "Pr[Sci-Fi| Cluster 01]: \t 0.01156224791610648\n",
      "Pr[Sci-Fi, Cluster 01]: \t 0.0007715641674375614\n",
      "Pr[Sci-Fi| Cluster 02]: \t 0.057951482479784364\n",
      "Pr[Sci-Fi, Cluster 02]: \t 0.004224106603642866\n",
      "Pr[Sci-Fi| Cluster 03]: \t 0.007735792918774174\n",
      "Pr[Sci-Fi, Cluster 03]: \t 0.00046519802227351967\n",
      "Pr[Sci-Fi| Cluster 04]: \t 0.03105934553521908\n",
      "Pr[Sci-Fi, Cluster 04]: \t 0.0009866086966813044\n",
      "Pr[Sci-Fi| Cluster 05]: \t 0.0\n",
      "Pr[Sci-Fi, Cluster 05]: \t 0.0\n",
      "Pr[Sci-Fi| Cluster 06]: \t 0.015251055842327546\n",
      "Pr[Sci-Fi, Cluster 06]: \t 0.0023497868288590985\n",
      "Pr[Sci-Fi| Cluster 07]: \t 0.0\n",
      "Pr[Sci-Fi, Cluster 07]: \t 0.0\n",
      "Pr[Sci-Fi| Cluster 08]: \t 0.005548705302096177\n",
      "Pr[Sci-Fi, Cluster 08]: \t 0.00020827826885656844\n",
      "Pr[Sci-Fi| Cluster 09]: \t 0.021062271062271064\n",
      "Pr[Sci-Fi, Cluster 09]: \t 0.00039223627972415553\n",
      "Pr[Sci-Fi| Cluster 10]: \t 0.0008539709649871904\n",
      "Pr[Sci-Fi, Cluster 10]: \t 3.151658120054568e-05\n",
      "Pr[Sci-Fi| Cluster 11]: \t 0.033647375504710635\n",
      "Pr[Sci-Fi, Cluster 11]: \t 0.0010443414317659945\n",
      "Pr[Sci-Fi| Cluster 12]: \t 0.08288213244481465\n",
      "Pr[Sci-Fi, Cluster 12]: \t 0.0058925900176575305\n",
      "Pr[Sci-Fi| Cluster 13]: \t 0.0033081285444234404\n",
      "Pr[Sci-Fi, Cluster 13]: \t 0.00027353827198069674\n",
      "Pr[Sci-Fi| Cluster 14]: \t 0.014652014652014652\n",
      "Pr[Sci-Fi, Cluster 14]: \t 0.0006345416626696937\n",
      "Pr[Sci-Fi| Cluster 15]: \t 0.03968027405081359\n",
      "Pr[Sci-Fi, Cluster 15]: \t 0.0033753249604814278\n"
     ]
    }
   ],
   "source": [
    "target_genre = \"Sci-Fi\"\n",
    "\n",
    "per_cluster_prs = []\n",
    "for cluster_id,group in cluster_df.groupby(\"cluster\"):\n",
    "\n",
    "    this_cluster_genre_count = sum([\n",
    "        1 if target_genre in movie_actor_map[m][\"genres\"] else 0 \n",
    "        for m in group[\"movie_id\"]\n",
    "    ])\n",
    "    this_cluster_total_genre_count = len([g for m in group[\"movie_id\"] for g in movie_actor_map[m][\"genres\"]])\n",
    "    \n",
    "    # Calculate conditional probability\n",
    "    pr_genre_given_cluster = this_cluster_genre_count / this_cluster_total_genre_count\n",
    "    print(\"Pr[%s| Cluster %02d]:\" % (target_genre, cluster_id), \"\\t\", pr_genre_given_cluster)\n",
    "    \n",
    "    # Calculate joint probability\n",
    "    joint_pr_genre_cluster = pr_genre_given_cluster * group.shape[0] / cluster_df.shape[0]\n",
    "    print(\"Pr[%s, Cluster %02d]:\" % (target_genre, cluster_id), \"\\t\", joint_pr_genre_cluster)\n",
    "    per_cluster_prs.append(joint_pr_genre_cluster)"
   ]
  },
  {
   "cell_type": "code",
   "execution_count": 24,
   "id": "ebb367a0",
   "metadata": {},
   "outputs": [
    {
     "name": "stdout",
     "output_type": "stream",
     "text": [
      "Probability of Target Genre: 0.026453157873263466\n"
     ]
    }
   ],
   "source": [
    "pr_target_genre = sum(per_cluster_prs)\n",
    "print(\"Probability of Target Genre:\", pr_target_genre)"
   ]
  },
  {
   "cell_type": "code",
   "execution_count": null,
   "id": "9fcafa2a",
   "metadata": {},
   "outputs": [],
   "source": []
  },
  {
   "cell_type": "code",
   "execution_count": 25,
   "id": "2120664a",
   "metadata": {},
   "outputs": [
    {
     "name": "stdout",
     "output_type": "stream",
     "text": [
      "Pr[Cluster 00 | Sci-Fi]: \t 0.23479801296116345\n",
      "Pr[Cluster 01 | Sci-Fi]: \t 0.031215804131504675\n",
      "Pr[Cluster 02 | Sci-Fi]: \t 0.17089814423060515\n",
      "Pr[Cluster 03 | Sci-Fi]: \t 0.018820897805403452\n",
      "Pr[Cluster 04 | Sci-Fi]: \t 0.0399160369672494\n",
      "Pr[Cluster 05 | Sci-Fi]: \t 0.0\n",
      "Pr[Cluster 06 | Sci-Fi]: \t 0.0950672523376236\n",
      "Pr[Cluster 07 | Sci-Fi]: \t 0.0\n",
      "Pr[Cluster 08 | Sci-Fi]: \t 0.008426484691568635\n",
      "Pr[Cluster 09 | Sci-Fi]: \t 0.01586902476537074\n",
      "Pr[Cluster 10 | Sci-Fi]: \t 0.0012750921662397074\n",
      "Pr[Cluster 11 | Sci-Fi]: \t 0.04225177756594118\n",
      "Pr[Cluster 12 | Sci-Fi]: \t 0.23840134570964586\n",
      "Pr[Cluster 13 | Sci-Fi]: \t 0.011066762144978273\n",
      "Pr[Cluster 14 | Sci-Fi]: \t 0.02567217231064506\n",
      "Pr[Cluster 15 | Sci-Fi]: \t 0.1365582893727287\n"
     ]
    }
   ],
   "source": [
    "for cluster_id,cluster_genre_pr in enumerate(per_cluster_prs):\n",
    "\n",
    "    pr_cluster_given_genre = cluster_genre_pr / genre_pr_map[target_genre]\n",
    "\n",
    "    print(\"Pr[Cluster %02d | %s]:\" % (cluster_id, target_genre), \"\\t\", pr_cluster_given_genre)\n",
    "    "
   ]
  },
  {
   "cell_type": "code",
   "execution_count": null,
   "id": "f8cd43ca",
   "metadata": {},
   "outputs": [],
   "source": []
  },
  {
   "cell_type": "markdown",
   "id": "f7948e43",
   "metadata": {},
   "source": [
    "### Sample Titles in Each Cluster\n",
    "\n",
    "We can use the above conditional probabilities to determine the most likely cluster given a movie genre.\n",
    "\n",
    "Here, we sample movies in the most likely cluster to get a sense of what movies are in that cluster."
   ]
  },
  {
   "cell_type": "code",
   "execution_count": 21,
   "id": "d1344723",
   "metadata": {},
   "outputs": [],
   "source": [
    "target_cluster = 0"
   ]
  },
  {
   "cell_type": "code",
   "execution_count": 22,
   "id": "61e5e5fb",
   "metadata": {},
   "outputs": [
    {
     "name": "stdout",
     "output_type": "stream",
     "text": [
      "tt13063384 Burial ['Thriller', 'War']\n",
      "tt0242264 American Saint ['']\n",
      "tt4151198 Give Till It Hurts ['Comedy', 'Drama']\n",
      "tt0454841 The Hills Have Eyes ['Horror', 'Thriller']\n",
      "tt3236976 Submerged ['Action', 'Thriller']\n",
      "tt1220628 I Hope They Serve Beer in Hell ['Comedy']\n",
      "tt7743512 Shakespeare Monologues ['Comedy']\n",
      "tt0199725 Love & Basketball ['Drama', 'Romance', 'Sport']\n",
      "tt0282543 Happy Hour ['Comedy', 'Drama']\n",
      "tt0159784 Takedown ['Biography', 'Crime', 'Drama']\n"
     ]
    }
   ],
   "source": [
    "for movie_id in cluster_df[cluster_df[\"cluster\"] == target_cluster].sample(n=10, replace=False)[\"movie_id\"]:\n",
    "    this_movie = movie_actor_map[movie_id]\n",
    "    print(movie_id, this_movie[\"movie\"], this_movie[\"genres\"])"
   ]
  },
  {
   "cell_type": "code",
   "execution_count": null,
   "id": "ebc97a26",
   "metadata": {},
   "outputs": [],
   "source": []
  },
  {
   "cell_type": "markdown",
   "id": "0c890d2e",
   "metadata": {},
   "source": [
    "## Assess Actor-Specific Cluster Probabilities\n",
    "\n",
    "Above, we determine the most likely cluster given a movie genre. Here, we ask the same question for a given actor."
   ]
  },
  {
   "cell_type": "code",
   "execution_count": 21,
   "id": "28727b18",
   "metadata": {},
   "outputs": [],
   "source": [
    "#Setting the actor we will be comparing to\n",
    "# target_actor_id = 'nm1165110' # Chris Hemsworth\n",
    "# target_actor_id = 'nm0413168' # Hugh Jackman\n",
    "# target_actor_id = 'nm0005351' # Ryan Reynolds\n",
    "# target_actor_id = \"nm0000206\" # Keanu Reeves\n",
    "target_actor_id = 'nm0000115' # Nic Cage"
   ]
  },
  {
   "cell_type": "code",
   "execution_count": 22,
   "id": "44b0e017",
   "metadata": {},
   "outputs": [
    {
     "name": "stdout",
     "output_type": "stream",
     "text": [
      "Pr[nm0000115| Cluster 00]: \t 0.0\n",
      "Pr[nm0000115, Cluster 00]: \t 0.0\n",
      "Pr[nm0000115| Cluster 01]: \t 0.0\n",
      "Pr[nm0000115, Cluster 01]: \t 0.0\n",
      "Pr[nm0000115| Cluster 02]: \t 0.0\n",
      "Pr[nm0000115, Cluster 02]: \t 0.0\n",
      "Pr[nm0000115| Cluster 03]: \t 0.0\n",
      "Pr[nm0000115, Cluster 03]: \t 0.0\n",
      "Pr[nm0000115| Cluster 04]: \t 0.0\n",
      "Pr[nm0000115, Cluster 04]: \t 0.0\n",
      "Pr[nm0000115| Cluster 05]: \t 0.0\n",
      "Pr[nm0000115, Cluster 05]: \t 0.0\n",
      "Pr[nm0000115| Cluster 06]: \t 0.0\n",
      "Pr[nm0000115, Cluster 06]: \t 0.0\n",
      "Pr[nm0000115| Cluster 07]: \t 0.0\n",
      "Pr[nm0000115, Cluster 07]: \t 0.0\n",
      "Pr[nm0000115| Cluster 08]: \t 0.0\n",
      "Pr[nm0000115, Cluster 08]: \t 0.0\n",
      "Pr[nm0000115| Cluster 09]: \t 0.0\n",
      "Pr[nm0000115, Cluster 09]: \t 0.0\n",
      "Pr[nm0000115| Cluster 10]: \t 0.0\n",
      "Pr[nm0000115, Cluster 10]: \t 0.0\n",
      "Pr[nm0000115| Cluster 11]: \t 0.0\n",
      "Pr[nm0000115, Cluster 11]: \t 0.0\n",
      "Pr[nm0000115| Cluster 12]: \t 0.2033898305084746\n",
      "Pr[nm0000115, Cluster 12]: \t 0.002909796314258002\n",
      "Pr[nm0000115| Cluster 13]: \t 0.0\n",
      "Pr[nm0000115, Cluster 13]: \t 0.0\n",
      "Pr[nm0000115| Cluster 14]: \t 0.0013333333333333333\n",
      "Pr[nm0000115, Cluster 14]: \t 4.8496605237633365e-05\n",
      "Pr[nm0000115| Cluster 15]: \t 0.0\n",
      "Pr[nm0000115, Cluster 15]: \t 0.0\n"
     ]
    }
   ],
   "source": [
    "per_cluster_prs = []\n",
    "for cluster_id,group in cluster_df.groupby(\"cluster\"):\n",
    "\n",
    "    this_cluster_actor_count = sum([\n",
    "        1 if target_actor_id in movie_actor_map[m][\"actors\"] else 0 \n",
    "        for m in group[\"movie_id\"]\n",
    "    ])\n",
    "    \n",
    "    # Calculate conditional probability\n",
    "    pr_actor_given_cluster = this_cluster_actor_count / group.shape[0]\n",
    "    print(\"Pr[%s| Cluster %02d]:\" % (target_actor_id, cluster_id), \"\\t\", pr_actor_given_cluster)\n",
    "    \n",
    "    # Calculate joint probability\n",
    "    joint_pr_actor_cluster = pr_actor_given_cluster * group.shape[0] / cluster_df.shape[0]\n",
    "    print(\"Pr[%s, Cluster %02d]:\" % (target_actor_id, cluster_id), \"\\t\", joint_pr_actor_cluster)\n",
    "    per_cluster_prs.append(joint_pr_actor_cluster)"
   ]
  },
  {
   "cell_type": "code",
   "execution_count": 23,
   "id": "ac2090c5",
   "metadata": {},
   "outputs": [
    {
     "name": "stdout",
     "output_type": "stream",
     "text": [
      "Probability of Target Actor: 0.0029582929194956354\n"
     ]
    }
   ],
   "source": [
    "pr_target_actor = sum(per_cluster_prs)\n",
    "print(\"Probability of Target Actor:\", pr_target_actor)"
   ]
  },
  {
   "cell_type": "code",
   "execution_count": null,
   "id": "c80bd689",
   "metadata": {},
   "outputs": [],
   "source": []
  },
  {
   "cell_type": "code",
   "execution_count": 24,
   "id": "be868e98",
   "metadata": {},
   "outputs": [
    {
     "name": "stdout",
     "output_type": "stream",
     "text": [
      "Pr[Cluster 00 | nm0000115]: \t 0.0\n",
      "Pr[Cluster 01 | nm0000115]: \t 0.0\n",
      "Pr[Cluster 02 | nm0000115]: \t 0.0\n",
      "Pr[Cluster 03 | nm0000115]: \t 0.0\n",
      "Pr[Cluster 04 | nm0000115]: \t 0.0\n",
      "Pr[Cluster 05 | nm0000115]: \t 0.0\n",
      "Pr[Cluster 06 | nm0000115]: \t 0.0\n",
      "Pr[Cluster 07 | nm0000115]: \t 0.0\n",
      "Pr[Cluster 08 | nm0000115]: \t 0.0\n",
      "Pr[Cluster 09 | nm0000115]: \t 0.0\n",
      "Pr[Cluster 10 | nm0000115]: \t 0.0\n",
      "Pr[Cluster 11 | nm0000115]: \t 0.0\n",
      "Pr[Cluster 12 | nm0000115]: \t 0.9836065573770492\n",
      "Pr[Cluster 13 | nm0000115]: \t 0.0\n",
      "Pr[Cluster 14 | nm0000115]: \t 0.01639344262295082\n",
      "Pr[Cluster 15 | nm0000115]: \t 0.0\n"
     ]
    }
   ],
   "source": [
    "for cluster_id,cluster_actor_pr in enumerate(per_cluster_prs):\n",
    "\n",
    "    pr_cluster_given_actor = cluster_actor_pr / pr_target_actor\n",
    "\n",
    "    print(\"Pr[Cluster %02d | %s]:\" % (cluster_id, target_actor_id), \"\\t\", pr_cluster_given_actor)\n",
    "    "
   ]
  },
  {
   "cell_type": "code",
   "execution_count": null,
   "id": "40b77092",
   "metadata": {},
   "outputs": [],
   "source": []
  },
  {
   "cell_type": "code",
   "execution_count": 28,
   "id": "db754bbb",
   "metadata": {},
   "outputs": [],
   "source": [
    "target_cluster = 12"
   ]
  },
  {
   "cell_type": "code",
   "execution_count": 30,
   "id": "9d1cc41f",
   "metadata": {},
   "outputs": [
    {
     "name": "stdout",
     "output_type": "stream",
     "text": [
      "tt3460252 The Hateful Eight ['Crime', 'Drama', 'Mystery']\n",
      "tt5462326 Mom and Dad ['Comedy', 'Horror', 'Thriller']\n",
      "tt1252507 The Way Home ['Drama', 'Family']\n",
      "tt10328018 A Child of the King ['Biography', 'Drama']\n",
      "tt3481634 Inconceivable ['Drama', 'Thriller']\n",
      "tt1843866 Captain America: The Winter Soldier ['Action', 'Adventure', 'Sci-Fi']\n",
      "tt6143850 Distorted ['Crime', 'Mystery', 'Thriller']\n",
      "tt1227182 Subject: I Love You ['Drama', 'Romance', 'Thriller']\n",
      "tt1219289 Limitless ['Sci-Fi', 'Thriller']\n",
      "tt1860353 Turbo ['Adventure', 'Animation', 'Comedy']\n"
     ]
    }
   ],
   "source": [
    "for movie_id in cluster_df[cluster_df[\"cluster\"] == target_cluster].sample(n=10, replace=False)[\"movie_id\"]:\n",
    "    this_movie = movie_actor_map[movie_id]\n",
    "    print(movie_id, this_movie[\"movie\"], this_movie[\"genres\"])"
   ]
  },
  {
   "cell_type": "code",
   "execution_count": null,
   "id": "94c82f2a",
   "metadata": {},
   "outputs": [],
   "source": []
  }
 ],
 "metadata": {
  "kernelspec": {
   "display_name": "Python 3 (ipykernel)",
   "language": "python",
   "name": "python3"
  },
  "language_info": {
   "codemirror_mode": {
    "name": "ipython",
    "version": 3
   },
   "file_extension": ".py",
   "mimetype": "text/x-python",
   "name": "python",
   "nbconvert_exporter": "python",
   "pygments_lexer": "ipython3",
   "version": "3.11.5"
  }
 },
 "nbformat": 4,
 "nbformat_minor": 5
}
