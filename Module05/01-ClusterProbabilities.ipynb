{
 "cells": [
  {
   "cell_type": "markdown",
   "id": "56fb9ab7",
   "metadata": {},
   "source": [
    "# Probabilities and k-Means Clustering\n",
    "\n",
    "Using the IMDB data, construct a feature matrix, and apply `k-Means` to the data to extract clusters. \n",
    "\n",
    "We then inspect various aspects of probability associated with these clusterings."
   ]
  },
  {
   "cell_type": "code",
   "execution_count": 1,
   "id": "0be2c95c",
   "metadata": {},
   "outputs": [],
   "source": [
    "import json\n",
    "\n",
    "import pandas as pd\n",
    "import numpy as np"
   ]
  },
  {
   "cell_type": "code",
   "execution_count": null,
   "id": "32201009",
   "metadata": {},
   "outputs": [],
   "source": []
  },
  {
   "cell_type": "code",
   "execution_count": 2,
   "id": "14fb3d0a",
   "metadata": {},
   "outputs": [],
   "source": [
    "actor_name_map = {}\n",
    "movie_actor_map = {}\n",
    "actor_genre_map = {}\n",
    "\n",
    "\n",
    "with open(\"../data/imdb_movies_2000to2022.prolific.json\", \"r\") as in_file:\n",
    "    for line in in_file:\n",
    "        \n",
    "        # Read the movie on this line and parse its json\n",
    "        this_movie = json.loads(line)\n",
    "                    \n",
    "        # Add all actors to the id->name map\n",
    "        for actor_id,actor_name in this_movie['actors']:\n",
    "            actor_name_map[actor_id] = actor_name\n",
    "            \n",
    "        # For each actor, add this movie's genres to that actor's list\n",
    "        for actor_id,actor_name in this_movie['actors']:\n",
    "            this_actors_genres = actor_genre_map.get(actor_id, {})\n",
    "            \n",
    "            # Increment the count of genres for this actor\n",
    "            for g in this_movie[\"genres\"]:\n",
    "                this_actors_genres[g] = this_actors_genres.get(g, 0) + 1\n",
    "                \n",
    "            # Update the map\n",
    "            actor_genre_map[actor_id] = this_actors_genres\n",
    "            \n",
    "        # Finished with this film\n",
    "        movie_actor_map[this_movie[\"imdb_id\"]] = ({\n",
    "            \"movie\": this_movie[\"title\"],\n",
    "            \"actors\": set([item[0] for item in this_movie['actors']]),\n",
    "            \"genres\": this_movie[\"genres\"]\n",
    "        })"
   ]
  },
  {
   "cell_type": "code",
   "execution_count": 3,
   "id": "6f78e123",
   "metadata": {},
   "outputs": [
    {
     "name": "stdout",
     "output_type": "stream",
     "text": [
      "Known Actors: 33609\n",
      "Known Movies: 20620\n"
     ]
    }
   ],
   "source": [
    "print(\"Known Actors:\", len(actor_name_map))\n",
    "print(\"Known Movies:\", len(movie_actor_map))"
   ]
  },
  {
   "cell_type": "markdown",
   "id": "53438797",
   "metadata": {},
   "source": [
    "## Read CSV of Movies to Cluster IDs\n",
    "\n",
    "Using the provided movie-to-cluster mapping CSV file, we assess the distributions of movies per cluster and ask questions about genres and actors in each cluster."
   ]
  },
  {
   "cell_type": "code",
   "execution_count": 13,
   "id": "99adcaab",
   "metadata": {},
   "outputs": [],
   "source": [
    "cluster_df = pd.read_csv(\"movie_to_cluster.csv\")\n",
    "# cluster_df = pd.read_csv(\"actor_movie_clusters.csv\", index_col=\"movie\")"
   ]
  },
  {
   "cell_type": "code",
   "execution_count": 14,
   "id": "29426f2f",
   "metadata": {},
   "outputs": [
    {
     "data": {
      "text/html": [
       "<div>\n",
       "<style scoped>\n",
       "    .dataframe tbody tr th:only-of-type {\n",
       "        vertical-align: middle;\n",
       "    }\n",
       "\n",
       "    .dataframe tbody tr th {\n",
       "        vertical-align: top;\n",
       "    }\n",
       "\n",
       "    .dataframe thead th {\n",
       "        text-align: right;\n",
       "    }\n",
       "</style>\n",
       "<table border=\"1\" class=\"dataframe\">\n",
       "  <thead>\n",
       "    <tr style=\"text-align: right;\">\n",
       "      <th></th>\n",
       "      <th>movie_id</th>\n",
       "      <th>cluster</th>\n",
       "    </tr>\n",
       "  </thead>\n",
       "  <tbody>\n",
       "    <tr>\n",
       "      <th>0</th>\n",
       "      <td>tt0035423</td>\n",
       "      <td>1</td>\n",
       "    </tr>\n",
       "    <tr>\n",
       "      <th>1</th>\n",
       "      <td>tt0088751</td>\n",
       "      <td>4</td>\n",
       "    </tr>\n",
       "    <tr>\n",
       "      <th>2</th>\n",
       "      <td>tt0096056</td>\n",
       "      <td>14</td>\n",
       "    </tr>\n",
       "    <tr>\n",
       "      <th>3</th>\n",
       "      <td>tt0113092</td>\n",
       "      <td>12</td>\n",
       "    </tr>\n",
       "    <tr>\n",
       "      <th>4</th>\n",
       "      <td>tt0116391</td>\n",
       "      <td>8</td>\n",
       "    </tr>\n",
       "    <tr>\n",
       "      <th>...</th>\n",
       "      <td>...</td>\n",
       "      <td>...</td>\n",
       "    </tr>\n",
       "    <tr>\n",
       "      <th>20615</th>\n",
       "      <td>tt9906278</td>\n",
       "      <td>6</td>\n",
       "    </tr>\n",
       "    <tr>\n",
       "      <th>20616</th>\n",
       "      <td>tt9906644</td>\n",
       "      <td>2</td>\n",
       "    </tr>\n",
       "    <tr>\n",
       "      <th>20617</th>\n",
       "      <td>tt9906844</td>\n",
       "      <td>6</td>\n",
       "    </tr>\n",
       "    <tr>\n",
       "      <th>20618</th>\n",
       "      <td>tt9907032</td>\n",
       "      <td>6</td>\n",
       "    </tr>\n",
       "    <tr>\n",
       "      <th>20619</th>\n",
       "      <td>tt9907608</td>\n",
       "      <td>6</td>\n",
       "    </tr>\n",
       "  </tbody>\n",
       "</table>\n",
       "<p>20620 rows × 2 columns</p>\n",
       "</div>"
      ],
      "text/plain": [
       "        movie_id  cluster\n",
       "0      tt0035423        1\n",
       "1      tt0088751        4\n",
       "2      tt0096056       14\n",
       "3      tt0113092       12\n",
       "4      tt0116391        8\n",
       "...          ...      ...\n",
       "20615  tt9906278        6\n",
       "20616  tt9906644        2\n",
       "20617  tt9906844        6\n",
       "20618  tt9907032        6\n",
       "20619  tt9907608        6\n",
       "\n",
       "[20620 rows x 2 columns]"
      ]
     },
     "execution_count": 14,
     "metadata": {},
     "output_type": "execute_result"
    }
   ],
   "source": [
    "cluster_df"
   ]
  },
  {
   "cell_type": "code",
   "execution_count": 15,
   "id": "8290713b",
   "metadata": {},
   "outputs": [
    {
     "data": {
      "text/plain": [
       "6     4119\n",
       "2     3616\n",
       "0     3507\n",
       "13    1551\n",
       "1     1380\n",
       "3     1252\n",
       "8     1072\n",
       "4      845\n",
       "14     750\n",
       "7      638\n",
       "10     553\n",
       "9      483\n",
       "5      318\n",
       "12     295\n",
       "11     194\n",
       "15      47\n",
       "Name: cluster, dtype: int64"
      ]
     },
     "execution_count": 15,
     "metadata": {},
     "output_type": "execute_result"
    }
   ],
   "source": [
    "cluster_df[\"cluster\"].value_counts()"
   ]
  },
  {
   "cell_type": "code",
   "execution_count": 16,
   "id": "b6aea538",
   "metadata": {},
   "outputs": [
    {
     "data": {
      "text/plain": [
       "6     0.199758\n",
       "2     0.175364\n",
       "0     0.170078\n",
       "13    0.075218\n",
       "1     0.066925\n",
       "3     0.060718\n",
       "8     0.051988\n",
       "4     0.040980\n",
       "14    0.036372\n",
       "7     0.030941\n",
       "10    0.026819\n",
       "9     0.023424\n",
       "5     0.015422\n",
       "12    0.014306\n",
       "11    0.009408\n",
       "15    0.002279\n",
       "Name: cluster, dtype: float64"
      ]
     },
     "execution_count": 16,
     "metadata": {},
     "output_type": "execute_result"
    }
   ],
   "source": [
    "cluster_pr_map = {cluster_id:cluster_pr for cluster_id,cluster_pr in (cluster_df[\"cluster\"].value_counts() / cluster_df.shape[0]).items()}\n",
    "cluster_df[\"cluster\"].value_counts() / cluster_df.shape[0]"
   ]
  },
  {
   "cell_type": "code",
   "execution_count": null,
   "id": "c2f9f0cd",
   "metadata": {},
   "outputs": [],
   "source": []
  },
  {
   "cell_type": "markdown",
   "id": "fd1790d5",
   "metadata": {},
   "source": [
    "## Assess Genre-Specific Cluster Probabilities\n",
    "\n",
    "We want to determine, for a new movie with a known genre, to which cluster is it most likely to be assigned?"
   ]
  },
  {
   "cell_type": "code",
   "execution_count": 17,
   "id": "f19a7c86",
   "metadata": {},
   "outputs": [
    {
     "data": {
      "text/html": [
       "<div>\n",
       "<style scoped>\n",
       "    .dataframe tbody tr th:only-of-type {\n",
       "        vertical-align: middle;\n",
       "    }\n",
       "\n",
       "    .dataframe tbody tr th {\n",
       "        vertical-align: top;\n",
       "    }\n",
       "\n",
       "    .dataframe thead th {\n",
       "        text-align: right;\n",
       "    }\n",
       "</style>\n",
       "<table border=\"1\" class=\"dataframe\">\n",
       "  <thead>\n",
       "    <tr style=\"text-align: right;\">\n",
       "      <th></th>\n",
       "      <th>genre</th>\n",
       "      <th>probability</th>\n",
       "    </tr>\n",
       "  </thead>\n",
       "  <tbody>\n",
       "    <tr>\n",
       "      <th>5</th>\n",
       "      <td>Drama</td>\n",
       "      <td>0.492580</td>\n",
       "    </tr>\n",
       "    <tr>\n",
       "      <th>0</th>\n",
       "      <td>Comedy</td>\n",
       "      <td>0.291804</td>\n",
       "    </tr>\n",
       "    <tr>\n",
       "      <th>10</th>\n",
       "      <td>Thriller</td>\n",
       "      <td>0.194180</td>\n",
       "    </tr>\n",
       "    <tr>\n",
       "      <th>6</th>\n",
       "      <td>Action</td>\n",
       "      <td>0.181523</td>\n",
       "    </tr>\n",
       "    <tr>\n",
       "      <th>3</th>\n",
       "      <td>Horror</td>\n",
       "      <td>0.149224</td>\n",
       "    </tr>\n",
       "    <tr>\n",
       "      <th>8</th>\n",
       "      <td>Crime</td>\n",
       "      <td>0.134481</td>\n",
       "    </tr>\n",
       "    <tr>\n",
       "      <th>2</th>\n",
       "      <td>Romance</td>\n",
       "      <td>0.122260</td>\n",
       "    </tr>\n",
       "    <tr>\n",
       "      <th>7</th>\n",
       "      <td>Adventure</td>\n",
       "      <td>0.080844</td>\n",
       "    </tr>\n",
       "    <tr>\n",
       "      <th>9</th>\n",
       "      <td>Mystery</td>\n",
       "      <td>0.074442</td>\n",
       "    </tr>\n",
       "    <tr>\n",
       "      <th>4</th>\n",
       "      <td>Sci-Fi</td>\n",
       "      <td>0.051164</td>\n",
       "    </tr>\n",
       "    <tr>\n",
       "      <th>12</th>\n",
       "      <td>Family</td>\n",
       "      <td>0.047430</td>\n",
       "    </tr>\n",
       "    <tr>\n",
       "      <th>1</th>\n",
       "      <td>Fantasy</td>\n",
       "      <td>0.042532</td>\n",
       "    </tr>\n",
       "    <tr>\n",
       "      <th>13</th>\n",
       "      <td>Biography</td>\n",
       "      <td>0.039331</td>\n",
       "    </tr>\n",
       "    <tr>\n",
       "      <th>20</th>\n",
       "      <td>Documentary</td>\n",
       "      <td>0.038603</td>\n",
       "    </tr>\n",
       "    <tr>\n",
       "      <th>11</th>\n",
       "      <td>Animation</td>\n",
       "      <td>0.030068</td>\n",
       "    </tr>\n",
       "    <tr>\n",
       "      <th>14</th>\n",
       "      <td>Sport</td>\n",
       "      <td>0.021387</td>\n",
       "    </tr>\n",
       "    <tr>\n",
       "      <th>18</th>\n",
       "      <td>History</td>\n",
       "      <td>0.021096</td>\n",
       "    </tr>\n",
       "    <tr>\n",
       "      <th>15</th>\n",
       "      <td>Music</td>\n",
       "      <td>0.018914</td>\n",
       "    </tr>\n",
       "    <tr>\n",
       "      <th>17</th>\n",
       "      <td>War</td>\n",
       "      <td>0.011251</td>\n",
       "    </tr>\n",
       "    <tr>\n",
       "      <th>16</th>\n",
       "      <td>Western</td>\n",
       "      <td>0.010233</td>\n",
       "    </tr>\n",
       "    <tr>\n",
       "      <th>19</th>\n",
       "      <td>Musical</td>\n",
       "      <td>0.008147</td>\n",
       "    </tr>\n",
       "    <tr>\n",
       "      <th>21</th>\n",
       "      <td></td>\n",
       "      <td>0.006984</td>\n",
       "    </tr>\n",
       "    <tr>\n",
       "      <th>23</th>\n",
       "      <td>News</td>\n",
       "      <td>0.001358</td>\n",
       "    </tr>\n",
       "    <tr>\n",
       "      <th>24</th>\n",
       "      <td>Reality-TV</td>\n",
       "      <td>0.000097</td>\n",
       "    </tr>\n",
       "    <tr>\n",
       "      <th>22</th>\n",
       "      <td>Short</td>\n",
       "      <td>0.000048</td>\n",
       "    </tr>\n",
       "  </tbody>\n",
       "</table>\n",
       "</div>"
      ],
      "text/plain": [
       "          genre  probability\n",
       "5         Drama     0.492580\n",
       "0        Comedy     0.291804\n",
       "10     Thriller     0.194180\n",
       "6        Action     0.181523\n",
       "3        Horror     0.149224\n",
       "8         Crime     0.134481\n",
       "2       Romance     0.122260\n",
       "7     Adventure     0.080844\n",
       "9       Mystery     0.074442\n",
       "4        Sci-Fi     0.051164\n",
       "12       Family     0.047430\n",
       "1       Fantasy     0.042532\n",
       "13    Biography     0.039331\n",
       "20  Documentary     0.038603\n",
       "11    Animation     0.030068\n",
       "14        Sport     0.021387\n",
       "18      History     0.021096\n",
       "15        Music     0.018914\n",
       "17          War     0.011251\n",
       "16      Western     0.010233\n",
       "19      Musical     0.008147\n",
       "21                  0.006984\n",
       "23         News     0.001358\n",
       "24   Reality-TV     0.000097\n",
       "22        Short     0.000048"
      ]
     },
     "execution_count": 17,
     "metadata": {},
     "output_type": "execute_result"
    }
   ],
   "source": [
    "# For each genre, count the number of movies\n",
    "genre_counts = {}\n",
    "\n",
    "# For each movie, get its genres and update the genre count\n",
    "for movie_id in movie_actor_map.keys():\n",
    "    for genre in movie_actor_map[movie_id][\"genres\"]:\n",
    "        genre_counts[genre] = genre_counts.get(genre, 0) + 1\n",
    "        \n",
    "genre_prs = []\n",
    "for genre,g_count in genre_counts.items():\n",
    "    genre_prs.append((genre, g_count/len(movie_actor_map)))\n",
    "    \n",
    "genre_prs_df = pd.DataFrame(genre_prs, columns=[\"genre\", \"probability\"])\n",
    "genre_pr_map = {row[\"genre\"]:row[\"probability\"] for idx,row in genre_prs_df.iterrows()}\n",
    "\n",
    "genre_prs_df.sort_values(by=\"probability\", ascending=False)"
   ]
  },
  {
   "cell_type": "code",
   "execution_count": null,
   "id": "b8931375",
   "metadata": {},
   "outputs": [],
   "source": []
  },
  {
   "cell_type": "code",
   "execution_count": 18,
   "id": "3101b92f",
   "metadata": {},
   "outputs": [
    {
     "name": "stdout",
     "output_type": "stream",
     "text": [
      "Pr[Sci-Fi| Cluster 00]: \t 0.043341887653264896\n",
      "Pr[Sci-Fi, Cluster 00]: \t 0.007371483996120271\n",
      "Pr[Sci-Fi| Cluster 01]: \t 0.06739130434782609\n",
      "Pr[Sci-Fi, Cluster 01]: \t 0.004510184287099903\n",
      "Pr[Sci-Fi| Cluster 02]: \t 0.042588495575221236\n",
      "Pr[Sci-Fi, Cluster 02]: \t 0.007468477206595539\n",
      "Pr[Sci-Fi| Cluster 03]: \t 0.04952076677316294\n",
      "Pr[Sci-Fi, Cluster 03]: \t 0.0030067895247332687\n",
      "Pr[Sci-Fi| Cluster 04]: \t 0.05680473372781065\n",
      "Pr[Sci-Fi, Cluster 04]: \t 0.0023278370514064014\n",
      "Pr[Sci-Fi| Cluster 05]: \t 0.07547169811320754\n",
      "Pr[Sci-Fi, Cluster 05]: \t 0.0011639185257032007\n",
      "Pr[Sci-Fi| Cluster 06]: \t 0.05195435785384802\n",
      "Pr[Sci-Fi, Cluster 06]: \t 0.01037827352085354\n",
      "Pr[Sci-Fi| Cluster 07]: \t 0.06896551724137931\n",
      "Pr[Sci-Fi, Cluster 07]: \t 0.002133850630455868\n",
      "Pr[Sci-Fi| Cluster 08]: \t 0.03917910447761194\n",
      "Pr[Sci-Fi, Cluster 08]: \t 0.0020368574199806015\n",
      "Pr[Sci-Fi| Cluster 09]: \t 0.055900621118012424\n",
      "Pr[Sci-Fi, Cluster 09]: \t 0.0013094083414161009\n",
      "Pr[Sci-Fi| Cluster 10]: \t 0.048824593128390596\n",
      "Pr[Sci-Fi, Cluster 10]: \t 0.0013094083414161009\n",
      "Pr[Sci-Fi| Cluster 11]: \t 0.08762886597938144\n",
      "Pr[Sci-Fi, Cluster 11]: \t 0.0008244422890397673\n",
      "Pr[Sci-Fi| Cluster 12]: \t 0.08135593220338982\n",
      "Pr[Sci-Fi, Cluster 12]: \t 0.0011639185257032007\n",
      "Pr[Sci-Fi| Cluster 13]: \t 0.04642166344294004\n",
      "Pr[Sci-Fi, Cluster 13]: \t 0.0034917555771096023\n",
      "Pr[Sci-Fi| Cluster 14]: \t 0.07066666666666667\n",
      "Pr[Sci-Fi, Cluster 14]: \t 0.0025703200775945684\n",
      "Pr[Sci-Fi| Cluster 15]: \t 0.0425531914893617\n",
      "Pr[Sci-Fi, Cluster 15]: \t 9.699321047526673e-05\n"
     ]
    }
   ],
   "source": [
    "target_genre = \"Sci-Fi\"\n",
    "\n",
    "per_cluster_prs = []\n",
    "for cluster_id,group in cluster_df.groupby(\"cluster\"):\n",
    "\n",
    "    this_cluster_genre_count = sum([\n",
    "        1 if target_genre in movie_actor_map[m][\"genres\"] else 0 \n",
    "        for m in group[\"movie_id\"]\n",
    "    ])\n",
    "    \n",
    "    # Calculate conditional probability\n",
    "    pr_genre_given_cluster = this_cluster_genre_count / group.shape[0]\n",
    "    print(\"Pr[%s| Cluster %02d]:\" % (target_genre, cluster_id), \"\\t\", pr_genre_given_cluster)\n",
    "    \n",
    "    # Calculate joint probability\n",
    "    joint_pr_genre_cluster = pr_genre_given_cluster * group.shape[0] / cluster_df.shape[0]\n",
    "    print(\"Pr[%s, Cluster %02d]:\" % (target_genre, cluster_id), \"\\t\", joint_pr_genre_cluster)\n",
    "    per_cluster_prs.append(joint_pr_genre_cluster)"
   ]
  },
  {
   "cell_type": "code",
   "execution_count": 19,
   "id": "ebb367a0",
   "metadata": {},
   "outputs": [
    {
     "name": "stdout",
     "output_type": "stream",
     "text": [
      "Probability of Target Genre: 0.051163918525703206\n"
     ]
    }
   ],
   "source": [
    "pr_target_genre = sum(per_cluster_prs)\n",
    "print(\"Probability of Target Genre:\", pr_target_genre)"
   ]
  },
  {
   "cell_type": "code",
   "execution_count": null,
   "id": "9fcafa2a",
   "metadata": {},
   "outputs": [],
   "source": []
  },
  {
   "cell_type": "code",
   "execution_count": 20,
   "id": "2120664a",
   "metadata": {},
   "outputs": [
    {
     "name": "stdout",
     "output_type": "stream",
     "text": [
      "Pr[Cluster 00 | Sci-Fi]: \t 0.14407582938388624\n",
      "Pr[Cluster 01 | Sci-Fi]: \t 0.08815165876777252\n",
      "Pr[Cluster 02 | Sci-Fi]: \t 0.14597156398104266\n",
      "Pr[Cluster 03 | Sci-Fi]: \t 0.058767772511848344\n",
      "Pr[Cluster 04 | Sci-Fi]: \t 0.04549763033175355\n",
      "Pr[Cluster 05 | Sci-Fi]: \t 0.022748815165876776\n",
      "Pr[Cluster 06 | Sci-Fi]: \t 0.20284360189573458\n",
      "Pr[Cluster 07 | Sci-Fi]: \t 0.04170616113744076\n",
      "Pr[Cluster 08 | Sci-Fi]: \t 0.03981042654028436\n",
      "Pr[Cluster 09 | Sci-Fi]: \t 0.025592417061611375\n",
      "Pr[Cluster 10 | Sci-Fi]: \t 0.025592417061611375\n",
      "Pr[Cluster 11 | Sci-Fi]: \t 0.016113744075829384\n",
      "Pr[Cluster 12 | Sci-Fi]: \t 0.022748815165876776\n",
      "Pr[Cluster 13 | Sci-Fi]: \t 0.06824644549763033\n",
      "Pr[Cluster 14 | Sci-Fi]: \t 0.050236966824644555\n",
      "Pr[Cluster 15 | Sci-Fi]: \t 0.0018957345971563982\n"
     ]
    }
   ],
   "source": [
    "for cluster_id,cluster_genre_pr in enumerate(per_cluster_prs):\n",
    "\n",
    "    pr_cluster_given_genre = cluster_genre_pr / genre_pr_map[target_genre]\n",
    "\n",
    "    print(\"Pr[Cluster %02d | %s]:\" % (cluster_id, target_genre), \"\\t\", pr_cluster_given_genre)\n",
    "    "
   ]
  },
  {
   "cell_type": "code",
   "execution_count": null,
   "id": "f8cd43ca",
   "metadata": {},
   "outputs": [],
   "source": []
  },
  {
   "cell_type": "markdown",
   "id": "f7948e43",
   "metadata": {},
   "source": [
    "### Sample Titles in Each Cluster\n",
    "\n",
    "We can use the above conditional probabilities to determine the most likely cluster given a movie genre.\n",
    "\n",
    "Here, we sample movies in the most likely cluster to get a sense of what movies are in that cluster."
   ]
  },
  {
   "cell_type": "code",
   "execution_count": 21,
   "id": "d1344723",
   "metadata": {},
   "outputs": [],
   "source": [
    "target_cluster = 0"
   ]
  },
  {
   "cell_type": "code",
   "execution_count": 22,
   "id": "61e5e5fb",
   "metadata": {},
   "outputs": [
    {
     "name": "stdout",
     "output_type": "stream",
     "text": [
      "tt13063384 Burial ['Thriller', 'War']\n",
      "tt0242264 American Saint ['']\n",
      "tt4151198 Give Till It Hurts ['Comedy', 'Drama']\n",
      "tt0454841 The Hills Have Eyes ['Horror', 'Thriller']\n",
      "tt3236976 Submerged ['Action', 'Thriller']\n",
      "tt1220628 I Hope They Serve Beer in Hell ['Comedy']\n",
      "tt7743512 Shakespeare Monologues ['Comedy']\n",
      "tt0199725 Love & Basketball ['Drama', 'Romance', 'Sport']\n",
      "tt0282543 Happy Hour ['Comedy', 'Drama']\n",
      "tt0159784 Takedown ['Biography', 'Crime', 'Drama']\n"
     ]
    }
   ],
   "source": [
    "for movie_id in cluster_df[cluster_df[\"cluster\"] == target_cluster].sample(n=10, replace=False)[\"movie_id\"]:\n",
    "    this_movie = movie_actor_map[movie_id]\n",
    "    print(movie_id, this_movie[\"movie\"], this_movie[\"genres\"])"
   ]
  },
  {
   "cell_type": "code",
   "execution_count": null,
   "id": "ebc97a26",
   "metadata": {},
   "outputs": [],
   "source": []
  },
  {
   "cell_type": "markdown",
   "id": "0c890d2e",
   "metadata": {},
   "source": [
    "## Assess Actor-Specific Cluster Probabilities\n",
    "\n",
    "Above, we determine the most likely cluster given a movie genre. Here, we ask the same question for a given actor."
   ]
  },
  {
   "cell_type": "code",
   "execution_count": 21,
   "id": "28727b18",
   "metadata": {},
   "outputs": [],
   "source": [
    "#Setting the actor we will be comparing to\n",
    "# target_actor_id = 'nm1165110' # Chris Hemsworth\n",
    "# target_actor_id = 'nm0413168' # Hugh Jackman\n",
    "# target_actor_id = 'nm0005351' # Ryan Reynolds\n",
    "# target_actor_id = \"nm0000206\" # Keanu Reeves\n",
    "target_actor_id = 'nm0000115' # Nic Cage"
   ]
  },
  {
   "cell_type": "code",
   "execution_count": 22,
   "id": "44b0e017",
   "metadata": {},
   "outputs": [
    {
     "name": "stdout",
     "output_type": "stream",
     "text": [
      "Pr[nm0000115| Cluster 00]: \t 0.0\n",
      "Pr[nm0000115, Cluster 00]: \t 0.0\n",
      "Pr[nm0000115| Cluster 01]: \t 0.0\n",
      "Pr[nm0000115, Cluster 01]: \t 0.0\n",
      "Pr[nm0000115| Cluster 02]: \t 0.0\n",
      "Pr[nm0000115, Cluster 02]: \t 0.0\n",
      "Pr[nm0000115| Cluster 03]: \t 0.0\n",
      "Pr[nm0000115, Cluster 03]: \t 0.0\n",
      "Pr[nm0000115| Cluster 04]: \t 0.0\n",
      "Pr[nm0000115, Cluster 04]: \t 0.0\n",
      "Pr[nm0000115| Cluster 05]: \t 0.0\n",
      "Pr[nm0000115, Cluster 05]: \t 0.0\n",
      "Pr[nm0000115| Cluster 06]: \t 0.0\n",
      "Pr[nm0000115, Cluster 06]: \t 0.0\n",
      "Pr[nm0000115| Cluster 07]: \t 0.0\n",
      "Pr[nm0000115, Cluster 07]: \t 0.0\n",
      "Pr[nm0000115| Cluster 08]: \t 0.0\n",
      "Pr[nm0000115, Cluster 08]: \t 0.0\n",
      "Pr[nm0000115| Cluster 09]: \t 0.0\n",
      "Pr[nm0000115, Cluster 09]: \t 0.0\n",
      "Pr[nm0000115| Cluster 10]: \t 0.0\n",
      "Pr[nm0000115, Cluster 10]: \t 0.0\n",
      "Pr[nm0000115| Cluster 11]: \t 0.0\n",
      "Pr[nm0000115, Cluster 11]: \t 0.0\n",
      "Pr[nm0000115| Cluster 12]: \t 0.2033898305084746\n",
      "Pr[nm0000115, Cluster 12]: \t 0.002909796314258002\n",
      "Pr[nm0000115| Cluster 13]: \t 0.0\n",
      "Pr[nm0000115, Cluster 13]: \t 0.0\n",
      "Pr[nm0000115| Cluster 14]: \t 0.0013333333333333333\n",
      "Pr[nm0000115, Cluster 14]: \t 4.8496605237633365e-05\n",
      "Pr[nm0000115| Cluster 15]: \t 0.0\n",
      "Pr[nm0000115, Cluster 15]: \t 0.0\n"
     ]
    }
   ],
   "source": [
    "per_cluster_prs = []\n",
    "for cluster_id,group in cluster_df.groupby(\"cluster\"):\n",
    "\n",
    "    this_cluster_actor_count = sum([\n",
    "        1 if target_actor_id in movie_actor_map[m][\"actors\"] else 0 \n",
    "        for m in group[\"movie_id\"]\n",
    "    ])\n",
    "    \n",
    "    # Calculate conditional probability\n",
    "    pr_actor_given_cluster = this_cluster_actor_count / group.shape[0]\n",
    "    print(\"Pr[%s| Cluster %02d]:\" % (target_actor_id, cluster_id), \"\\t\", pr_actor_given_cluster)\n",
    "    \n",
    "    # Calculate joint probability\n",
    "    joint_pr_actor_cluster = pr_actor_given_cluster * group.shape[0] / cluster_df.shape[0]\n",
    "    print(\"Pr[%s, Cluster %02d]:\" % (target_actor_id, cluster_id), \"\\t\", joint_pr_actor_cluster)\n",
    "    per_cluster_prs.append(joint_pr_actor_cluster)"
   ]
  },
  {
   "cell_type": "code",
   "execution_count": 23,
   "id": "ac2090c5",
   "metadata": {},
   "outputs": [
    {
     "name": "stdout",
     "output_type": "stream",
     "text": [
      "Probability of Target Actor: 0.0029582929194956354\n"
     ]
    }
   ],
   "source": [
    "pr_target_actor = sum(per_cluster_prs)\n",
    "print(\"Probability of Target Actor:\", pr_target_actor)"
   ]
  },
  {
   "cell_type": "code",
   "execution_count": null,
   "id": "c80bd689",
   "metadata": {},
   "outputs": [],
   "source": []
  },
  {
   "cell_type": "code",
   "execution_count": 24,
   "id": "be868e98",
   "metadata": {},
   "outputs": [
    {
     "name": "stdout",
     "output_type": "stream",
     "text": [
      "Pr[Cluster 00 | nm0000115]: \t 0.0\n",
      "Pr[Cluster 01 | nm0000115]: \t 0.0\n",
      "Pr[Cluster 02 | nm0000115]: \t 0.0\n",
      "Pr[Cluster 03 | nm0000115]: \t 0.0\n",
      "Pr[Cluster 04 | nm0000115]: \t 0.0\n",
      "Pr[Cluster 05 | nm0000115]: \t 0.0\n",
      "Pr[Cluster 06 | nm0000115]: \t 0.0\n",
      "Pr[Cluster 07 | nm0000115]: \t 0.0\n",
      "Pr[Cluster 08 | nm0000115]: \t 0.0\n",
      "Pr[Cluster 09 | nm0000115]: \t 0.0\n",
      "Pr[Cluster 10 | nm0000115]: \t 0.0\n",
      "Pr[Cluster 11 | nm0000115]: \t 0.0\n",
      "Pr[Cluster 12 | nm0000115]: \t 0.9836065573770492\n",
      "Pr[Cluster 13 | nm0000115]: \t 0.0\n",
      "Pr[Cluster 14 | nm0000115]: \t 0.01639344262295082\n",
      "Pr[Cluster 15 | nm0000115]: \t 0.0\n"
     ]
    }
   ],
   "source": [
    "for cluster_id,cluster_actor_pr in enumerate(per_cluster_prs):\n",
    "\n",
    "    pr_cluster_given_actor = cluster_actor_pr / pr_target_actor\n",
    "\n",
    "    print(\"Pr[Cluster %02d | %s]:\" % (cluster_id, target_actor_id), \"\\t\", pr_cluster_given_actor)\n",
    "    "
   ]
  },
  {
   "cell_type": "code",
   "execution_count": null,
   "id": "40b77092",
   "metadata": {},
   "outputs": [],
   "source": []
  },
  {
   "cell_type": "code",
   "execution_count": 28,
   "id": "db754bbb",
   "metadata": {},
   "outputs": [],
   "source": [
    "target_cluster = 12"
   ]
  },
  {
   "cell_type": "code",
   "execution_count": 30,
   "id": "9d1cc41f",
   "metadata": {},
   "outputs": [
    {
     "name": "stdout",
     "output_type": "stream",
     "text": [
      "tt3460252 The Hateful Eight ['Crime', 'Drama', 'Mystery']\n",
      "tt5462326 Mom and Dad ['Comedy', 'Horror', 'Thriller']\n",
      "tt1252507 The Way Home ['Drama', 'Family']\n",
      "tt10328018 A Child of the King ['Biography', 'Drama']\n",
      "tt3481634 Inconceivable ['Drama', 'Thriller']\n",
      "tt1843866 Captain America: The Winter Soldier ['Action', 'Adventure', 'Sci-Fi']\n",
      "tt6143850 Distorted ['Crime', 'Mystery', 'Thriller']\n",
      "tt1227182 Subject: I Love You ['Drama', 'Romance', 'Thriller']\n",
      "tt1219289 Limitless ['Sci-Fi', 'Thriller']\n",
      "tt1860353 Turbo ['Adventure', 'Animation', 'Comedy']\n"
     ]
    }
   ],
   "source": [
    "for movie_id in cluster_df[cluster_df[\"cluster\"] == target_cluster].sample(n=10, replace=False)[\"movie_id\"]:\n",
    "    this_movie = movie_actor_map[movie_id]\n",
    "    print(movie_id, this_movie[\"movie\"], this_movie[\"genres\"])"
   ]
  },
  {
   "cell_type": "code",
   "execution_count": null,
   "id": "94c82f2a",
   "metadata": {},
   "outputs": [],
   "source": []
  }
 ],
 "metadata": {
  "kernelspec": {
   "display_name": "Python 3 (ipykernel)",
   "language": "python",
   "name": "python3"
  },
  "language_info": {
   "codemirror_mode": {
    "name": "ipython",
    "version": 3
   },
   "file_extension": ".py",
   "mimetype": "text/x-python",
   "name": "python",
   "nbconvert_exporter": "python",
   "pygments_lexer": "ipython3",
   "version": "3.9.12"
  }
 },
 "nbformat": 4,
 "nbformat_minor": 5
}
